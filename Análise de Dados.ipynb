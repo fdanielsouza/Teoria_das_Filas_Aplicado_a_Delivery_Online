{
 "cells": [
  {
   "cell_type": "code",
   "execution_count": null,
   "id": "774cafa3",
   "metadata": {},
   "outputs": [],
   "source": [
    "import pandas as pd\n",
    "import geopandas as gpd\n",
    "import numpy as np\n",
    "from matplotlib import pyplot as plt"
   ]
  },
  {
   "cell_type": "code",
   "execution_count": null,
   "id": "498ba748",
   "metadata": {},
   "outputs": [],
   "source": [
    "pedidos = pd.read_csv('./Dados/Amostra_Pedidos.csv', parse_dates=['Início Entrega', 'Término Entrega'])"
   ]
  },
  {
   "cell_type": "code",
   "execution_count": null,
   "id": "fd4df9e7",
   "metadata": {},
   "outputs": [],
   "source": [
    "pedidos['Horário Entrega'] = pedidos['Início Entrega'].dt.floor('30min').dt.strftime('%H:%M')"
   ]
  },
  {
   "cell_type": "code",
   "execution_count": null,
   "id": "30df3464",
   "metadata": {},
   "outputs": [],
   "source": [
    "pedidos_minimos = pedidos.groupby('Estabelecimento').filter(lambda x: len(x) > 30)\n",
    "amostra_aleatoria = pd.Series(pedidos_minimos['Estabelecimento'].unique()).sample(3, random_state=123)\n",
    "amostra = pedidos_minimos[pedidos_minimos['Estabelecimento'].isin(amostra_aleatoria)]"
   ]
  },
  {
   "cell_type": "code",
   "execution_count": null,
   "id": "178e7757",
   "metadata": {},
   "outputs": [],
   "source": [
    "fig, axs = plt.subplots(ncols=3, figsize=(16, 4))\n",
    "grupos = amostra.groupby('Estabelecimento')\n",
    "\n",
    "for (chv, grp), ax in zip(grupos, axs.ravel()):\n",
    "    grp.groupby('Horário Entrega').agg(pedidos=('Ident. Pedido', 'count')).plot(kind='bar', legend='', xlabel='', ax=ax)\n",
    "    ax.set_title(grp['Tipo Estab.'].unique()[0])"
   ]
  },
  {
   "cell_type": "code",
   "execution_count": 122,
   "id": "0f3c6ebb",
   "metadata": {},
   "outputs": [
    {
     "name": "stdout",
     "output_type": "stream",
     "text": [
      "0.9359404409481582\n",
      "0.9404772686416355\n",
      "4.223820603730789\n",
      "1.3097744842303518\n",
      "0.9404772736197332\n",
      "[5 3 2 7]\n"
     ]
    },
    {
     "data": {
      "image/png": "[encoded data removed]",
      "text/plain": [
       "<Figure size 432x288 with 1 Axes>"
      ]
     },
     "metadata": {
      "needs_background": "light"
     },
     "output_type": "display_data"
    }
   ],
   "source": [
    "import numpy as np\n",
    "from scipy.stats import norm, scoreatpercentile\n",
    "from scipy.optimize import minimize\n",
    "from matplotlib import pyplot as plt\n",
    "import seaborn as sns\n",
    "\n",
    "x = np.array([5, 3, 2, 7]).reshape(-1, 1)\n",
    "b = 0.2\n",
    "\n",
    "def kernel(x, b):\n",
    "    s = np.linspace(np.min(x), np.max(x), 10)\n",
    "    k_x = [[norm.pdf((j - i) / b, 0, 1) for j in x] for i in s]\n",
    "    return s, np.mean(np.sum(k_x, axis=1) / b)\n",
    "\n",
    "def scott(x):\n",
    "    return 3.49 * np.std(x) * len(x) ** (-0.333)\n",
    "    \n",
    "def silverman(x):\n",
    "    iqr = (scoreatpercentile(x, 75) - scoreatpercentile(x, 25)) / 1.349\n",
    "    return 0.9 * np.min([np.std(x), iqr if iqr > 0 else np.std(x)]) * len(x) ** (-0.2)\n",
    "\n",
    "def likelihood(b, x):\n",
    "    n = len(x)\n",
    "    s = np.linspace(np.min(x), np.max(x), n)\n",
    "    k_x = [[np.zeros(1) if i == j else norm.pdf((j - i) / b, 0, 1) for j in x] for i in s]\n",
    "\n",
    "    return -(n-1)**-n * b**-n * np.prod(np.sum(k_x, axis=1) / b)\n",
    "    \n",
    "def loglike(b, x):\n",
    "    n = len(x)\n",
    "    s = np.linspace(np.min(x), np.max(x), n)\n",
    "    k_x = [[np.zeros(1) if i == j else norm.pdf((j - i) / b, 0, 1) for j in x] for i in s]\n",
    "    k_x_norm = np.sum(k_x, axis=1) / b\n",
    "\n",
    "    return -(1/n) * np.sum(np.log(k_x_norm[k_x_norm > 0]) - np.log((n-1)*b))\n",
    "    \n",
    "\n",
    "def loglike2(b, x):\n",
    "    n = len(x)\n",
    "    s = np.linspace(np.min(x), np.max(x), n)\n",
    "    k_x = [[np.zeros(1) if i == j else norm.pdf((j - i) / b, 0, 1) for j in x] for i in s]\n",
    "\n",
    "    return -np.log((n-1)**-n * b**-n * np.prod(np.sum(k_x, axis=1) / b))\n",
    "\n",
    "\n",
    "nm = np.array([norm.pdf((x -np.mean(x)) / b, 0, 1)])\n",
    "shp = (1/b) * sum(nm / len(x))\n",
    "\n",
    "normal = lambda u: 1 / np.sqrt(2 * np.pi) * np.exp(-1 / 2 * u * u)\n",
    "\n",
    "c = minimize(likelihood, 1, x)['x'][0]\n",
    "d = minimize(loglike, 1, x)['x'][0]\n",
    "e = scott(x)\n",
    "f = silverman(x)\n",
    "g = minimize(loglike2, 1, x)['x'][0]\n",
    "print(c)\n",
    "print(d)\n",
    "print(e)\n",
    "print(f)\n",
    "print(g)\n",
    "\n",
    "s, shp1 = kde(x, c)\n",
    "s, shp2 = kde(x, d)\n",
    "s, shp3 = kde(x, e)\n",
    "s, shp4 = kde(x, f)\n",
    "s, shp5 = kde(x, g)\n",
    "\n",
    "fig, ax = plt.subplots()\n",
    "ax.plot(s, shp1, color='b')\n",
    "ax.plot(s, shp2, color='g')\n",
    "ax.plot(s, shp3, color='r')\n",
    "ax.plot(s, shp4, color='c')\n",
    "ax.plot(s, shp5, color='y')\n",
    "#ax.hist(x, density=True)\n",
    "print(np.concatenate(x))\n",
    "plote = sns.kdeplot(np.concatenate(x), color='k', bw_method='scott',  ax=ax)\n",
    "plt.show()"
   ]
  }
 ],
 "metadata": {
  "kernelspec": {
   "display_name": "Python 3 (ipykernel)",
   "language": "python",
   "name": "python3"
  },
  "language_info": {
   "codemirror_mode": {
    "name": "ipython",
    "version": 3
   },
   "file_extension": ".py",
   "mimetype": "text/x-python",
   "name": "python",
   "nbconvert_exporter": "python",
   "pygments_lexer": "ipython3",
   "version": "3.9.12"
  }
 },
 "nbformat": 4,
 "nbformat_minor": 5
}
