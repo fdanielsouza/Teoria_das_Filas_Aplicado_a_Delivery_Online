{
 "cells": [
  {
   "cell_type": "code",
   "execution_count": 625,
   "id": "cbfbb521",
   "metadata": {},
   "outputs": [],
   "source": [
    "import pandas as pd\n",
    "import geopandas as gpd\n",
    "import datetime as dt\n",
    "import numpy as np\n",
    "import math\n",
    "from haversine import haversine\n",
    "from scipy.optimize import minimize, Bounds\n",
    "from scipy.stats import norm\n",
    "from scipy.spatial.distance import directed_hausdorff\n",
    "from shapely.geometry import Polygon, MultiPolygon\n",
    "from matplotlib import pyplot as plt, ticker\n",
    "from sklearn.neighbors import KernelDensity\n",
    "from sklearn.model_selection import GridSearchCV, KFold"
   ]
  },
  {
   "cell_type": "code",
   "execution_count": null,
   "id": "3a600837",
   "metadata": {},
   "outputs": [],
   "source": [
    "fortaleza = gpd.read_file('Dados/Densidade_Populacional_por_Bairros.zip')"
   ]
  },
  {
   "cell_type": "code",
   "execution_count": null,
   "id": "561fee40",
   "metadata": {},
   "outputs": [],
   "source": [
    "def arred_baixo(num, dec):\n",
    "    return math.floor(num * 10 ** dec) / 10 ** dec"
   ]
  },
  {
   "cell_type": "code",
   "execution_count": null,
   "id": "596f34fc",
   "metadata": {},
   "outputs": [],
   "source": [
    "def criar_celula(lat, lng, passo):\n",
    "    return Polygon([(lat, lng), (lat + passo, lng), (lat + passo, lng + passo), (lat, lng + passo)])"
   ]
  },
  {
   "cell_type": "code",
   "execution_count": null,
   "id": "c71ded04",
   "metadata": {},
   "outputs": [],
   "source": [
    "x_min, y_min, x_max, y_max = (arred_baixo(b, 2) for b in fortaleza.geometry.unary_union.bounds)"
   ]
  },
  {
   "cell_type": "code",
   "execution_count": null,
   "id": "6c1e3df3",
   "metadata": {},
   "outputs": [],
   "source": [
    "p = 0.01"
   ]
  },
  {
   "cell_type": "code",
   "execution_count": null,
   "id": "b0bd7a01",
   "metadata": {},
   "outputs": [],
   "source": [
    "grade_completa = MultiPolygon((criar_celula(x, y, p) for x in np.arange(x_min - p, x_max + p, p) for y in np.arange(y_min - p, y_max + p, p)))   "
   ]
  },
  {
   "cell_type": "code",
   "execution_count": null,
   "id": "9a13ae26",
   "metadata": {},
   "outputs": [],
   "source": [
    "grade_fortaleza = MultiPolygon([c for c in grade_completa.geoms if c.intersects(fortaleza.unary_union)])"
   ]
  },
  {
   "cell_type": "code",
   "execution_count": null,
   "id": "10704215",
   "metadata": {
    "scrolled": true
   },
   "outputs": [],
   "source": [
    "fig, (ax1, ax2) = plt.subplots(ncols=2, figsize=(12, 6))\n",
    "\n",
    "fortaleza.plot(ax=ax1)\n",
    "ax2.set_xlim(ax1.get_xlim())\n",
    "ax2.set_ylim(ax1.get_ylim())\n",
    "gpd.GeoSeries(grade_fortaleza).boundary.plot(ax=ax2)"
   ]
  },
  {
   "cell_type": "code",
   "execution_count": 134,
   "id": "dc77fa56",
   "metadata": {},
   "outputs": [],
   "source": [
    "entregas = pd.read_csv('Dados/New_query_2023_07_15.csv', parse_dates=['event_day', 'event_timestamp', 'event_timestamp_hour']).sort_values('event_timestamp')"
   ]
  },
  {
   "cell_type": "code",
   "execution_count": 137,
   "id": "48acb303",
   "metadata": {},
   "outputs": [],
   "source": [
    "entregas_por_rest = entregas.groupby('frn_id')['order_id'].nunique().reset_index()"
   ]
  },
  {
   "cell_type": "code",
   "execution_count": 138,
   "id": "4d3a469c",
   "metadata": {},
   "outputs": [],
   "source": [
    "tamanho_amostra = 1"
   ]
  },
  {
   "cell_type": "code",
   "execution_count": 139,
   "id": "73995125",
   "metadata": {},
   "outputs": [],
   "source": [
    "rests_amostra = entregas_por_rest[entregas_por_rest.order_id > 100][['frn_id']].drop_duplicates().sample(n=tamanho_amostra, random_state=123)"
   ]
  },
  {
   "cell_type": "code",
   "execution_count": 159,
   "id": "27197c4e",
   "metadata": {},
   "outputs": [],
   "source": [
    "entregas_amostra = entregas.merge(rests_amostra, on='frn_id')"
   ]
  },
  {
   "cell_type": "code",
   "execution_count": 160,
   "id": "a6e570b5",
   "metadata": {},
   "outputs": [],
   "source": [
    "inicio_fim_rotas = entregas_amostra.groupby('route_id', as_index=False).agg({'event_timestamp': ['min', 'max']}).droplevel(0, 1).rename({'': 'route_id', 'min': 'inicio_rota', 'max': 'fim_rota'}, axis='columns')"
   ]
  },
  {
   "cell_type": "code",
   "execution_count": 161,
   "id": "73b85fb2",
   "metadata": {},
   "outputs": [],
   "source": [
    "entregas_amostra = entregas_amostra.merge(inicio_fim_rotas, how='inner', on='route_id')"
   ]
  },
  {
   "cell_type": "code",
   "execution_count": 165,
   "id": "743e8eb8",
   "metadata": {
    "scrolled": true
   },
   "outputs": [
    {
     "data": {
      "image/png": "[encoded data removed]",
      "text/plain": [
       "<Figure size 1584x288 with 5 Axes>"
      ]
     },
     "metadata": {
      "needs_background": "light"
     },
     "output_type": "display_data"
    }
   ],
   "source": [
    "fig, axs = plt.subplots(nrows=max(1, math.floor(tamanho_amostra / 5)), ncols=5, figsize=(22, 4))\n",
    "grupos_rests = entregas_amostra.groupby('frn_id')\n",
    "\n",
    "for (grp, df), ax in zip(grupos_rests, axs.ravel()):\n",
    "    df[['event_timestamp_hour', 'order_id']].drop_duplicates()['event_timestamp_hour'].dt.hour.plot(kind='hist', bins=range(24), edgecolor='darkgrey', ax=ax)\n",
    "    ax.xaxis.set_major_locator(ticker.MultipleLocator(2))\n",
    "    ax.xaxis.set_minor_locator(ticker.MultipleLocator(1))\n",
    "    ax.set_xlim((0, 24))\n",
    "    ax.set_ylabel('')\n",
    "    ax.set_title(grp)"
   ]
  },
  {
   "cell_type": "code",
   "execution_count": 125,
   "id": "decc477c",
   "metadata": {},
   "outputs": [],
   "source": [
    "def montar_janela(t0, m, delta_t):\n",
    "    \"\"\"\n",
    "    Obtém uma janela de m datetimes iniciando em t0 e saltando a cada delta_t\n",
    "    \n",
    "    :param t0: momento inicial da janela\n",
    "    :param m: número de momentos que compõem a janela\n",
    "    :param delta_t: tamanho do salto de tempo entre cada momento t\n",
    "    :returns: uma lista de momentos compondo uma janela\n",
    "    \"\"\"\n",
    "    return [t0 + dt.timedelta(minutes=m) for m in range(0, m * delta_t, delta_t)]"
   ]
  },
  {
   "cell_type": "code",
   "execution_count": 239,
   "id": "f225db8f",
   "metadata": {},
   "outputs": [],
   "source": [
    "def configurar_janela(df, att, fim, obj, lat, lng, t0, m, delta_t):\n",
    "    \"\"\"\n",
    "    Obtém a configuração de estado de cada momento de uma janela\n",
    "    \n",
    "    :param df: dataframe com os dados para popular a janela\n",
    "    :param att: coluna com as atualizações de cada evento\n",
    "    :param fim: coluna com o término de cada evento\n",
    "    :param obj: coluna com o objeto que nasce/morre/move\n",
    "    :param lat: coluna com as latitudes do evento\n",
    "    :param lng: coluna com as longitudes do evento\n",
    "    :param t0: momento inicial da janela\n",
    "    :param m: número de momentos que compõem a janela\n",
    "    :param delta_t: tamanho do salto de tempo entre cada momento t\n",
    "    :returns: uma janela com suas configurações em cada momento t\n",
    "    \"\"\"\n",
    "    j = montar_janela(t0, m, delta_t)\n",
    "    X = []\n",
    "\n",
    "    for t in j:\n",
    "        objs_vivos = df[(df[att] <= t) & (df[fim] > t)]\n",
    "        ids = objs_vivos[obj].unique()\n",
    "        coords = objs_vivos.drop_duplicates(subset=[obj], keep='last')[[lat, lng]].to_numpy()\n",
    "        X.append({'t': t, 'n': len(coords), 'id': ids, 'xy': coords})\n",
    "        \n",
    "    return X"
   ]
  },
  {
   "cell_type": "code",
   "execution_count": 240,
   "id": "9bd63d0f",
   "metadata": {},
   "outputs": [],
   "source": [
    "janela = configurar_janela(entregas_amostra, 'event_timestamp', 'fim_rota', 'driver_uuid', 'drv_lat', 'drv_lng', dt.datetime(2023, 1, 10, 17, 0, 0, 0), 30, 2)"
   ]
  },
  {
   "cell_type": "code",
   "execution_count": 224,
   "id": "7bddc33c",
   "metadata": {},
   "outputs": [],
   "source": [
    "matriz_hausdorff = []\n",
    "\n",
    "for i in janela:\n",
    "    linha = []\n",
    "    for j in janela:\n",
    "        if i['t'] != j['t']:\n",
    "            matriz_haversine = np.array([np.array([haversine(k, l) for l in j['xy']]) for k in i['xy']])\n",
    "            dist = np.max(np.concatenate((np.amin(matriz_haversine, axis=1), np.amin(np.transpose(matriz_haversine), axis=1))))\n",
    "        else:\n",
    "            dist = 0\n",
    "        \n",
    "        linha.append(dist)\n",
    "    matriz_hausdorff.append(np.array(linha))\n",
    "    \n",
    "matriz_hausdorff = np.array(matriz_hausdorff)"
   ]
  },
  {
   "cell_type": "code",
   "execution_count": 275,
   "id": "e3e9ba9d",
   "metadata": {},
   "outputs": [],
   "source": [
    "nascimentos = [len(np.setdiff1d(j['id'], i['id'])) for (i, j) in zip(janela[:-1] , janela[1:])]"
   ]
  },
  {
   "cell_type": "code",
   "execution_count": 276,
   "id": "bde510e4",
   "metadata": {},
   "outputs": [],
   "source": [
    "mortes = [len(np.setdiff1d(i['id'], j['id'])) for (i, j) in zip(janela[:-1] , janela[1:])]"
   ]
  },
  {
   "cell_type": "code",
   "execution_count": 311,
   "id": "bfc20187",
   "metadata": {},
   "outputs": [],
   "source": [
    "teste = [[0.        , 0.9550354 , 1.71911205, 2.56960031],\n",
    "       [0.9550354 , 0.        , 1.81535691, 1.80652697],\n",
    "       [1.71911205, 1.81535691, 0.        , 0.85528255],\n",
    "       [2.56960031, 1.80652697, 0.85528255, 0.        ]]"
   ]
  },
  {
   "cell_type": "code",
   "execution_count": 725,
   "id": "e4b71126",
   "metadata": {},
   "outputs": [],
   "source": [
    "def estimador_alfa(dn, dt, h, matriz_dist,K=norm.pdf):\n",
    "    Kt = K(matriz_dist, 0, h).flatten()\n",
    "    n = len(Kt) - 1\n",
    "    Kt = np.delete(Kt, [n])\n",
    "    t_chapeu = sum(Kt * dt)\n",
    "\n",
    "    return np.sum(np.divide(np.resize(dn, n) * Kt, t_chapeu, where=t_chapeu != 0))"
   ]
  },
  {
   "cell_type": "code",
   "execution_count": 671,
   "id": "865cf1c8",
   "metadata": {},
   "outputs": [
    {
     "name": "stdout",
     "output_type": "stream",
     "text": [
      "[0.46934386 0.24966742 0.0607103  0.00486415 0.24966742 0.46934386\n",
      " 0.04797589 0.04904953 0.0607103  0.04797589 0.46934386 0.2829023\n",
      " 0.00486415 0.04904953 0.2829023  0.46934386]\n",
      "5.596741510927227\n"
     ]
    },
    {
     "data": {
      "text/plain": [
       "0.7773060744675204"
      ]
     },
     "execution_count": 671,
     "metadata": {},
     "output_type": "execute_result"
    }
   ],
   "source": [
    "estimador_alfa(np.array([2, 3, 0]), 2, 0.85, teste)"
   ]
  },
  {
   "cell_type": "code",
   "execution_count": 762,
   "id": "7c20fcf4",
   "metadata": {},
   "outputs": [],
   "source": [
    "def log_verossimilhanca(h, janela, dn, dt, matriz_dist, K=norm.pdf):\n",
    "    n = len(janela) - 1\n",
    "    alfa_i = []\n",
    "    \n",
    "    for i in range(n):\n",
    "        saltos_t = np.delete(dn, [i])\n",
    "        dists_t = np.delete(matriz_dist[i], [i])\n",
    "        alfa_i.append(estimador_alfa(saltos_t, dt, h, dists_t, K=K))\n",
    "    print(h)\n",
    "    return -np.sum(dn * np.log(alfa_i)) + np.sum(dt * alfa_i)"
   ]
  },
  {
   "cell_type": "code",
   "execution_count": 782,
   "id": "53c53def",
   "metadata": {},
   "outputs": [],
   "source": [
    "def maximizar_verossimilhanca(janela, dn, dt, matriz_dist, K=norm.pdf):\n",
    "    iniciar = np.quantile(matriz_dist, 0.1) / 2\n",
    "    maximo = np.max(matriz_dist)\n",
    "    print(maximo)\n",
    "    return minimize(fun=log_verossimilhanca, x0=np.array([iniciar]), args=(janela, dn, dt, matriz_dist, K), bounds=Bounds(0.0001, maximo))"
   ]
  },
  {
   "cell_type": "code",
   "execution_count": 783,
   "id": "c232d7b0",
   "metadata": {},
   "outputs": [
    {
     "name": "stdout",
     "output_type": "stream",
     "text": [
      "2.56960031\n",
      "[0.0001]\n",
      "[0.00010001]\n"
     ]
    },
    {
     "data": {
      "text/plain": [
       "      fun: 15.723333880983944\n",
       " hess_inv: <1x1 LbfgsInvHessProduct with dtype=float64>\n",
       "      jac: array([0.])\n",
       "  message: 'CONVERGENCE: NORM_OF_PROJECTED_GRADIENT_<=_PGTOL'\n",
       "     nfev: 2\n",
       "      nit: 0\n",
       "     njev: 1\n",
       "   status: 0\n",
       "  success: True\n",
       "        x: array([0.0001])"
      ]
     },
     "execution_count": 783,
     "metadata": {},
     "output_type": "execute_result"
    }
   ],
   "source": [
    "maximizar_verossimilhanca(XX, np.array([2, 3, 0]), 2, teste)"
   ]
  },
  {
   "cell_type": "code",
   "execution_count": 703,
   "id": "1fc6b04d",
   "metadata": {},
   "outputs": [],
   "source": [
    "minimize_scalar?"
   ]
  },
  {
   "cell_type": "code",
   "execution_count": 718,
   "id": "81cf1226",
   "metadata": {},
   "outputs": [
    {
     "name": "stdout",
     "output_type": "stream",
     "text": [
      "0.0\n",
      "1.0\n",
      "2.6180339999999998\n",
      "1.0\n",
      "1.6180339748439998\n",
      "0.618034\n",
      "0.381966025156\n",
      "0.23606799039126328\n",
      "0.145898044373474\n",
      "0.11933913390882583\n",
      "0.1311116075817107\n",
      "0.1220780667769675\n",
      "0.1170930262395384\n",
      "0.07236747137892688\n",
      "0.09253768203658413\n",
      "0.08243683994561556\n",
      "0.07734375901065778\n",
      "0.07467550610079408\n",
      "0.0730820430956858\n",
      "0.07206406978068979\n",
      "0.04453804530283883\n",
      "0.07148694854196327\n",
      "0.07128750611642018\n",
      "0.07138722732919173\n",
      "0.07134913721643422\n",
      "0.07132559623168626\n",
      "0.07131104710271853\n",
      "0.0713020552463461\n",
      "0.07129649797338482\n",
      "0.07129306338974746\n",
      "0.07129094070028373\n",
      "0.0712896288060237\n",
      "0.0712888180107666\n",
      "0.07128831691173068\n",
      "0.07128800721548911\n",
      "0.07128781581268215\n",
      "0.07128769751923975\n",
      "0.07128762440987037\n",
      "0.07128757922579437\n",
      "0.07128755130049914\n",
      "0.07128753404171724\n",
      "0.07128752337520322\n",
      "0.07128751678293489\n",
      "0.07128751270868894\n",
      "0.07128751019066641\n",
      "0.07128750863444287\n",
      "0.07128750756938775\n"
     ]
    },
    {
     "data": {
      "text/plain": [
       "     fun: 6.189069783783674\n",
       "    nfev: 47\n",
       "     nit: 43\n",
       " success: True\n",
       "       x: 0.07128750756938775"
      ]
     },
     "execution_count": 718,
     "metadata": {},
     "output_type": "execute_result"
    }
   ],
   "source": []
  },
  {
   "cell_type": "code",
   "execution_count": 715,
   "id": "1e74ee73",
   "metadata": {},
   "outputs": [
    {
     "name": "stdout",
     "output_type": "stream",
     "text": [
      "[0.0001]\n",
      "[0.00010001]\n"
     ]
    },
    {
     "data": {
      "text/plain": [
       "      fun: 15.723333880983944\n",
       " hess_inv: <1x1 LbfgsInvHessProduct with dtype=float64>\n",
       "      jac: array([0.])\n",
       "  message: 'CONVERGENCE: NORM_OF_PROJECTED_GRADIENT_<=_PGTOL'\n",
       "     nfev: 2\n",
       "      nit: 0\n",
       "     njev: 1\n",
       "   status: 0\n",
       "  success: True\n",
       "        x: array([0.0001])"
      ]
     },
     "execution_count": 715,
     "metadata": {},
     "output_type": "execute_result"
    }
   ],
   "source": [
    "minimize(fun=log_verossimilhanca, x0=(inicio,), args=(XX, np.array([2, 3, 0]), 2, teste, norm.pdf), bounds=Bounds(0.0001, maximo))"
   ]
  },
  {
   "cell_type": "code",
   "execution_count": 701,
   "id": "cf2724e7",
   "metadata": {},
   "outputs": [
    {
     "data": {
      "text/plain": [
       "[[[-3.809464, -38.554943],\n",
       "  [-3.824826, -38.568384],\n",
       "  [-3.809873, -38.559354],\n",
       "  [-3.806728, -38.55403]],\n",
       " [[-3.809638, -38.554877],\n",
       "  [-3.824406, -38.571757],\n",
       "  [-3.809668, -38.554823],\n",
       "  [-3.808754, -38.545415]],\n",
       " [[-3.818054, -38.556684],\n",
       "  [-3.80957, -38.554689],\n",
       "  [-3.803155, -38.538715],\n",
       "  [-3.8094, -38.554823]],\n",
       " [[-3.8216, -38.555719],\n",
       "  [-3.809448, -38.554679],\n",
       "  [-3.800415, -38.531512],\n",
       "  [-3.8094, -38.554825]]]"
      ]
     },
     "execution_count": 701,
     "metadata": {},
     "output_type": "execute_result"
    }
   ],
   "source": [
    "XX"
   ]
  },
  {
   "cell_type": "code",
   "execution_count": 289,
   "id": "0d73fb77",
   "metadata": {},
   "outputs": [
    {
     "data": {
      "text/plain": [
       "5.472673180890856"
      ]
     },
     "execution_count": 289,
     "metadata": {},
     "output_type": "execute_result"
    }
   ],
   "source": [
    "\n"
   ]
  },
  {
   "cell_type": "code",
   "execution_count": 287,
   "id": "51fe27e8",
   "metadata": {},
   "outputs": [
    {
     "data": {
      "text/plain": [
       "0.7157915882009936"
      ]
     },
     "execution_count": 287,
     "metadata": {},
     "output_type": "execute_result"
    }
   ],
   "source": [
    "inicio"
   ]
  }
 ],
 "metadata": {
  "kernelspec": {
   "display_name": "Python 3 (ipykernel)",
   "language": "python",
   "name": "python3"
  },
  "language_info": {
   "codemirror_mode": {
    "name": "ipython",
    "version": 3
   },
   "file_extension": ".py",
   "mimetype": "text/x-python",
   "name": "python",
   "nbconvert_exporter": "python",
   "pygments_lexer": "ipython3",
   "version": "3.9.12"
  }
 },
 "nbformat": 4,
 "nbformat_minor": 5
}
