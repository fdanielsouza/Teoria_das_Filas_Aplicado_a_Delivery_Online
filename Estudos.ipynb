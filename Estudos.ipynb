{
 "cells": [
  {
   "cell_type": "code",
   "execution_count": 948,
   "id": "c9fa098b",
   "metadata": {},
   "outputs": [],
   "source": [
    "import pandas as pd\n",
    "import geopandas as gpd\n",
    "import datetime as dt\n",
    "import numpy as np\n",
    "import math\n",
    "from haversine import haversine\n",
    "from scipy.optimize import minimize, Bounds\n",
    "from scipy.stats import norm\n",
    "from scipy.spatial.distance import euclidean, directed_hausdorff\n",
    "from shapely.geometry import Polygon, MultiPolygon\n",
    "from matplotlib import pyplot as plt, ticker\n",
    "from sklearn.neighbors import KernelDensity\n",
    "from sklearn.model_selection import GridSearchCV, KFold"
   ]
  },
  {
   "cell_type": "code",
   "execution_count": null,
   "id": "4533f660",
   "metadata": {
    "scrolled": true
   },
   "outputs": [],
   "source": [
    "fig, (ax1, ax2) = plt.subplots(ncols=2, figsize=(12, 6))\n",
    "\n",
    "fortaleza.plot(ax=ax1)\n",
    "ax2.set_xlim(ax1.get_xlim())\n",
    "ax2.set_ylim(ax1.get_ylim())\n",
    "gpd.GeoSeries(grade_fortaleza).boundary.plot(ax=ax2)"
   ]
  },
  {
   "cell_type": "code",
   "execution_count": 912,
   "id": "895ac066",
   "metadata": {},
   "outputs": [],
   "source": [
    "entregas = pd.read_csv('Dados/New_query_2023_07_15.csv', parse_dates=['event_day', 'event_timestamp', 'event_timestamp_hour']).sort_values('event_timestamp')"
   ]
  },
  {
   "cell_type": "code",
   "execution_count": 913,
   "id": "34814aab",
   "metadata": {},
   "outputs": [],
   "source": [
    "entregas_por_rest = entregas.groupby('frn_id')['order_id'].nunique().reset_index()"
   ]
  },
  {
   "cell_type": "code",
   "execution_count": 930,
   "id": "2e4934eb",
   "metadata": {},
   "outputs": [],
   "source": [
    "tamanho_amostra = len(entregas_por_rest)"
   ]
  },
  {
   "cell_type": "code",
   "execution_count": 932,
   "id": "f78a9cb3",
   "metadata": {},
   "outputs": [],
   "source": [
    "rests_amostra = entregas_por_rest[entregas_por_rest.order_id > 0][['frn_id']].drop_duplicates().sample(n=tamanho_amostra, random_state=123)"
   ]
  },
  {
   "cell_type": "code",
   "execution_count": 933,
   "id": "2de74887",
   "metadata": {},
   "outputs": [],
   "source": [
    "entregas_amostra = entregas.merge(rests_amostra, on='frn_id')"
   ]
  },
  {
   "cell_type": "code",
   "execution_count": 934,
   "id": "d36aace5",
   "metadata": {},
   "outputs": [],
   "source": [
    "inicio_fim_rotas = entregas_amostra.groupby('route_id', as_index=False).agg({'event_timestamp': ['min', 'max']}).droplevel(0, 1).rename({'': 'route_id', 'min': 'inicio_rota', 'max': 'fim_rota'}, axis='columns')"
   ]
  },
  {
   "cell_type": "code",
   "execution_count": 935,
   "id": "f6c489bb",
   "metadata": {},
   "outputs": [],
   "source": [
    "entregas_amostra = entregas_amostra.merge(inicio_fim_rotas, how='inner', on='route_id')"
   ]
  },
  {
   "cell_type": "raw",
   "id": "2e275caa",
   "metadata": {},
   "source": [
    "fig, axs = plt.subplots(nrows=max(1, math.floor(tamanho_amostra / 5)), ncols=5, figsize=(22, 4))\n",
    "grupos_rests = entregas_amostra.groupby('frn_id')\n",
    "\n",
    "for (grp, df), ax in zip(grupos_rests, axs.ravel()):\n",
    "    df[['event_timestamp_hour', 'order_id']].drop_duplicates()['event_timestamp_hour'].dt.hour.plot(kind='hist', bins=range(24), edgecolor='darkgrey', ax=ax)\n",
    "    ax.xaxis.set_major_locator(ticker.MultipleLocator(2))\n",
    "    ax.xaxis.set_minor_locator(ticker.MultipleLocator(1))\n",
    "    ax.set_xlim((0, 24))\n",
    "    ax.set_ylabel('')\n",
    "    ax.set_title(grp)"
   ]
  },
  {
   "cell_type": "markdown",
   "id": "43244f16",
   "metadata": {},
   "source": [
    "## Funções Processo Espacial de Nascimento e Morte"
   ]
  },
  {
   "cell_type": "code",
   "execution_count": 936,
   "id": "8c43ac38",
   "metadata": {},
   "outputs": [],
   "source": [
    "def montar_janela(t0, m, delta_t):\n",
    "    \"\"\"\n",
    "    Obtém uma janela de m datetimes iniciando em t0 e saltando a cada delta_t\n",
    "    \n",
    "    :param t0: momento inicial da janela\n",
    "    :param m: número de momentos que compõem a janela\n",
    "    :param delta_t: tamanho do salto de tempo entre cada momento t\n",
    "    :returns: uma lista de momentos compondo uma janela\n",
    "    \"\"\"\n",
    "    return [t0 + dt.timedelta(minutes=m) for m in range(0, m * delta_t, delta_t)]"
   ]
  },
  {
   "cell_type": "code",
   "execution_count": 966,
   "id": "e67e0b44",
   "metadata": {},
   "outputs": [],
   "source": [
    "def configurar_janela(df, evt, fim, obj, lat, lng, t0, m, delta_t):\n",
    "    \"\"\"\n",
    "    Obtém a configuração de estado de cada momento de uma janela\n",
    "    \n",
    "    :param df: dataframe com os dados para popular a janela\n",
    "    :param evt: coluna com as atualizações de cada evento\n",
    "    :param fim: coluna com o término de cada evento\n",
    "    :param obj: coluna com o objeto que nasce/morre/move\n",
    "    :param lat: coluna com as latitudes do evento\n",
    "    :param lng: coluna com as longitudes do evento\n",
    "    :param t0: momento inicial da janela\n",
    "    :param m: número de momentos que compõem a janela\n",
    "    :param delta_t: tamanho do salto de tempo entre cada momento t\n",
    "    :returns: uma janela com suas configurações em cada momento t\n",
    "    \"\"\"\n",
    "    j = montar_janela(t0, m, delta_t)\n",
    "    X = []\n",
    "\n",
    "    for t in j:\n",
    "        objs_vivos = df[(df[evt] <= t) & (df[fim] > t)]\n",
    "        ids = objs_vivos[obj].unique()\n",
    "        coords = objs_vivos.drop_duplicates(subset=[obj], keep='last')[[lat, lng]].to_numpy()\n",
    "        X.append({'t': t, 'n': len(coords), 'id': ids, 'xy': coords})\n",
    "        \n",
    "    return X"
   ]
  },
  {
   "cell_type": "code",
   "execution_count": 984,
   "id": "00073e4d",
   "metadata": {},
   "outputs": [],
   "source": [
    "def hausdorff(janela, chave_t, chave_xy, dist_fn):\n",
    "    matriz_hausdorff = []\n",
    "\n",
    "    for i in janela:\n",
    "        linha = []\n",
    "        for j in janela:\n",
    "            if i[chave_t] < j[chave_t]:\n",
    "                matriz_dist = np.array([np.array([dist_fn(k, l) for l in j[chave_xy]]) for k in i[chave_xy]])\n",
    "                dist = np.max(np.concatenate((np.amin(matriz_dist, axis=1), np.amin(np.transpose(matriz_dist), axis=1))))\n",
    "            else:\n",
    "                dist = 0\n",
    "\n",
    "            linha.append(dist)\n",
    "        matriz_hausdorff.append(np.array(linha))\n",
    "    matriz_hausdorff = np.array(matriz_hausdorff)\n",
    "\n",
    "    return matriz_hausdorff"
   ]
  },
  {
   "cell_type": "code",
   "execution_count": 951,
   "id": "e4d4ca35",
   "metadata": {},
   "outputs": [],
   "source": [
    "def estimador_alfa(delta_n, delta_t, h, matriz_dist,K=norm.pdf):\n",
    "    Kt = K(matriz_dist, 0, h).flatten()\n",
    "    n = len(Kt) - 1\n",
    "    Kt = np.delete(Kt, [n])\n",
    "    t_chapeu = sum(Kt * delta_t)\n",
    "\n",
    "    return np.sum(np.divide(np.resize(delta_n, n) * Kt, t_chapeu, where=t_chapeu != 0))"
   ]
  },
  {
   "cell_type": "code",
   "execution_count": 952,
   "id": "36704dfd",
   "metadata": {},
   "outputs": [],
   "source": [
    "def log_verossimilhanca(h, janela, delta_n, delta_t, matriz_dist, K=norm.pdf):\n",
    "    n = len(janela) - 1\n",
    "    alfa_i = []\n",
    "    \n",
    "    for i in range(n):\n",
    "        saltos_t = np.delete(delta_n, [i])\n",
    "        dists_t = np.delete(matriz_dist[i], [i])\n",
    "        alfa_i.append(estimador_alfa(saltos_t, delta_t, h, dists_t, K=K))\n",
    "\n",
    "    return -np.sum(delta_n * np.log(alfa_i)) + np.sum(delta_t * alfa_i)"
   ]
  },
  {
   "cell_type": "code",
   "execution_count": 953,
   "id": "3487e479",
   "metadata": {},
   "outputs": [],
   "source": [
    "def maximizar_verossimilhanca(janela, delta_n, delta_t, matriz_dist, K=norm.pdf):\n",
    "    iniciar = np.quantile(matriz_dist, 0.1) / 2\n",
    "    maximo = np.max(matriz_dist)\n",
    "    \n",
    "    return minimize(fun=log_verossimilhanca, x0=(iniciar,), args=(janela, delta_n, delta_t, matriz_dist, K), bounds=Bounds(0.00001, maximo)).x"
   ]
  },
  {
   "cell_type": "markdown",
   "id": "b881aa61",
   "metadata": {},
   "source": [
    "## Gerador dos estimadores"
   ]
  },
  {
   "cell_type": "code",
   "execution_count": 985,
   "id": "551dbb5f",
   "metadata": {},
   "outputs": [],
   "source": [
    "def gerar_estimadores(df, evt, fim, obj, lat, lng, ini_janela, m, delta_t):\n",
    "    janela = configurar_janela(df, evt, fim, obj, lat, lng, ini_janela, m, delta_t)\n",
    "    matriz_dists = hausdorff(janela, 't', 'xy', euclidean)\n",
    "    beta = [len(np.setdiff1d(j['id'], i['id'])) for (i, j) in zip(janela[:-1] , janela[1:])]\n",
    "    delta = [len(np.setdiff1d(i['id'], j['id'])) for (i, j) in zip(janela[:-1] , janela[1:])]\n",
    "    h_chapeu_beta = maximizar_verossimilhanca(janela, beta, delta_t, matriz_dists)\n",
    "    beta_chapeu = [estimador_alfa(beta, delta_t, h_chapeu_beta, l) for l in matriz_dists]\n",
    "    h_chapeu_delta = maximizar_verossimilhanca(janela, delta, delta_t, matriz_dists)\n",
    "    delta_chapeu = [estimador_alfa(delta, delta_t, h_chapeu_delta, l) for l in matriz_dists]\n",
    "    \n",
    "    return {'h_chapeu_b': h_chapeu_beta,\n",
    "            'b': nascimentos,\n",
    "            'b_chapeu': beta_chapeu,\n",
    "            'h_chapeu_d': h_chapeu_delta,\n",
    "            'd': mortes,\n",
    "            'd_chapeu': delta_chapeu}"
   ]
  },
  {
   "cell_type": "code",
   "execution_count": null,
   "id": "4c7d8aad",
   "metadata": {},
   "outputs": [],
   "source": [
    "estimadores = gerar_estimadores(entregas_amostra, 'event_timestamp', 'fim_rota', 'driver_uuid', 'drv_lat', 'drv_lng', dt.datetime(2023, 1, 10, 0, 15, 0, 0), 95, 15)"
   ]
  },
  {
   "cell_type": "markdown",
   "id": "f9653e46",
   "metadata": {},
   "source": [
    "## Gradeamento da área da cidade"
   ]
  },
  {
   "cell_type": "code",
   "execution_count": null,
   "id": "e3e333bb",
   "metadata": {},
   "outputs": [],
   "source": [
    "fortaleza = gpd.read_file('Dados/Densidade_Populacional_por_Bairros.zip')"
   ]
  },
  {
   "cell_type": "code",
   "execution_count": null,
   "id": "7e7bf847",
   "metadata": {},
   "outputs": [],
   "source": [
    "def arred_baixo(num, dec):\n",
    "    return math.floor(num * 10 ** dec) / 10 ** dec"
   ]
  },
  {
   "cell_type": "code",
   "execution_count": null,
   "id": "7df7d7f1",
   "metadata": {},
   "outputs": [],
   "source": [
    "def criar_celula(lat, lng, passo):\n",
    "    return Polygon([(lat, lng), (lat + passo, lng), (lat + passo, lng + passo), (lat, lng + passo)])"
   ]
  },
  {
   "cell_type": "code",
   "execution_count": null,
   "id": "4c3ad9bb",
   "metadata": {},
   "outputs": [],
   "source": [
    "x_min, y_min, x_max, y_max = (arred_baixo(b, 2) for b in fortaleza.geometry.unary_union.bounds)"
   ]
  },
  {
   "cell_type": "code",
   "execution_count": null,
   "id": "529a626c",
   "metadata": {},
   "outputs": [],
   "source": [
    "p = 0.01"
   ]
  },
  {
   "cell_type": "code",
   "execution_count": null,
   "id": "9831af26",
   "metadata": {},
   "outputs": [],
   "source": [
    "grade_completa = MultiPolygon((criar_celula(x, y, p) for x in np.arange(x_min - p, x_max + p, p) for y in np.arange(y_min - p, y_max + p, p)))   "
   ]
  },
  {
   "cell_type": "code",
   "execution_count": null,
   "id": "c3e9a59b",
   "metadata": {},
   "outputs": [],
   "source": [
    "grade_fortaleza = MultiPolygon([c for c in grade_completa.geoms if c.intersects(fortaleza.unary_union)])"
   ]
  },
  {
   "cell_type": "code",
   "execution_count": null,
   "id": "8ff214b5",
   "metadata": {
    "scrolled": true
   },
   "outputs": [],
   "source": [
    "fig, (axn, axd) = plt.subplots(ncols=2, nrows=1, figsize=(16, 4))\n",
    "\n",
    "axn.scatter(range(len(nascimentos)), nascimentos, color='#75C2F6', label='emp')\n",
    "axn_2 = axn.twinx()\n",
    "axn_2.plot(range(len(beta_chapeu)), beta_chapeu, color='#1D5D9B', label='est')\n",
    "\n",
    "axd.scatter(range(len(mortes)), mortes, color='#EA906C', label='emp')\n",
    "axd_2 = axd.twinx()\n",
    "axd_2.plot(range(len(delta_chapeu)), delta_chapeu, color='#B31312', label='est')"
   ]
  }
 ],
 "metadata": {
  "kernelspec": {
   "display_name": "Python 3 (ipykernel)",
   "language": "python",
   "name": "python3"
  },
  "language_info": {
   "codemirror_mode": {
    "name": "ipython",
    "version": 3
   },
   "file_extension": ".py",
   "mimetype": "text/x-python",
   "name": "python",
   "nbconvert_exporter": "python",
   "pygments_lexer": "ipython3",
   "version": "3.9.12"
  }
 },
 "nbformat": 4,
 "nbformat_minor": 5
}
