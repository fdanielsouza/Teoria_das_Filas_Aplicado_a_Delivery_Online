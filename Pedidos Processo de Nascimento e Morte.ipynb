{
 "cells": [
  {
   "cell_type": "code",
   "execution_count": 15,
   "id": "301909f4",
   "metadata": {},
   "outputs": [],
   "source": [
    "import pandas as pd\n",
    "import numpy as np\n",
    "import datetime as dt\n",
    "from matplotlib import pyplot as plt\n",
    "import seaborn as sns\n",
    "from scipy.stats import expon\n",
    "from sklearn.model_selection import GridSearchCV, LeaveOneOut, KFold"
   ]
  },
  {
   "cell_type": "code",
   "execution_count": 21,
   "id": "5147cd4c",
   "metadata": {},
   "outputs": [],
   "source": [
    "pedidos = pd.read_csv('./Dados_Ini/pedidos.csv', parse_dates=['order_creation_timestamp_local', 'col_date_local', 'cfm_date_local', 'dcl_date_local', 'ncl_date_local', 'con_date_local', 'can_date_local'])"
   ]
  },
  {
   "cell_type": "code",
   "execution_count": 22,
   "id": "b15a97e8",
   "metadata": {},
   "outputs": [],
   "source": [
    "pedidos['con_date_local'] = pedidos['con_date_local'].combine_first(pedidos['can_date_local'])"
   ]
  },
  {
   "cell_type": "code",
   "execution_count": 23,
   "id": "5c450d7a",
   "metadata": {},
   "outputs": [],
   "source": [
    "pedidos = pedidos[(pedidos['dish_type'] != 'Mercado') & np.isnan(pedidos['can_date_local']) & ~np.isnan(pedidos['dcl_date_local']) & (pedidos['dcl_date_local'] >= '2023-01-09') & (pedidos['dcl_date_local'] < '2023-01-12')]"
   ]
  },
  {
   "cell_type": "code",
   "execution_count": 24,
   "id": "6f86ad86",
   "metadata": {},
   "outputs": [],
   "source": [
    "pedidos = pedidos[['order_id', 'frn_id', 'delivery_by', 'dish_type', 'cfm_date_local', 'dcl_date_local', 'con_date_local', 'cli_lat', 'cli_lon', 'rst_lat', 'rst_lon']] \\\n",
    "    .rename(columns={'order_id': 'Ident. Pedido', 'frn_id': 'Estabelecimento', 'delivery_by': 'Tipo Entrega', 'dish_type': 'Tipo Estab.', 'cfm_date_local': 'Início Preparo', 'dcl_date_local': 'Início Entrega', 'con_date_local': 'Término Entrega', 'cli_lat': 'Lat Cliente', 'cli_lon': 'Lon Cliente', 'rst_lat': 'Lat Estab.', 'rst_lon': 'Lon Estab.'})"
   ]
  },
  {
   "cell_type": "code",
   "execution_count": 25,
   "id": "4be4682f",
   "metadata": {},
   "outputs": [],
   "source": [
    "pedidos.to_csv('./Dados/Amostra_Pedidos.csv', index=False)"
   ]
  },
  {
   "cell_type": "code",
   "execution_count": null,
   "id": "a48d2033",
   "metadata": {},
   "outputs": [],
   "source": [
    "pedidos['hr_pedido'] = pedidos.dcl_date_local.dt.floor('30min').dt.strftime('%H:%M')"
   ]
  },
  {
   "cell_type": "code",
   "execution_count": null,
   "id": "b973b0b4",
   "metadata": {},
   "outputs": [],
   "source": [
    "def gerar_amostra(df, grp, min_repr, n, semente):\n",
    "    pop = df[grp].value_counts()\n",
    "    np.random.seed(semente)\n",
    "    pop_valida = np.random.choice(pop[pop.values >= min_repr].index, size=n, replace=False)\n",
    "    amostra = df[df[grp].isin(pop_valida)]\n",
    "    \n",
    "    return amostra"
   ]
  },
  {
   "cell_type": "code",
   "execution_count": null,
   "id": "05efe371",
   "metadata": {},
   "outputs": [],
   "source": [
    "agrupador, pedidos_minimos, tam_amostra, semente = 'frn_id', 100, 3, 1234"
   ]
  },
  {
   "cell_type": "code",
   "execution_count": null,
   "id": "58abf39d",
   "metadata": {},
   "outputs": [],
   "source": [
    "amostra_rests = gerar_amostra(pedidos, agrupador, pedidos_minimos, tam_amostra, semente)"
   ]
  },
  {
   "cell_type": "code",
   "execution_count": null,
   "id": "ef980c12",
   "metadata": {},
   "outputs": [],
   "source": [
    "def plotar_eventos_ts(df_a, grp_a, ts, evt, cols, n):\n",
    "    grupos = df_a.groupby(grp_a)\n",
    "    fig, axs = plt.subplots(ncols=cols, nrows=int(n / cols), figsize=(20, (int(n / cols) + 1) * 3))\n",
    "\n",
    "    for (grp, df), ax in zip(grupos, axs.ravel()):\n",
    "        df.groupby(ts)[evt].count().plot(ax=ax, xlabel='', ylabel='', title=grp)"
   ]
  },
  {
   "cell_type": "code",
   "execution_count": null,
   "id": "87e2c1f9",
   "metadata": {
    "scrolled": true
   },
   "outputs": [],
   "source": [
    "plotar_eventos_ts(amostra_rests, 'frn_id', 'hr_pedido', 'order_id', 3, tam_amostra)"
   ]
  },
  {
   "cell_type": "code",
   "execution_count": null,
   "id": "3f4515c6",
   "metadata": {},
   "outputs": [],
   "source": [
    "KernelDensity?"
   ]
  },
  {
   "cell_type": "code",
   "execution_count": null,
   "id": "a7a039d9",
   "metadata": {},
   "outputs": [],
   "source": [
    "def estimar_h(df, grp, ts, evt):\n",
    "    testes_h = 10 ** np.linspace(-1, 1, 100)\n",
    "    grid = GridSearchCV(KernelDensity(kernel='gaussian'), {'bandwidth': testes_h}, cv=LeaveOneOut())\n",
    "    grupos = df.groupby(grp)\n",
    "    \n",
    "    res = []\n",
    "    for (grp, df) in grupos:\n",
    "        Nt = df.groupby(ts).agg({evt: 'count'})\n",
    "        grid.fit(Nt)\n",
    "        \n",
    "        res.append({'grupo': grp, 'h': grid})\n",
    "    \n",
    "    return res"
   ]
  },
  {
   "cell_type": "code",
   "execution_count": null,
   "id": "1646ee0f",
   "metadata": {},
   "outputs": [],
   "source": [
    "amostra_rests['t'] = pedidos.dcl_date_local.dt.floor('5min')\n",
    "estimar_h(amostra_rests, 'frn_id', 't', 'order_id')"
   ]
  }
 ],
 "metadata": {
  "kernelspec": {
   "display_name": "Python 3 (ipykernel)",
   "language": "python",
   "name": "python3"
  },
  "language_info": {
   "codemirror_mode": {
    "name": "ipython",
    "version": 3
   },
   "file_extension": ".py",
   "mimetype": "text/x-python",
   "name": "python",
   "nbconvert_exporter": "python",
   "pygments_lexer": "ipython3",
   "version": "3.9.12"
  }
 },
 "nbformat": 4,
 "nbformat_minor": 5
}
