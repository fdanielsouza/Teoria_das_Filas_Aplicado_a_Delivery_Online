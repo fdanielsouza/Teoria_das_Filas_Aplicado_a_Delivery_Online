{
 "cells": [
  {
   "cell_type": "code",
   "execution_count": null,
   "id": "961f2bc4",
   "metadata": {},
   "outputs": [],
   "source": [
    "#!pip install numpy==1.22.*\n",
    "#!pip install queueing_tool"
   ]
  },
  {
   "cell_type": "code",
   "execution_count": 205,
   "id": "781c6063",
   "metadata": {
    "scrolled": true
   },
   "outputs": [],
   "source": [
    "import numpy as np\n",
    "import pandas as pd\n",
    "import geopandas as gpd\n",
    "import datetime as dt\n",
    "import math\n",
    "import itertools as it\n",
    "from operator import itemgetter\n",
    "from matplotlib import pyplot as plt, dates as md\n",
    "from matplotlib.ticker import MaxNLocator\n",
    "from scipy.special import factorial\n",
    "from scipy.stats import norm, poisson, gamma, probplot, ks_2samp, kstest\n",
    "from scipy.optimize import minimize, Bounds\n",
    "from scipy.integrate import quad\n",
    "from shapely.geometry import Point, Polygon"
   ]
  },
  {
   "cell_type": "code",
   "execution_count": 2,
   "id": "41fcae7f",
   "metadata": {},
   "outputs": [],
   "source": [
    "plt.rcParams['font.family'] = 'sans'\n",
    "plt.rcParams['font.size'] = 12"
   ]
  },
  {
   "cell_type": "code",
   "execution_count": 3,
   "id": "b7181d9a",
   "metadata": {},
   "outputs": [],
   "source": [
    "def amostra_agrupada(df, grupo, tam, n_min, n_max, semente):\n",
    "    df_filtrado = df.groupby(grupo).filter(lambda x: (len(x) >= n_min) & (len(x) <= n_max))\n",
    "    amostra_df_filtrado = pd.Series(df_filtrado[grupo].unique()).sample(tam, random_state=semente)\n",
    "    \n",
    "    return df[df[grupo].isin(amostra_df_filtrado)]\n",
    "\n",
    "\n",
    "def plot_agrupado(df, grupo, x, y, agr, cols):\n",
    "    grps = df.groupby(grupo, sort=False)\n",
    "    rows = int(grps.ngroups / cols)\n",
    "    fig, axs = plt.subplots(ncols=cols, nrows=rows, figsize=(18, 4 * rows))\n",
    "\n",
    "    for (chv, grp), ax in zip(grps, axs.ravel()):\n",
    "        grp.groupby(x).agg(pedidos=(y, agr)).plot(kind='bar', legend='', xlabel='', ax=ax)\n",
    "        ax.set_title(grp[grupo].unique()[0])"
   ]
  },
  {
   "cell_type": "code",
   "execution_count": 4,
   "id": "0155ecc0",
   "metadata": {},
   "outputs": [],
   "source": [
    "def Y_t(x, T):\n",
    "    return len(T[T >= x])\n",
    "\n",
    "\n",
    "def epanechnikov(x):\n",
    "    return 3 / 4 * (1 - x ** 2) if np.abs(x) <= 1 else np.zeros(1)\n",
    "\n",
    "    \n",
    "def alfa_t(x, T, b, K=norm.pdf):\n",
    "    b = np.array([b]) if not isinstance(b, np.ndarray) else b\n",
    "    n = len(T)\n",
    "    K_t = [K((x - Ti) / b) / Y_t(Ti, T) for i, Ti in enumerate(T)]\n",
    "    return np.sum(K_t) / b\n",
    "\n",
    "\n",
    "def Lambda_t(x, T, b, K=norm.pdf):\n",
    "    return alfa_t(x, T, b, K) * Y_t(x, T)\n",
    "\n",
    "\n",
    "def A_t(x, T, b, K=norm.pdf):\n",
    "    return quad(Lambda_t, 0, x, (T, b, K))\n",
    "\n",
    "\n",
    "def A_t_parcial(xi, xj, T, b, K=norm.pdf):\n",
    "    return quad(Lambda_t, xi, xj, (T, b, K))\n",
    "\n",
    "\n",
    "def A_t_Riemann(T, b, K=norm.pdf, h=0.0001):\n",
    "    oT = np.insert(np.sort(T), 0, 0)\n",
    "    return oT[1:], h * np.cumsum([np.sum([Lambda_t(x, T, b, K) for x in np.arange(i, j, h)]) for i, j in zip(oT[:-1], oT[1:])])\n",
    "\n",
    "\n",
    "def cv_loglike(b, x, K=norm.pdf):\n",
    "    n = len(x)\n",
    "    total_loglike = 0\n",
    "    \n",
    "    for i in range(n):\n",
    "        x_sem_i = np.delete(x, i)\n",
    "        xi = x[i]\n",
    "        alfa_fxi = alfa_t(xi, x_sem_i, b, K)\n",
    "        if alfa_fxi <= 0: continue\n",
    "        total_loglike += np.log(alfa_fxi)\n",
    "        \n",
    "    return -total_loglike\n",
    "\n",
    "\n",
    "def b_otimo_cv(f, ini, params, lims):\n",
    "    return minimize(f, (ini,), params, bounds=lims)['x']"
   ]
  },
  {
   "cell_type": "markdown",
   "id": "61d1bcb0",
   "metadata": {},
   "source": [
    "### Conjunto de dados"
   ]
  },
  {
   "cell_type": "code",
   "execution_count": 5,
   "id": "39b4bef4",
   "metadata": {},
   "outputs": [],
   "source": [
    "pedidos = pd.read_csv('./Dados/Amostra_Pedidos.csv', parse_dates=['Início Preparo', 'Início Entrega', 'Término Entrega'])"
   ]
  },
  {
   "cell_type": "code",
   "execution_count": 6,
   "id": "e0c2cd67",
   "metadata": {},
   "outputs": [],
   "source": [
    "pedidos = pedidos[(pedidos['Início Preparo'] > dt.datetime(2023, 1, 10)) & (pedidos['Início Preparo'] < dt.datetime(2023, 1, 11))]"
   ]
  },
  {
   "cell_type": "code",
   "execution_count": 7,
   "id": "502c2bb6",
   "metadata": {},
   "outputs": [],
   "source": [
    "pedidos_por_estabelecimento = pedidos['Estabelecimento'].value_counts().reset_index()\n",
    "estabelecimentos_validos = pedidos_por_estabelecimento[pedidos_por_estabelecimento['Estabelecimento'] >= 10]['index'].values\n",
    "pedidos = pedidos[pedidos['Estabelecimento'].isin(estabelecimentos_validos)]"
   ]
  },
  {
   "cell_type": "code",
   "execution_count": 8,
   "id": "00224e1a",
   "metadata": {},
   "outputs": [],
   "source": [
    "rest_grande = amostra_agrupada(pedidos[pedidos['Tipo Entrega'] == 'IFOOD'], 'Estabelecimento', 1, 101, 200, 42)\n",
    "rest_grande['Tam Rest'] = '100-200 orders'\n",
    "rest_medio = amostra_agrupada(pedidos[pedidos['Tipo Entrega'] == 'IFOOD'], 'Estabelecimento', 1, 51, 100, 42)\n",
    "rest_medio['Tam Rest'] = '50-100 orders'\n",
    "rest_pequeno = amostra_agrupada(pedidos[pedidos['Tipo Entrega'] == 'IFOOD'], 'Estabelecimento', 1, 30, 50, 42)\n",
    "rest_pequeno['Tam Rest'] = '30-50 orders'\n",
    "amostra_rests = pd.concat([rest_pequeno, rest_medio, rest_grande])\n",
    "amostra_rests['Horário Preparo'] = amostra_rests['Início Preparo'].dt.floor('1h').dt.strftime('%H:%M')"
   ]
  },
  {
   "cell_type": "code",
   "execution_count": null,
   "id": "a0327a92",
   "metadata": {
    "scrolled": true
   },
   "outputs": [],
   "source": [
    "plot_agrupado(amostra_rests, 'Tam Rest', 'Horário Preparo', 'Ident. Pedido', 'count', 3)"
   ]
  },
  {
   "cell_type": "markdown",
   "id": "3f85f577",
   "metadata": {},
   "source": [
    "### Cálculos taxa de chegada"
   ]
  },
  {
   "cell_type": "code",
   "execution_count": null,
   "id": "a58991eb",
   "metadata": {},
   "outputs": [],
   "source": [
    "grps = amostra_rests.groupby('Tam Rest', sort=False)\n",
    "t0 = dt.datetime(2023, 1, 10)\n",
    "\n",
    "Nt = []\n",
    "for chv, grp in grps:\n",
    "    T = (grp['Início Preparo'] - t0).dt.total_seconds().values / 86400\n",
    "    b = b_otimo_cv(cv_loglike, 1, (T, norm.pdf), Bounds(0.0001, float('inf')))\n",
    "    alfas_t = np.array([alfa_t(t, T, b) for t in T])\n",
    "    As_t = A_t_Riemann(T, b)\n",
    "    Nt.append({\n",
    "        'Estab': chv,\n",
    "        'b': b,\n",
    "        'T': T,\n",
    "        'alfa': alfas_t,\n",
    "        'A': As_t\n",
    "    })"
   ]
  },
  {
   "cell_type": "code",
   "execution_count": null,
   "id": "029b8b45",
   "metadata": {
    "scrolled": true
   },
   "outputs": [],
   "source": [
    "fig, axs = plt.subplots(ncols=3, nrows=1, figsize=(16, 4))\n",
    "\n",
    "for N, ax in zip(Nt, axs.ravel()):\n",
    "    ax.plot(N['A'][0], N['A'][1], label='Estimated')\n",
    "    ax.plot(*list(zip(*np.array([(t, len(N['T'][N['T'] <= t])) for t in np.sort(N['T'])]))), label='Empirical')\n",
    "    ax.set_title(N['Estab'])\n",
    "    ax.legend()\n",
    "    tks = ax.get_xticks()\n",
    "    ax.set_xticklabels([(dt.datetime(2023, 1, 10) + dt.timedelta(seconds=int(t * 86400))).strftime('%H:%M') for t in tks])"
   ]
  },
  {
   "cell_type": "code",
   "execution_count": null,
   "id": "e6ace2b3",
   "metadata": {},
   "outputs": [],
   "source": [
    "for N in Nt:\n",
    "    emp = np.array([len(N['T'][N['T'] <= t]) for t in np.sort(N['T'])])\n",
    "    est = N['A'][1]\n",
    "    print(N['Estab'], round(ks_2samp(emp, est).pvalue, 4))"
   ]
  },
  {
   "cell_type": "code",
   "execution_count": null,
   "id": "949f78fb",
   "metadata": {},
   "outputs": [],
   "source": [
    "pedidos_rests = pedidos.groupby('Estabelecimento').agg(pedidos_rest=('Ident. Pedido', 'count')).reset_index()\n",
    "pedidos_rests['Tam Rest'] = pedidos_rests['pedidos_rest'].apply(lambda x: '>200' if x > 200 else '100-200' if x >= 100 else '50-100' if x >= 50 else '30-50' if x >=30 else '10-30')\n",
    "pedidos = pedidos.merge(pedidos_rests, on='Estabelecimento')"
   ]
  },
  {
   "cell_type": "code",
   "execution_count": null,
   "id": "91a85d12",
   "metadata": {},
   "outputs": [],
   "source": [
    "grps = pedidos.groupby('Estabelecimento')\n",
    "NtT = []\n",
    "for chv, grp in grps:\n",
    "    print(chv)\n",
    "    T = (grp['Início Preparo'] - t0).dt.total_seconds().values / 86400\n",
    "    b = b_otimo_cv(cv_loglike, 1, (T, epanechnikov), Bounds(0.0001, float('inf')))\n",
    "    As_t = A_t_Riemann(T, b)\n",
    "    NtT.append({'Est': chv, 'Tam': grp['Tam Rest'].unique()[0], 'T': T, 'b': b, 'A': As_t})"
   ]
  },
  {
   "cell_type": "markdown",
   "id": "a9e8d474",
   "metadata": {},
   "source": [
    "import json\n",
    "\n",
    "def conversor(x):\n",
    "    if hasattr(x, 'tolist'):\n",
    "        return x.tolist()\n",
    "    raise TypeError(x)\n",
    "    \n",
    "with open('./temp_json', 'w') as arquivo:\n",
    "    arquivo.write(json.dumps(NtT, indent=4, default=conversor))"
   ]
  },
  {
   "cell_type": "code",
   "execution_count": null,
   "id": "4f7fd930",
   "metadata": {},
   "outputs": [],
   "source": [
    "with open('./temp_json') as arquivo:\n",
    "    NtT_json = np.array(json.loads(arquivo.read()))"
   ]
  },
  {
   "cell_type": "code",
   "execution_count": null,
   "id": "83288fff",
   "metadata": {},
   "outputs": [],
   "source": [
    "pvalues = []\n",
    "for N in NtT:\n",
    "    emp = np.array([len(N['T'][N['T'] <= t]) for t in np.sort(N['T'])])\n",
    "    est = N['A'][1]\n",
    "    pvalues.append({'Tam': N['Tam'], 'pvalue': ks_2samp(emp, est).pvalue})"
   ]
  },
  {
   "cell_type": "code",
   "execution_count": null,
   "id": "ea6a7fab",
   "metadata": {},
   "outputs": [],
   "source": [
    "df_pvalues = pd.DataFrame(pvalues)\n",
    "df_pvalues['c'] = 'c'"
   ]
  },
  {
   "cell_type": "code",
   "execution_count": null,
   "id": "ba7c8667",
   "metadata": {
    "scrolled": true
   },
   "outputs": [],
   "source": [
    "df_pvalues.groupby('Tam').apply(lambda x: round((x.pvalue > 0.05).sum() / x.pvalue.count(), 4))"
   ]
  },
  {
   "cell_type": "code",
   "execution_count": null,
   "id": "72a22fa9",
   "metadata": {},
   "outputs": [],
   "source": [
    "def distancia(lat1, lon1, lat2, lon2):\n",
    "    return math.acos(\n",
    "        math.sin(math.radians(lat1)) * math.sin(math.radians(lat2)) + \n",
    "        math.cos(math.radians(lat1)) * math.cos(math.radians(lat2)) * math.cos(math.radians(lon1) - math.radians(lon2))\n",
    "    ) * 6371."
   ]
  },
  {
   "cell_type": "markdown",
   "id": "836a5f83",
   "metadata": {},
   "source": [
    "### Cálculo Tempos de Serviço"
   ]
  },
  {
   "cell_type": "code",
   "execution_count": null,
   "id": "8b3457c3",
   "metadata": {},
   "outputs": [],
   "source": [
    "pedidos['Distancia'] = pedidos.apply(lambda x: distancia(x['Lat Cliente'], x['Lon Cliente'], x['Lat Estab.'], x['Lon Estab.']), axis=1)"
   ]
  },
  {
   "cell_type": "code",
   "execution_count": null,
   "id": "b89c1c62",
   "metadata": {},
   "outputs": [],
   "source": [
    "def t0(d0, v0):\n",
    "    return d0 / v0"
   ]
  },
  {
   "cell_type": "code",
   "execution_count": null,
   "id": "93182b95",
   "metadata": {},
   "outputs": [],
   "source": [
    "pdd_terc = pedidos[pedidos['Tipo Entrega'] == 'MERCHANT']"
   ]
  },
  {
   "cell_type": "code",
   "execution_count": null,
   "id": "f9dc0f6c",
   "metadata": {},
   "outputs": [],
   "source": [
    "pdd_terc['TP'] = 3\n",
    "pdd_terc['Ttau'] = pdd_terc['Distancia'] / 25 * 60\n",
    "pdd_terc['TC'] = pdd_terc['Ttau'] + pdd_terc['TP']\n",
    "pdd_terc['d_TC'] = pdd_terc['TC'].apply(lambda x: math.floor(x)) + 1"
   ]
  },
  {
   "cell_type": "code",
   "execution_count": null,
   "id": "9264e41a",
   "metadata": {},
   "outputs": [],
   "source": [
    "pdd_prim = pedidos[pedidos['Tipo Entrega'] == 'IFOOD']"
   ]
  },
  {
   "cell_type": "code",
   "execution_count": null,
   "id": "719f6337",
   "metadata": {},
   "outputs": [],
   "source": [
    "pdd_prim['TC'] = pdd_prim.apply(lambda x: (x['Término Entrega'] - x['Início Entrega']).total_seconds()  / 60, axis=1)\n",
    "pdd_prim['d_TC'] = pdd_prim.apply(lambda x: math.floor(x['TC']) + 1, axis=1)"
   ]
  },
  {
   "cell_type": "code",
   "execution_count": null,
   "id": "bddebdc6",
   "metadata": {},
   "outputs": [],
   "source": [
    "rests_cross = amostra_rests[['Tam Rest', 'Estabelecimento', 'Lat Estab.', 'Lon Estab.']].drop_duplicates().merge(pdd_prim[['Estabelecimento', 'Lat Estab.', 'Lon Estab.']].drop_duplicates(), how='cross')\n",
    "rests_cross = rests_cross[rests_cross['Estabelecimento_x'] != rests_cross['Estabelecimento_y']]\n",
    "rests_cross['distancia_rests'] = rests_cross.apply(lambda x: distancia(x['Lat Estab._x'], x['Lon Estab._x'], x['Lat Estab._y'], x['Lon Estab._y']), axis=1)\n",
    "rests_proximos = rests_cross[rests_cross['distancia_rests'] <= 2]"
   ]
  },
  {
   "cell_type": "code",
   "execution_count": null,
   "id": "f354ba70",
   "metadata": {
    "scrolled": true
   },
   "outputs": [],
   "source": [
    "fig, axs = plt.subplots(nrows=1, ncols=3, figsize=(16, 4))\n",
    "grp_estabs_prox = amostra_rests.groupby('Tam Rest', sort=False)\n",
    "\n",
    "for (chv, grp), ax in zip(grp_estabs_prox, axs.ravel()):\n",
    "    #pdds_proximos = grp.merge(pdd_prim, left_on='Estabelecimento_y', right_on='Estabelecimento')\n",
    "    #rest = grp['Estabelecimento'].unique()[0]\n",
    "    a, l, b = gamma.fit(grp['TC'].values, floc=0)\n",
    "    ax.hist(grp['TC'].values, bins=20, density=True)\n",
    "    x = np.linspace(*grp['TC'].agg(['min', 'max']), 100)\n",
    "    ax.plot(x, gamma.pdf(x, a, loc=0, scale=b))\n",
    "    ax.set_title('{0}\\nK: {1}, θ: {2}'.format(chv, round(a, 2), round(b, 2)))"
   ]
  },
  {
   "cell_type": "code",
   "execution_count": null,
   "id": "18a23dff",
   "metadata": {},
   "outputs": [],
   "source": [
    "grp_estabs_prox = pdd_prim.groupby('Estabelecimento', sort=False)\n",
    "pvals = []\n",
    "\n",
    "for chv, grp in grp_estabs_prox:\n",
    "   # pdds_proximos = grp.merge(pdd_prim, left_on='Estabelecimento_y', right_on='Estabelecimento')\n",
    "    #rest = grp['Estabelecimento_x'].unique()[0]\n",
    "    a, l, b = gamma.fit(grp['TC'].values, floc=0)\n",
    "    pvals.append((grp['Tam Rest'].drop_duplicates().values[0], kstest(grp['TC'].values, 'gamma', (a, l, b)).pvalue))"
   ]
  },
  {
   "cell_type": "code",
   "execution_count": null,
   "id": "e311120c",
   "metadata": {},
   "outputs": [],
   "source": [
    "abc = np.array(np.array(pvals)[:,1], dtype=float)\n",
    "len(abc[abc >= 0.05]) / len(abc)"
   ]
  },
  {
   "cell_type": "code",
   "execution_count": null,
   "id": "199d913f",
   "metadata": {},
   "outputs": [],
   "source": [
    "for tam in np.unique(np.array(pvals)[:,0]):\n",
    "    pvalues_rest = np.array(np.array(pvals)[np.array(pvals)[:,0] == tam, 1], dtype=float)\n",
    "    \n",
    "    print(tam, len(pvalues_rest[pvalues_rest >= 0.05]) / len(pvalues_rest))"
   ]
  },
  {
   "cell_type": "code",
   "execution_count": null,
   "id": "7bc83993",
   "metadata": {
    "scrolled": true
   },
   "outputs": [],
   "source": [
    "fig, axs = plt.subplots(nrows=1, ncols=3, figsize=(16, 4))\n",
    "grp_estabs_prox = amostra_rests.groupby('Tam Rest', sort=False)\n",
    "\n",
    "for (chv, grp), ax in zip(grp_estabs_prox, axs.ravel()):\n",
    "    #pdds_proximos = grp.merge(pdd_prim, left_on='Estabelecimento_y', right_on='Estabelecimento')\n",
    "    #rest = grp['Estabelecimento_x'].unique()[0]\n",
    "    a, l, b = gamma.fit(grp['TC'].values, floc=0)\n",
    "    probplot(grp['TC'].values, (a, 0, b), 'gamma', fit=True, plot=ax)\n",
    "    ax.set_title(chv)\n",
    "    ax.set_title('{0}\\np-value: {1}'.format(chv, round(kstest(grp['TC'].values, 'gamma', (a, l, b)).pvalue, 4)))"
   ]
  },
  {
   "cell_type": "code",
   "execution_count": null,
   "id": "ad55e5b7",
   "metadata": {},
   "outputs": [],
   "source": [
    "fig, axs = plt.subplots(nrows=1, ncols=3, figsize=(16, 4))\n",
    "grp_estabs_prox = rests_proximos.groupby('Tam Rest', sort=False)\n",
    "\n",
    "for (chv, grp), ax in zip(grp_estabs_prox, axs.ravel()):\n",
    "    pdds_proximos = grp.merge(pdd_prim, left_on='Estabelecimento_y', right_on='Estabelecimento')\n",
    "    a, _, b = gamma.fit(pdds_proximos['TC'].values, floc=0)\n",
    "    pdds_proximos['TC'] = pdds_proximos['Distancia'] / 10 * 60 + 3\n",
    "    ax.hist(pdds_proximos['TC'].values, bins=20, density=True)\n",
    "    \n",
    "    x = np.linspace(*pdds_proximos['TC'].agg(['min', 'max']), 100)\n",
    "    ax.plot(x, gamma.pdf(x, a, loc=0, scale=b))\n",
    "    ax.set_title('{0}'.format(chv))"
   ]
  },
  {
   "cell_type": "markdown",
   "id": "56a031e6",
   "metadata": {},
   "source": [
    "### Cálculo L"
   ]
  },
  {
   "cell_type": "code",
   "execution_count": null,
   "id": "a5bb81c6",
   "metadata": {},
   "outputs": [],
   "source": [
    "amostra_rests['Distancia'] = amostra_rests.apply(lambda x: distancia(x['Lat Cliente'], x['Lon Cliente'], x['Lat Estab.'], x['Lon Estab.']), axis=1)"
   ]
  },
  {
   "cell_type": "code",
   "execution_count": null,
   "id": "efcd3b9b",
   "metadata": {},
   "outputs": [],
   "source": [
    "max_dists_amostra = amostra_rests.groupby(['Tam Rest', 'Estabelecimento', 'Lat Estab.', 'Lon Estab.'], sort=False).agg(max_dist=('Distancia', 'max')).reset_index()"
   ]
  },
  {
   "cell_type": "code",
   "execution_count": null,
   "id": "94995030",
   "metadata": {},
   "outputs": [],
   "source": [
    "max_dists_amostra['max_dist'] = max_dists_amostra['max_dist'].apply(lambda x: math.ceil(x))"
   ]
  },
  {
   "cell_type": "code",
   "execution_count": null,
   "id": "97c0ca53",
   "metadata": {},
   "outputs": [],
   "source": [
    "fortaleza = gpd.read_file('Dados_ini/Densidade_Populacional_por_Bairros.zip')"
   ]
  },
  {
   "cell_type": "code",
   "execution_count": null,
   "id": "2123d2c3",
   "metadata": {},
   "outputs": [],
   "source": [
    "def arred_baixo(num, dec):\n",
    "    return math.floor(num * 10 ** dec) / 10 ** dec"
   ]
  },
  {
   "cell_type": "code",
   "execution_count": null,
   "id": "a2559caf",
   "metadata": {},
   "outputs": [],
   "source": [
    "def fazer_grade(x_min, y_min, x_max, y_max, p):\n",
    "    return [(round(x, 3), round(y, 3)) for x in np.arange(x_min - p, x_max + p, p) for y in np.arange(y_min - p, y_max + p, p)]"
   ]
  },
  {
   "cell_type": "code",
   "execution_count": null,
   "id": "3cede7e2",
   "metadata": {},
   "outputs": [],
   "source": [
    "x_min, y_min, x_max, y_max = (arred_baixo(b, 3) for b in fortaleza.geometry.unary_union.bounds)"
   ]
  },
  {
   "cell_type": "code",
   "execution_count": null,
   "id": "d21aa989",
   "metadata": {},
   "outputs": [],
   "source": [
    "grade_completa = fazer_grade(x_min, y_min, x_max, y_max, 0.001)"
   ]
  },
  {
   "cell_type": "code",
   "execution_count": null,
   "id": "f89f11a2",
   "metadata": {},
   "outputs": [],
   "source": [
    "plt.scatter(*list(zip(*grade_completa)))"
   ]
  },
  {
   "cell_type": "code",
   "execution_count": null,
   "id": "81c3874c",
   "metadata": {},
   "outputs": [],
   "source": [
    "df_grade_completa = pd.DataFrame(grade_completa, columns=['lon', 'lat'])"
   ]
  },
  {
   "cell_type": "code",
   "execution_count": null,
   "id": "a2b82d4c",
   "metadata": {},
   "outputs": [],
   "source": [
    "raio_entrega_amostra = max_dists_amostra.merge(df_grade_completa, how='cross')"
   ]
  },
  {
   "cell_type": "code",
   "execution_count": null,
   "id": "5022c57f",
   "metadata": {},
   "outputs": [],
   "source": [
    "raio_entrega_amostra['Distancia'] = raio_entrega_amostra.apply(lambda x: distancia(x['lat'], x['lon'], x['Lat Estab.'], x['Lon Estab.']), axis=1)"
   ]
  },
  {
   "cell_type": "code",
   "execution_count": null,
   "id": "a56c4a33",
   "metadata": {},
   "outputs": [],
   "source": [
    "raio_entrega_amostra = raio_entrega_amostra[raio_entrega_amostra['Distancia'] <= raio_entrega_amostra['max_dist']]"
   ]
  },
  {
   "cell_type": "code",
   "execution_count": null,
   "id": "4a82f462",
   "metadata": {
    "scrolled": true
   },
   "outputs": [],
   "source": [
    "raio_entrega_amostra = gpd.GeoDataFrame(raio_entrega_amostra, geometry=gpd.points_from_xy(raio_entrega_amostra['lon'], raio_entrega_amostra['lat']))"
   ]
  },
  {
   "cell_type": "code",
   "execution_count": null,
   "id": "e77bc5bd",
   "metadata": {},
   "outputs": [],
   "source": [
    "fig, axs = plt.subplots(nrows=1, ncols=3, figsize=(16, 4))\n",
    "grp_raios_entrega = raio_entrega_amostra.groupby('Tam Rest', sort=False)\n",
    "\n",
    "for (chv, grp), ax in zip(grp_raios_entrega, axs.ravel()):\n",
    "    fortaleza.dissolve().plot(color='lightblue', label='Cidade', ax=ax)\n",
    "    gpd.sjoin(grp, fortaleza.dissolve(), 'inner', 'within').plot(color='blue', label='Raio', ax=ax)\n",
    "    ax.scatter(grp['Lon Estab.'], grp['Lat Estab.'], color='red', label='Estab.')\n",
    "    ax.legend(loc=1)\n",
    "    ax.set_title('{0}\\nL={1}'.format(chv, len(grp)))"
   ]
  },
  {
   "cell_type": "markdown",
   "id": "968ff08b",
   "metadata": {},
   "source": [
    "### Simulação de fila"
   ]
  },
  {
   "cell_type": "code",
   "execution_count": 9,
   "id": "7561c4a2",
   "metadata": {},
   "outputs": [],
   "source": [
    "def estim_b(df, t0, chv, uid, ini):\n",
    "    df = df[df[chv] == uid]\n",
    "    T = (df[ini] - t0).dt.total_seconds().values / 86400\n",
    "    b = b_otimo_cv(cv_loglike, 1, (T, norm.pdf), Bounds(0.0001, float('inf')))\n",
    "    return b"
   ]
  },
  {
   "cell_type": "code",
   "execution_count": 10,
   "id": "17885def",
   "metadata": {},
   "outputs": [],
   "source": [
    "def estim_lambda(df, chv, uid, ini, t0, t, b, K=norm.pdf):\n",
    "    df = df[df[chv] == uid]\n",
    "    t_dec = (t - t0).total_seconds() / 86400\n",
    "    T = (df[ini] - t0).dt.total_seconds().values / 86400\n",
    "    a = alfa_t(t_dec, T, b, K)\n",
    "    return a"
   ]
  },
  {
   "cell_type": "code",
   "execution_count": 11,
   "id": "69bb1810",
   "metadata": {},
   "outputs": [],
   "source": [
    "def simula_entradas_fila(lamb, n):\n",
    "    return poisson.rvs(lamb, size=n)"
   ]
  },
  {
   "cell_type": "code",
   "execution_count": 12,
   "id": "b4761c95",
   "metadata": {},
   "outputs": [],
   "source": [
    "def V(x, lamb):\n",
    "    return poisson.pmf(x, lamb)"
   ]
  },
  {
   "cell_type": "code",
   "execution_count": 14,
   "id": "2208ff0e",
   "metadata": {},
   "outputs": [],
   "source": [
    "def simula_tempo_servico_discreto(n, k, theta):\n",
    "    return math.ceil(gamma.rvs(k, loc=0, scale=theta, size=n)[0])"
   ]
  },
  {
   "cell_type": "code",
   "execution_count": 15,
   "id": "85861074",
   "metadata": {},
   "outputs": [],
   "source": [
    "def S(x, k, theta):\n",
    "    return gamma.cdf(x, k, loc=0, scale=theta) - gamma.cdf(x - 1, k, loc=0, scale=theta)"
   ]
  },
  {
   "cell_type": "code",
   "execution_count": 110,
   "id": "19f7d9a2",
   "metadata": {},
   "outputs": [],
   "source": [
    "def estim_k_theta_ts(df, col_ts):\n",
    "    k, l, theta = gamma.fit(df[col_ts].values / 5, floc=0)\n",
    "    return k, theta"
   ]
  },
  {
   "cell_type": "code",
   "execution_count": 111,
   "id": "faaa0bda",
   "metadata": {},
   "outputs": [],
   "source": [
    "def params_espaco_estado(df, lat1, lat2, lon1, lon2, ini, fim, delta_t):\n",
    "    df['TC'] = df.apply(lambda x: (x[fim] - x[ini]).total_seconds() / 60 / 5, axis=1)\n",
    "    df['d_TC'] = df.apply(lambda x: math.floor(x['TC'] / delta_t) + 1, axis=1)\n",
    "    m = df['d_TC'].max() + 1\n",
    "    L = df[ini].dt.floor('{}min'.format(delta_t)).value_counts()[0] * m\n",
    "    \n",
    "    return L, m, df"
   ]
  },
  {
   "cell_type": "code",
   "execution_count": 112,
   "id": "59d48607",
   "metadata": {},
   "outputs": [],
   "source": [
    "L, m, df_fila = params_espaco_estado(amostra_rests, 'Lat Cliente', 'Lat Estab.', 'Lon Cliente', 'Lon Estab.', 'Início Entrega', 'Término Entrega', 5)"
   ]
  },
  {
   "cell_type": "code",
   "execution_count": 113,
   "id": "69b578c4",
   "metadata": {},
   "outputs": [
    {
     "data": {
      "text/plain": [
       "array([534326, 203669, 688224], dtype=int64)"
      ]
     },
     "execution_count": 113,
     "metadata": {},
     "output_type": "execute_result"
    }
   ],
   "source": [
    "df_fila['Estabelecimento'].unique()"
   ]
  },
  {
   "cell_type": "code",
   "execution_count": 114,
   "id": "83bdd91c",
   "metadata": {},
   "outputs": [],
   "source": [
    "teste = df_fila[df_fila['Estabelecimento'] == 688224]"
   ]
  },
  {
   "cell_type": "code",
   "execution_count": 115,
   "id": "c72e7a15",
   "metadata": {},
   "outputs": [],
   "source": [
    "t0 = dt.datetime(2023, 1, 10)\n",
    "T = (teste['Início Preparo'] - t0).dt.total_seconds().values / 86400\n",
    "b = b_otimo_cv(cv_loglike, 1, (T, norm.pdf), Bounds(0.0001, float('inf')))\n",
    "alfas_t = np.array([alfa_t(t, T, b) for t in T])"
   ]
  },
  {
   "cell_type": "code",
   "execution_count": 116,
   "id": "e8f39699",
   "metadata": {},
   "outputs": [],
   "source": [
    "pri_pdd, ult_pdd = teste['Início Entrega'].min() - dt.timedelta(minutes=5), teste['Início Entrega'].max() + dt.timedelta(minutes=5)"
   ]
  },
  {
   "cell_type": "code",
   "execution_count": 117,
   "id": "626dd327",
   "metadata": {},
   "outputs": [],
   "source": [
    "T_fila = [(t0 + dt.timedelta(minutes=m * 5) - t0).total_seconds() / 86400 for m in np.arange(1440 / 5)]"
   ]
  },
  {
   "cell_type": "code",
   "execution_count": 118,
   "id": "b0184228",
   "metadata": {},
   "outputs": [],
   "source": [
    "a_t_fila = np.array([alfa_t(t, T, b) for t in T_fila])"
   ]
  },
  {
   "cell_type": "code",
   "execution_count": 119,
   "id": "d9aa9d99",
   "metadata": {},
   "outputs": [],
   "source": [
    "k, theta = estim_k_theta_ts(teste, 'TC')"
   ]
  },
  {
   "cell_type": "markdown",
   "id": "5e5eef23",
   "metadata": {},
   "source": [
    "# Algoritmos de fila de Brahimi"
   ]
  },
  {
   "cell_type": "code",
   "execution_count": 120,
   "id": "0aece618",
   "metadata": {},
   "outputs": [],
   "source": [
    "def remover_tempos_servico(vetores_nx, C):\n",
    "    for n, xm_xi_x1, p_xm_xi_x1 in vetores_nx:\n",
    "        rems = np.maximum(xm_xi_x1 - C, 0)\n",
    "        movs = np.array([np.pad(xi, (1, 0), 'constant', constant_values=0)[:-1] for xi in np.minimum(xm_xi_x1, C)])\n",
    "        ym_yi_y1 = rems + movs\n",
    "        n1 = n - np.minimum(xm_xi_x1[:,-1], C).astype(int)\n",
    "        a = np.sum(ym_yi_y1, axis=1).astype(int)\n",
    "        \n",
    "        for vetor_n1_yi_a_px in zip(*(n1, ym_yi_y1, a, p_xm_xi_x1)):\n",
    "            yield vetor_n1_yi_a_px"
   ]
  },
  {
   "cell_type": "code",
   "execution_count": 121,
   "id": "4944bb71",
   "metadata": {},
   "outputs": [],
   "source": [
    "def ordenar_n1(vetores_n1_y_a_px):\n",
    "    for k, g in it.groupby(sorted(vetores_n1_y_a_px, key=itemgetter(0)), lambda x: x[0]):\n",
    "        yield k, [(v[1], v[2], v[3]) for v in g]"
   ]
  },
  {
   "cell_type": "code",
   "execution_count": 122,
   "id": "75fefb02",
   "metadata": {},
   "outputs": [],
   "source": [
    "def gerar_vetores_z(nnewst, m):\n",
    "    def gerar_zm_zi_z1(zj_z1, zm_zi_z1, st):\n",
    "        if zj_z1 == 0 and st == m:\n",
    "            z_combs.append(zm_zi_z1.copy())\n",
    "            return \n",
    "        if st == m:\n",
    "            return\n",
    "        for zj in range(zj_z1 + 1):\n",
    "            zm_zi_z1[st] = zj\n",
    "            gerar_zm_zi_z1(zj_z1 - zj, zm_zi_z1, st + 1)\n",
    "            zm_zi_z1[st] = 0\n",
    "\n",
    "    z_combs = []\n",
    "    zm_zi_z1 = np.zeros(m, dtype=int)\n",
    "    gerar_zm_zi_z1(nnewst, zm_zi_z1, 0)\n",
    "    \n",
    "    return np.array(z_combs)"
   ]
  },
  {
   "cell_type": "code",
   "execution_count": 123,
   "id": "723e0287",
   "metadata": {},
   "outputs": [],
   "source": [
    "def gerar_probs_z(nnewst, vetores_z, m, k, theta):\n",
    "    probs_ts = np.array([S(m - mi, k, theta) for mi in range(m)])\n",
    "    \n",
    "    return nnewst / np.prod(factorial(vetores_z), axis=1) * np.prod(probs_ts ** vetores_z, axis=1)"
   ]
  },
  {
   "cell_type": "code",
   "execution_count": 124,
   "id": "6a7cb08f",
   "metadata": {},
   "outputs": [],
   "source": [
    "def gerar_vetores_w(vetores_n_x, L, C, m, lamb, k, theta):\n",
    "    vetores_n1 = ordenar_n1(remover_tempos_servico(vetores_n_x, C))\n",
    "\n",
    "    for n1, vetores_y_a_px in vetores_n1:\n",
    "        r_max = L - n1\n",
    "\n",
    "        for r in range(r_max + 1):\n",
    "            n2 = min(n1 + r, L)\n",
    "\n",
    "            for ym_yi_y1, a, p_xm_xi_x1 in vetores_y_a_px:\n",
    "                nnewst = min(n2, C) - a\n",
    "\n",
    "                if nnewst == 0: continue\n",
    "                vetores_z = gerar_vetores_z(nnewst, m)\n",
    "                probs_z = gerar_probs_z(nnewst, vetores_z, m, k, theta)\n",
    "                vetores_w = ym_yi_y1 + vetores_z\n",
    "                probs_w = p_xm_xi_x1 * V(r, lamb) * probs_z\n",
    "\n",
    "                for n2, wm_wi_w1, p_wm_wi_w1 in zip(*(np.repeat(n2, len(vetores_w)), vetores_w, probs_w)):\n",
    "                    yield n2, list(wm_wi_w1), p_wm_wi_w1"
   ]
  },
  {
   "cell_type": "code",
   "execution_count": 125,
   "id": "0f7337d3",
   "metadata": {},
   "outputs": [],
   "source": [
    "def somar_probs_w(w):\n",
    "    for k, g in it.groupby(sorted(w, key=itemgetter(0, 1)), key=lambda x: (x[0], x[1])):\n",
    "        yield k[0], np.array(k[1]), sum([v[2] for v in g])"
   ]
  },
  {
   "cell_type": "code",
   "execution_count": 126,
   "id": "6d53c61d",
   "metadata": {},
   "outputs": [],
   "source": [
    "def ordenar_vetores_w(w_somado, m):\n",
    "    probs_w0 = 0\n",
    "    \n",
    "    for k, g in it.groupby(sorted(w_somado, key=itemgetter(0)), lambda x: x[0]):\n",
    "        wm_wi_w1, p_wm_wi_w1 = zip(*[(v[1], v[2]) for v in g])\n",
    "        probs_w0 += np.sum(p_wm_wi_w1)\n",
    "        \n",
    "        yield k, np.array(wm_wi_w1, dtype=int), np.array(p_wm_wi_w1, dtype=float)\n",
    "        \n",
    "    yield 0, np.array([np.zeros(m, dtype=int)], dtype=int), np.array([1 - probs_w0])"
   ]
  },
  {
   "cell_type": "code",
   "execution_count": 127,
   "id": "516f1fc7",
   "metadata": {},
   "outputs": [],
   "source": [
    "def matriz_resultados(vetores_w, L):\n",
    "    matriz = np.zeros((L + 1, L + 1), dtype=float)\n",
    "    \n",
    "    for n2, wm_wi_w1, p_wm_wi_w1 in vetores_w:\n",
    "        matriz[n2, np.sum(wm_wi_w1)] += p_wm_wi_w1\n",
    "\n",
    "    return matriz"
   ]
  },
  {
   "cell_type": "code",
   "execution_count": 128,
   "id": "e1f2c234",
   "metadata": {},
   "outputs": [],
   "source": [
    "def processo_fila(T, L, C, m, lamb, k, theta):\n",
    "    probs_wt = []\n",
    "    vetores_0 = (0, np.zeros((1, m), dtype=int), np.array([1.])),\n",
    "    vetores_w, vetores_matriz = it.tee(gerar_vetores_w(vetores_0, L, C[0], m, lamb[0], k, theta))\n",
    "    probs_wt.append((T[0], matriz_resultados(vetores_matriz, L)))\n",
    "    vetores_prox_x = ordenar_vetores_w(somar_probs_w(vetores_w), m)\n",
    "\n",
    "    for t, c, l in zip(T[1:], C[1:], lamb[1:]):\n",
    "        #print(dt.datetime.now(), t, c, np.sum(np.sum(probs_wt[-1][1], axis=1) * np.arange(L + 1)))\n",
    "        if c == 0:\n",
    "            matriz_sistema_vazio = np.zeros((L + 1, L + 1), dtype=float)\n",
    "            matriz_sistema_vazio[0, 0] = 1.\n",
    "            probs_wt.append((t, matriz_sistema_vazio))\n",
    "            vetores_prox_x = (0, np.zeros((1, m), dtype=int), np.array([1.])),\n",
    "            continue\n",
    "            \n",
    "        vetores_w, vetores_matriz = it.tee(gerar_vetores_w(vetores_prox_x, L, c, m, l, k, theta))\n",
    "        probs_wt.append((t, matriz_resultados(vetores_matriz, L)))\n",
    "        vetores_prox_x = ordenar_vetores_w(somar_probs_w(vetores_w), m)\n",
    "        \n",
    "    return probs_wt"
   ]
  },
  {
   "cell_type": "code",
   "execution_count": 138,
   "id": "5d530287",
   "metadata": {},
   "outputs": [],
   "source": [
    "C1 = [0 if dt.datetime(2023, 1, 10, 3) <= t0 + dt.timedelta(seconds=t * 86400) < dt.datetime(2023, 1, 10, 9) else 1 for t in T_fila]\n",
    "_lamb = a_t_fila[:-1]\n",
    "_theta = theta\n",
    "\n",
    "probs_estab_c1 = processo_fila(T_fila, L, C1, m, _lamb, k, _theta)"
   ]
  },
  {
   "cell_type": "code",
   "execution_count": 139,
   "id": "03aa1971",
   "metadata": {},
   "outputs": [],
   "source": [
    "C2 = [0 if dt.datetime(2023, 1, 10, 3) <= t0 + dt.timedelta(seconds=t * 86400) < dt.datetime(2023, 1, 10, 9) else 2 for t in T_fila]\n",
    "_lamb = a_t_fila[:-1]\n",
    "_theta = theta\n",
    "\n",
    "probs_estab_c2 = processo_fila(T_fila, L, C2, m, _lamb, k, _theta)"
   ]
  },
  {
   "cell_type": "code",
   "execution_count": 140,
   "id": "bc2196bb",
   "metadata": {},
   "outputs": [],
   "source": [
    "C3 = [0 if dt.datetime(2023, 1, 10, 3) <= t0 + dt.timedelta(seconds=t * 86400) < dt.datetime(2023, 1, 10, 9) else 3 for t in T_fila]\n",
    "_lamb = a_t_fila[:-1]\n",
    "_theta = theta\n",
    "\n",
    "probs_estab_c3 = processo_fila(T_fila, L, C3, m, _lamb, k, _theta)"
   ]
  },
  {
   "cell_type": "code",
   "execution_count": 180,
   "id": "582cbf39",
   "metadata": {},
   "outputs": [],
   "source": [
    "L_c1 = [np.sum(np.sum(m, axis=1) * np.arange(L+1)) for _, m in probs_estab_c1]\n",
    "Lq_c1 = [np.sum(np.sum(m[c+1:], axis=1) * (np.arange(c+1, L+1) - c)) for (_, m), c in zip(probs_estab_c1, C1)]\n",
    "Wq_c1 = Lq_c1 / _theta / 5\n",
    "Ws_c1 = L_c1 / _theta / 5"
   ]
  },
  {
   "cell_type": "code",
   "execution_count": 181,
   "id": "2cd6c7af",
   "metadata": {},
   "outputs": [],
   "source": [
    "L_c2 = [np.sum(np.sum(m, axis=1) * np.arange(L+1)) for _, m in probs_estab_c2]\n",
    "Lq_c2 = [np.sum(np.sum(m[c+1:], axis=1) * (np.arange(c+1, L+1) - c)) for (_, m), c in zip(probs_estab_c2, C2)]\n",
    "Wq_c2 = Lq_c2 / _theta / 5\n",
    "Ws_c2 = L_c2 / _theta / 5"
   ]
  },
  {
   "cell_type": "code",
   "execution_count": 182,
   "id": "acb7aec7",
   "metadata": {},
   "outputs": [],
   "source": [
    "L_c3 = [np.sum(np.sum(m, axis=1) * np.arange(L+1)) for _, m in probs_estab_c3]\n",
    "Lq_c3 = [np.sum(np.sum(m[c+1:], axis=1) * (np.arange(c+1, L+1) - c)) for (_, m), c in zip(probs_estab_c3, C3)]\n",
    "Wq_c3 = Lq_c3 / _theta / 5\n",
    "Ws_c3 = L_c3 / _theta / 5"
   ]
  },
  {
   "cell_type": "code",
   "execution_count": 183,
   "id": "76f23251",
   "metadata": {},
   "outputs": [],
   "source": [
    "n_real = []\n",
    "\n",
    "for t in T_fila:\n",
    "    check = t0 + dt.timedelta(seconds=t * 86400)\n",
    "    n = len(teste[((teste['Término Entrega'] > check) & (teste['Início Entrega'] <= check)) | \n",
    "              ((teste['Término Entrega'] >= check - dt.timedelta(minutes=5)) & (teste['Término Entrega'] < check))])\n",
    "    n_real.append(n)"
   ]
  },
  {
   "cell_type": "code",
   "execution_count": 184,
   "id": "d57c830e",
   "metadata": {},
   "outputs": [],
   "source": [
    "x = [t0 + dt.timedelta(seconds=t * 86400) for t in T_fila[1:]]"
   ]
  },
  {
   "cell_type": "code",
   "execution_count": 227,
   "id": "5b0d4f85",
   "metadata": {
    "scrolled": true
   },
   "outputs": [
    {
     "data": {
      "image/png": "[encoded data removed]",
      "text/plain": [
       "<Figure size 1440x720 with 4 Axes>"
      ]
     },
     "metadata": {
      "needs_background": "light"
     },
     "output_type": "display_data"
    }
   ],
   "source": [
    "fig, axs = plt.subplots(nrows=2, ncols=2, figsize=(20, 10))\n",
    "\n",
    "fmt = md.DateFormatter('%H:%M')\n",
    "\n",
    "axs[0, 0].plot(x, L_c1, label='1')\n",
    "axs[0, 0].plot(x, L_c2, label='2')\n",
    "axs[0, 0].plot(x, L_c3, label='3')\n",
    "axs[0, 0].fill_between(x, n_real[1:], color='gray', alpha=.3, label='Empirical')\n",
    "axs[0, 0].set_title('a) Mean users in system')\n",
    "axs[0, 0].set_ylabel('Users')\n",
    "\n",
    "axs[0, 1].set_ylim(axs[0, 0].get_ylim())\n",
    "axs[0, 1].plot(x, Lq_c1, label='1')\n",
    "axs[0, 1].plot(x, Lq_c2, label='2')\n",
    "axs[0, 1].plot(x, Lq_c3, label='3')\n",
    "axs[0, 1].set_title('b) Mean users waiting')\n",
    "\n",
    "axs[1, 0].plot(x, Ws_c1, label='1')\n",
    "axs[1, 0].plot(x, Ws_c2, label='2')\n",
    "axs[1, 0].plot(x, Ws_c3, label='3')\n",
    "axs[1, 0].set_title('c) Mean system time')\n",
    "axs[1, 0].set_ylabel('Service time units')\n",
    "\n",
    "axs[1, 1].set_ylim(axs[1, 0].get_ylim())\n",
    "axs[1, 1].plot(x, Wq_c1, label='1')\n",
    "axs[1, 1].plot(x, Wq_c2, label='2')\n",
    "axs[1, 1].plot(x, Wq_c3, label='3')\n",
    "axs[1, 1].set_title('d) Mean waiting time')\n",
    "\n",
    "for ax in axs.ravel(): \n",
    "    ax.xaxis.set_major_formatter(fmt)\n",
    "    ax.legend(loc='upper center', ncol=4)"
   ]
  },
  {
   "cell_type": "code",
   "execution_count": 194,
   "id": "0c39602f",
   "metadata": {},
   "outputs": [],
   "source": [
    "C_escala = [\n",
    "    0 if dt.datetime(2023, 1, 10, 3) <= t0 + dt.timedelta(seconds=t * 86400) < dt.datetime(2023, 1, 10, 9) else\n",
    "    1 if dt.datetime(2023, 1, 10, 9) <= t0 + dt.timedelta(seconds=t * 86400) < dt.datetime(2023, 1, 10, 12) else \n",
    "    2 if dt.datetime(2023, 1, 10, 12) <= t0 + dt.timedelta(seconds=t * 86400) < dt.datetime(2023, 1, 10, 18) else\n",
    "    3 \n",
    "    for t in T_fila]\n",
    "_lamb = a_t_fila[:-1]\n",
    "_theta = theta\n",
    "probs_estab_escala = processo_fila(T_fila, L, C_escala, m, _lamb, k, _theta)"
   ]
  },
  {
   "cell_type": "code",
   "execution_count": 219,
   "id": "aeef99ac",
   "metadata": {},
   "outputs": [
    {
     "data": {
      "text/plain": [
       "Text(0, 0.5, '$C_t$')"
      ]
     },
     "execution_count": 219,
     "metadata": {},
     "output_type": "execute_result"
    },
    {
     "data": {
      "image/png": "[encoded data removed]",
      "text/plain": [
       "<Figure size 576x288 with 1 Axes>"
      ]
     },
     "metadata": {
      "needs_background": "light"
     },
     "output_type": "display_data"
    }
   ],
   "source": [
    "fig, ax = plt.subplots(figsize=(8, 4))\n",
    "\n",
    "fmt = md.DateFormatter('%H:%M')\n",
    "ax.fill_between([t0 + dt.timedelta(seconds=t * 86400) for t in T_fila], C_escala)\n",
    "ax.xaxis.set_major_formatter(fmt)\n",
    "ax.yaxis.set_major_locator(MaxNLocator(integer=True))\n",
    "ax.set_ylabel('$C_t$')"
   ]
  },
  {
   "cell_type": "code",
   "execution_count": 195,
   "id": "13744581",
   "metadata": {},
   "outputs": [],
   "source": [
    "L_escala = [np.sum(np.sum(m, axis=1) * np.arange(L+1)) for _, m in probs_estab_escala]\n",
    "Lq_escala = [np.sum(np.sum(m[c+1:], axis=1) * (np.arange(c+1, L+1) - c)) for (_, m), c in zip(probs_estab_escala, C_escala)]\n",
    "Wq_escala = Lq_escala / _theta / 5\n",
    "Ws_escala = L_escala / _theta / 5"
   ]
  },
  {
   "cell_type": "code",
   "execution_count": 236,
   "id": "a012472d",
   "metadata": {},
   "outputs": [
    {
     "data": {
      "image/png": "[encoded data removed]",
      "text/plain": [
       "<Figure size 1152x288 with 2 Axes>"
      ]
     },
     "metadata": {
      "needs_background": "light"
     },
     "output_type": "display_data"
    }
   ],
   "source": [
    "fig, axs = plt.subplots(nrows=1, ncols=2, figsize=(16, 4))\n",
    "\n",
    "fmt = md.DateFormatter('%H:%M')\n",
    "\n",
    "axs[0].plot(x, L_escala, label='overall')\n",
    "axs[0].plot(x, Lq_escala, label='waiting')\n",
    "axs[0].set_title('a) Mean users in the system')\n",
    "axs[0].set_ylabel('Users')\n",
    "axs[1].plot(x, Ws_escala, label='overall')\n",
    "axs[1].plot(x, Wq_escala, label='waiting')\n",
    "axs[1].set_title('c) Mean service times')\n",
    "axs[1].set_ylabel('Service time units')\n",
    "\n",
    "for ax in axs.ravel(): \n",
    "    ax.xaxis.set_major_formatter(fmt)\n",
    "    ax.legend(loc='upper center', ncol=2)"
   ]
  },
  {
   "cell_type": "code",
   "execution_count": 186,
   "id": "bb7e41e8",
   "metadata": {},
   "outputs": [
    {
     "data": {
      "text/plain": [
       "0.5972222222222222"
      ]
     },
     "execution_count": 186,
     "metadata": {},
     "output_type": "execute_result"
    }
   ],
   "source": [
    "sum([1 for l, c in zip(L_c1, C1) if l > c]) / len(T_fila)"
   ]
  },
  {
   "cell_type": "code",
   "execution_count": 187,
   "id": "cb48077a",
   "metadata": {},
   "outputs": [
    {
     "data": {
      "text/plain": [
       "0.3472222222222222"
      ]
     },
     "execution_count": 187,
     "metadata": {},
     "output_type": "execute_result"
    }
   ],
   "source": [
    "sum([1 for l, c in zip(L_c2, C2) if l > c]) / len(T_fila)"
   ]
  },
  {
   "cell_type": "code",
   "execution_count": 188,
   "id": "ba8d7868",
   "metadata": {},
   "outputs": [
    {
     "data": {
      "text/plain": [
       "0.17708333333333334"
      ]
     },
     "execution_count": 188,
     "metadata": {},
     "output_type": "execute_result"
    }
   ],
   "source": [
    "sum([1 for l, c in zip(L_c3, C3) if l > c]) / len(T_fila)"
   ]
  },
  {
   "cell_type": "code",
   "execution_count": 237,
   "id": "83c1e7f3",
   "metadata": {},
   "outputs": [
    {
     "data": {
      "text/plain": [
       "0.2465277777777778"
      ]
     },
     "execution_count": 237,
     "metadata": {},
     "output_type": "execute_result"
    }
   ],
   "source": [
    "sum([1 for l, c in zip(L_escala, C_escala) if l > c]) / len(T_fila)"
   ]
  },
  {
   "cell_type": "code",
   "execution_count": null,
   "id": "b8ea8b7a",
   "metadata": {},
   "outputs": [],
   "source": []
  }
 ],
 "metadata": {
  "kernelspec": {
   "display_name": "Python 3 (ipykernel)",
   "language": "python",
   "name": "python3"
  },
  "language_info": {
   "codemirror_mode": {
    "name": "ipython",
    "version": 3
   },
   "file_extension": ".py",
   "mimetype": "text/x-python",
   "name": "python",
   "nbconvert_exporter": "python",
   "pygments_lexer": "ipython3",
   "version": "3.9.12"
  }
 },
 "nbformat": 4,
 "nbformat_minor": 5
}
