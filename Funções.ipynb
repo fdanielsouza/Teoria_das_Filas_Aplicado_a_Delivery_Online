{
 "cells": [
  {
   "cell_type": "code",
   "execution_count": 2,
   "id": "781c6063",
   "metadata": {},
   "outputs": [
    {
     "name": "stderr",
     "output_type": "stream",
     "text": [
      "C:\\Users\\souza.daniel_ifood\\anaconda3\\lib\\site-packages\\geopandas\\_compat.py:112: UserWarning: The Shapely GEOS version (3.10.2-CAPI-1.16.0) is incompatible with the GEOS version PyGEOS was compiled with (3.10.4-CAPI-1.16.2). Conversions between both will be slow.\n",
      "  warnings.warn(\n"
     ]
    }
   ],
   "source": [
    "import numpy as np\n",
    "import pandas as pd\n",
    "import geopandas as gpd\n",
    "import datetime as dt\n",
    "import math\n",
    "import itertools as it\n",
    "from matplotlib import pyplot as plt\n",
    "from scipy.special import factorial\n",
    "from scipy.stats import norm, poisson, gamma, probplot, ks_2samp, kstest\n",
    "from scipy.optimize import minimize, Bounds\n",
    "from scipy.integrate import quad\n",
    "from shapely.geometry import Point, Polygon"
   ]
  },
  {
   "cell_type": "code",
   "execution_count": 3,
   "id": "41fcae7f",
   "metadata": {},
   "outputs": [],
   "source": [
    "plt.rcParams['font.family'] = 'sans'\n",
    "plt.rcParams['font.size'] = 12"
   ]
  },
  {
   "cell_type": "code",
   "execution_count": 4,
   "id": "b7181d9a",
   "metadata": {},
   "outputs": [],
   "source": [
    "def amostra_agrupada(df, grupo, tam, n_min, n_max, semente):\n",
    "    df_filtrado = df.groupby(grupo).filter(lambda x: (len(x) >= n_min) & (len(x) <= n_max))\n",
    "    amostra_df_filtrado = pd.Series(df_filtrado[grupo].unique()).sample(tam, random_state=semente)\n",
    "    \n",
    "    return df[df[grupo].isin(amostra_df_filtrado)]\n",
    "\n",
    "\n",
    "def plot_agrupado(df, grupo, x, y, agr, cols):\n",
    "    grps = df.groupby(grupo, sort=False)\n",
    "    rows = int(grps.ngroups / cols)\n",
    "    fig, axs = plt.subplots(ncols=cols, nrows=rows, figsize=(18, 4 * rows))\n",
    "\n",
    "    for (chv, grp), ax in zip(grps, axs.ravel()):\n",
    "        grp.groupby(x).agg(pedidos=(y, agr)).plot(kind='bar', legend='', xlabel='', ax=ax)\n",
    "        ax.set_title(grp[grupo].unique()[0])"
   ]
  },
  {
   "cell_type": "code",
   "execution_count": 5,
   "id": "0155ecc0",
   "metadata": {},
   "outputs": [],
   "source": [
    "def Y_t(x, T):\n",
    "    return len(T[T >= x])\n",
    "\n",
    "\n",
    "def epanechnikov(x):\n",
    "    return 3 / 4 * (1 - x ** 2) if np.abs(x) <= 1 else np.zeros(1)\n",
    "\n",
    "    \n",
    "def alfa_t(x, T, b, K=norm.pdf):\n",
    "    b = np.array([b]) if not isinstance(b, np.ndarray) else b\n",
    "    n = len(T)\n",
    "    K_t = [K((x - Ti) / b) / Y_t(Ti, T) for i, Ti in enumerate(T)]\n",
    "    return np.sum(K_t) / b\n",
    "\n",
    "\n",
    "def Lambda_t(x, T, b, K=norm.pdf):\n",
    "    return alfa_t(x, T, b, K) * Y_t(x, T)\n",
    "\n",
    "\n",
    "def A_t(x, T, b, K=norm.pdf):\n",
    "    return quad(Lambda_t, 0, x, (T, b, K))\n",
    "\n",
    "\n",
    "def A_t_Riemann(T, b, K=norm.pdf, h=0.0001):\n",
    "    oT = np.insert(np.sort(T), 0, 0)\n",
    "    return oT[1:], h * np.cumsum([np.sum([Lambda_t(x, T, b, K) for x in np.arange(i, j, h)]) for i, j in zip(oT[:-1], oT[1:])])\n",
    "\n",
    "\n",
    "def cv_loglike(b, x, K=norm.pdf):\n",
    "    n = len(x)\n",
    "    total_loglike = 0\n",
    "    \n",
    "    for i in range(n):\n",
    "        x_sem_i = np.delete(x, i)\n",
    "        xi = x[i]\n",
    "        alfa_fxi = alfa_t(xi, x_sem_i, b, K)\n",
    "        if alfa_fxi <= 0: continue\n",
    "        total_loglike += np.log(alfa_fxi)\n",
    "        \n",
    "    return -total_loglike\n",
    "\n",
    "\n",
    "def b_otimo_cv(f, ini, params, lims):\n",
    "    return minimize(f, ini, params, bounds=lims)['x']"
   ]
  },
  {
   "cell_type": "markdown",
   "id": "61d1bcb0",
   "metadata": {},
   "source": [
    "### Conjunto de dados"
   ]
  },
  {
   "cell_type": "code",
   "execution_count": 6,
   "id": "39b4bef4",
   "metadata": {},
   "outputs": [],
   "source": [
    "pedidos = pd.read_csv('./Dados/Amostra_Pedidos.csv', parse_dates=['Início Preparo', 'Início Entrega', 'Término Entrega'])"
   ]
  },
  {
   "cell_type": "code",
   "execution_count": 7,
   "id": "e0c2cd67",
   "metadata": {},
   "outputs": [],
   "source": [
    "pedidos = pedidos[(pedidos['Início Preparo'] > dt.datetime(2023, 1, 10)) & (pedidos['Início Preparo'] < dt.datetime(2023, 1, 11))]"
   ]
  },
  {
   "cell_type": "code",
   "execution_count": 8,
   "id": "502c2bb6",
   "metadata": {},
   "outputs": [],
   "source": [
    "pedidos_por_estabelecimento = pedidos['Estabelecimento'].value_counts().reset_index()\n",
    "estabelecimentos_validos = pedidos_por_estabelecimento[pedidos_por_estabelecimento['Estabelecimento'] >= 10]['index'].values\n",
    "pedidos = pedidos[pedidos['Estabelecimento'].isin(estabelecimentos_validos)]"
   ]
  },
  {
   "cell_type": "code",
   "execution_count": 9,
   "id": "00224e1a",
   "metadata": {},
   "outputs": [],
   "source": [
    "rest_grande = amostra_agrupada(pedidos[pedidos['Tipo Entrega'] == 'IFOOD'], 'Estabelecimento', 1, 101, 200, 1234)\n",
    "rest_grande['Tam Rest'] = '100-200 pedidos'\n",
    "rest_medio = amostra_agrupada(pedidos[pedidos['Tipo Entrega'] == 'IFOOD'], 'Estabelecimento', 1, 51, 100, 1234)\n",
    "rest_medio['Tam Rest'] = '50-100 pedidos'\n",
    "rest_pequeno = amostra_agrupada(pedidos[pedidos['Tipo Entrega'] == 'IFOOD'], 'Estabelecimento', 1, 30, 50, 1234)\n",
    "rest_pequeno['Tam Rest'] = '30-50 pedidos'\n",
    "amostra_rests = pd.concat([rest_pequeno, rest_medio, rest_grande])\n",
    "amostra_rests['Horário Preparo'] = amostra_rests['Início Preparo'].dt.floor('1h').dt.strftime('%H:%M')"
   ]
  },
  {
   "cell_type": "code",
   "execution_count": 10,
   "id": "a0327a92",
   "metadata": {
    "scrolled": true
   },
   "outputs": [
    {
     "data": {
      "image/png": "[encoded data removed]",
      "text/plain": [
       "<Figure size 1296x288 with 3 Axes>"
      ]
     },
     "metadata": {
      "needs_background": "light"
     },
     "output_type": "display_data"
    }
   ],
   "source": [
    "plot_agrupado(amostra_rests, 'Tam Rest', 'Horário Preparo', 'Ident. Pedido', 'count', 3)"
   ]
  },
  {
   "cell_type": "markdown",
   "id": "3f85f577",
   "metadata": {},
   "source": [
    "### Cálculos taxa de chegada"
   ]
  },
  {
   "cell_type": "code",
   "execution_count": null,
   "id": "a58991eb",
   "metadata": {},
   "outputs": [],
   "source": [
    "grps = amostra_rests.groupby('Tam Rest', sort=False)\n",
    "t0 = dt.datetime(2023, 1, 10)\n",
    "\n",
    "Nt = []\n",
    "for chv, grp in grps:\n",
    "    T = (grp['Início Preparo'] - t0).dt.total_seconds().values / 86400\n",
    "    b = b_otimo_cv(cv_loglike, 1, (T, norm.pdf), Bounds(0.0001, float('inf')))\n",
    "    alfas_t = np.array([alfa_t(t, T, b) for t in T])\n",
    "    As_t = A_t_Riemann(T, b)\n",
    "    Nt.append({\n",
    "        'Estab': chv,\n",
    "        'b': b,\n",
    "        'T': T,\n",
    "        'alfa': alfas_t,\n",
    "        'A': As_t\n",
    "    })"
   ]
  },
  {
   "cell_type": "code",
   "execution_count": null,
   "id": "029b8b45",
   "metadata": {},
   "outputs": [],
   "source": [
    "fig, axs = plt.subplots(ncols=3, nrows=1, figsize=(16, 4))\n",
    "\n",
    "for N, ax in zip(Nt, axs.ravel()):\n",
    "    ax.plot(N['A'][0], N['A'][1], label='Estimado')\n",
    "    ax.plot(*list(zip(*np.array([(t, len(N['T'][N['T'] <= t])) for t in np.sort(N['T'])]))), label='Empírico')\n",
    "    ax.set_title(N['Estab'])\n",
    "    ax.legend()\n",
    "    tks = ax.get_xticks()\n",
    "    ax.set_xticklabels([(dt.datetime(2023, 1, 10) + dt.timedelta(seconds=int(t * 86400))).strftime('%H:%M') for t in tks])"
   ]
  },
  {
   "cell_type": "code",
   "execution_count": null,
   "id": "e6ace2b3",
   "metadata": {},
   "outputs": [],
   "source": [
    "for N in Nt:\n",
    "    emp = np.array([len(N['T'][N['T'] <= t]) for t in np.sort(N['T'])])\n",
    "    est = N['A'][1]\n",
    "    print(N['Estab'], round(ks_2samp(emp, est).pvalue, 4))"
   ]
  },
  {
   "cell_type": "code",
   "execution_count": null,
   "id": "949f78fb",
   "metadata": {},
   "outputs": [],
   "source": [
    "pedidos_rests = pedidos.groupby('Estabelecimento').agg(pedidos_rest=('Ident. Pedido', 'count')).reset_index()\n",
    "pedidos_rests['Tam Rest'] = pedidos_rests['pedidos_rest'].apply(lambda x: '>200' if x > 200 else '100-200' if x >= 100 else '50-100' if x >= 50 else '30-50' if x >=30 else '10-30')\n",
    "pedidos = pedidos.merge(pedidos_rests, on='Estabelecimento')"
   ]
  },
  {
   "cell_type": "code",
   "execution_count": null,
   "id": "91a85d12",
   "metadata": {},
   "outputs": [],
   "source": [
    "grps = pedidos.groupby('Estabelecimento')\n",
    "NtT = []\n",
    "for chv, grp in grps:\n",
    "    print(chv)\n",
    "    T = (grp['Início Preparo'] - t0).dt.total_seconds().values / 86400\n",
    "    b = b_otimo_cv(cv_loglike, 1, (T, epanechnikov), Bounds(0.0001, float('inf')))\n",
    "    As_t = A_t_Riemann(T, b)\n",
    "    NtT.append({'Est': chv, 'Tam': grp['Tam Rest'].unique()[0], 'T': T, 'b': b, 'A': As_t})"
   ]
  },
  {
   "cell_type": "markdown",
   "id": "a9e8d474",
   "metadata": {},
   "source": [
    "import json\n",
    "\n",
    "def conversor(x):\n",
    "    if hasattr(x, 'tolist'):\n",
    "        return x.tolist()\n",
    "    raise TypeError(x)\n",
    "    \n",
    "with open('./temp_json', 'w') as arquivo:\n",
    "    arquivo.write(json.dumps(NtT, indent=4, default=conversor))"
   ]
  },
  {
   "cell_type": "code",
   "execution_count": null,
   "id": "4f7fd930",
   "metadata": {},
   "outputs": [],
   "source": [
    "with open('./temp_json') as arquivo:\n",
    "    NtT_json = np.array(json.loads(arquivo.read()))"
   ]
  },
  {
   "cell_type": "code",
   "execution_count": null,
   "id": "83288fff",
   "metadata": {},
   "outputs": [],
   "source": [
    "pvalues = []\n",
    "for N in NtT:\n",
    "    emp = np.array([len(N['T'][N['T'] <= t]) for t in np.sort(N['T'])])\n",
    "    est = N['A'][1]\n",
    "    pvalues.append({'Tam': N['Tam'], 'pvalue': ks_2samp(emp, est).pvalue})"
   ]
  },
  {
   "cell_type": "code",
   "execution_count": null,
   "id": "ea6a7fab",
   "metadata": {},
   "outputs": [],
   "source": [
    "df_pvalues = pd.DataFrame(pvalues)\n",
    "df_pvalues['c'] = 'c'"
   ]
  },
  {
   "cell_type": "code",
   "execution_count": null,
   "id": "ba7c8667",
   "metadata": {
    "scrolled": true
   },
   "outputs": [],
   "source": [
    "df_pvalues.groupby('Tam').apply(lambda x: round((x.pvalue > 0.05).sum() / x.pvalue.count(), 4))"
   ]
  },
  {
   "cell_type": "code",
   "execution_count": 11,
   "id": "72a22fa9",
   "metadata": {},
   "outputs": [],
   "source": [
    "def distancia(lat1, lon1, lat2, lon2):\n",
    "    return math.acos(\n",
    "        math.sin(math.radians(lat1)) * math.sin(math.radians(lat2)) + \n",
    "        math.cos(math.radians(lat1)) * math.cos(math.radians(lat2)) * math.cos(math.radians(lon1) - math.radians(lon2))\n",
    "    ) * 6371."
   ]
  },
  {
   "cell_type": "markdown",
   "id": "836a5f83",
   "metadata": {},
   "source": [
    "### Cálculo Tempos de Serviço"
   ]
  },
  {
   "cell_type": "code",
   "execution_count": 20,
   "id": "8b3457c3",
   "metadata": {},
   "outputs": [],
   "source": [
    "pedidos['Distancia'] = pedidos.apply(lambda x: distancia(x['Lat Cliente'], x['Lon Cliente'], x['Lat Estab.'], x['Lon Estab.']), axis=1)"
   ]
  },
  {
   "cell_type": "code",
   "execution_count": 21,
   "id": "b89c1c62",
   "metadata": {},
   "outputs": [],
   "source": [
    "def t0(d0, v0):\n",
    "    return d0 / v0"
   ]
  },
  {
   "cell_type": "code",
   "execution_count": 22,
   "id": "93182b95",
   "metadata": {},
   "outputs": [],
   "source": [
    "pdd_terc = pedidos[pedidos['Tipo Entrega'] == 'MERCHANT']"
   ]
  },
  {
   "cell_type": "code",
   "execution_count": 23,
   "id": "f9dc0f6c",
   "metadata": {},
   "outputs": [
    {
     "name": "stderr",
     "output_type": "stream",
     "text": [
      "C:\\Users\\souza.daniel_ifood\\AppData\\Local\\Temp\\ipykernel_16920\\1983071303.py:1: SettingWithCopyWarning: \n",
      "A value is trying to be set on a copy of a slice from a DataFrame.\n",
      "Try using .loc[row_indexer,col_indexer] = value instead\n",
      "\n",
      "See the caveats in the documentation: https://pandas.pydata.org/pandas-docs/stable/user_guide/indexing.html#returning-a-view-versus-a-copy\n",
      "  pdd_terc['TP'] = 3\n",
      "C:\\Users\\souza.daniel_ifood\\AppData\\Local\\Temp\\ipykernel_16920\\1983071303.py:2: SettingWithCopyWarning: \n",
      "A value is trying to be set on a copy of a slice from a DataFrame.\n",
      "Try using .loc[row_indexer,col_indexer] = value instead\n",
      "\n",
      "See the caveats in the documentation: https://pandas.pydata.org/pandas-docs/stable/user_guide/indexing.html#returning-a-view-versus-a-copy\n",
      "  pdd_terc['Ttau'] = pdd_terc['Distancia'] / 25 * 60\n",
      "C:\\Users\\souza.daniel_ifood\\AppData\\Local\\Temp\\ipykernel_16920\\1983071303.py:3: SettingWithCopyWarning: \n",
      "A value is trying to be set on a copy of a slice from a DataFrame.\n",
      "Try using .loc[row_indexer,col_indexer] = value instead\n",
      "\n",
      "See the caveats in the documentation: https://pandas.pydata.org/pandas-docs/stable/user_guide/indexing.html#returning-a-view-versus-a-copy\n",
      "  pdd_terc['TC'] = pdd_terc['Ttau'] + pdd_terc['TP']\n",
      "C:\\Users\\souza.daniel_ifood\\AppData\\Local\\Temp\\ipykernel_16920\\1983071303.py:4: SettingWithCopyWarning: \n",
      "A value is trying to be set on a copy of a slice from a DataFrame.\n",
      "Try using .loc[row_indexer,col_indexer] = value instead\n",
      "\n",
      "See the caveats in the documentation: https://pandas.pydata.org/pandas-docs/stable/user_guide/indexing.html#returning-a-view-versus-a-copy\n",
      "  pdd_terc['d_TC'] = pdd_terc['TC'].apply(lambda x: math.floor(x)) + 1\n"
     ]
    }
   ],
   "source": [
    "pdd_terc['TP'] = 3\n",
    "pdd_terc['Ttau'] = pdd_terc['Distancia'] / 25 * 60\n",
    "pdd_terc['TC'] = pdd_terc['Ttau'] + pdd_terc['TP']\n",
    "pdd_terc['d_TC'] = pdd_terc['TC'].apply(lambda x: math.floor(x)) + 1"
   ]
  },
  {
   "cell_type": "code",
   "execution_count": 24,
   "id": "9264e41a",
   "metadata": {},
   "outputs": [],
   "source": [
    "pdd_prim = pedidos[pedidos['Tipo Entrega'] == 'IFOOD']"
   ]
  },
  {
   "cell_type": "code",
   "execution_count": 25,
   "id": "719f6337",
   "metadata": {},
   "outputs": [
    {
     "name": "stderr",
     "output_type": "stream",
     "text": [
      "C:\\Users\\souza.daniel_ifood\\AppData\\Local\\Temp\\ipykernel_16920\\1573679596.py:1: SettingWithCopyWarning: \n",
      "A value is trying to be set on a copy of a slice from a DataFrame.\n",
      "Try using .loc[row_indexer,col_indexer] = value instead\n",
      "\n",
      "See the caveats in the documentation: https://pandas.pydata.org/pandas-docs/stable/user_guide/indexing.html#returning-a-view-versus-a-copy\n",
      "  pdd_prim['TC'] = pdd_prim.apply(lambda x: (x['Término Entrega'] - x['Início Entrega']).total_seconds()  / 60, axis=1)\n",
      "C:\\Users\\souza.daniel_ifood\\AppData\\Local\\Temp\\ipykernel_16920\\1573679596.py:2: SettingWithCopyWarning: \n",
      "A value is trying to be set on a copy of a slice from a DataFrame.\n",
      "Try using .loc[row_indexer,col_indexer] = value instead\n",
      "\n",
      "See the caveats in the documentation: https://pandas.pydata.org/pandas-docs/stable/user_guide/indexing.html#returning-a-view-versus-a-copy\n",
      "  pdd_prim['d_TC'] = pdd_prim.apply(lambda x: math.floor(x['TC']) + 1, axis=1)\n"
     ]
    }
   ],
   "source": [
    "pdd_prim['TC'] = pdd_prim.apply(lambda x: (x['Término Entrega'] - x['Início Entrega']).total_seconds()  / 60, axis=1)\n",
    "pdd_prim['d_TC'] = pdd_prim.apply(lambda x: math.floor(x['TC']) + 1, axis=1)"
   ]
  },
  {
   "cell_type": "code",
   "execution_count": 26,
   "id": "bddebdc6",
   "metadata": {},
   "outputs": [],
   "source": [
    "rests_cross = amostra_rests[['Tam Rest', 'Estabelecimento', 'Lat Estab.', 'Lon Estab.']].drop_duplicates().merge(pdd_prim[['Estabelecimento', 'Lat Estab.', 'Lon Estab.']].drop_duplicates(), how='cross')\n",
    "rests_cross = rests_cross[rests_cross['Estabelecimento_x'] != rests_cross['Estabelecimento_y']]\n",
    "rests_cross['distancia_rests'] = rests_cross.apply(lambda x: distancia(x['Lat Estab._x'], x['Lon Estab._x'], x['Lat Estab._y'], x['Lon Estab._y']), axis=1)\n",
    "rests_proximos = rests_cross[rests_cross['distancia_rests'] <= 2]"
   ]
  },
  {
   "cell_type": "code",
   "execution_count": 27,
   "id": "f354ba70",
   "metadata": {
    "scrolled": true
   },
   "outputs": [
    {
     "data": {
      "image/png": "[encoded data removed]",
      "text/plain": [
       "<Figure size 1152x288 with 3 Axes>"
      ]
     },
     "metadata": {
      "needs_background": "light"
     },
     "output_type": "display_data"
    }
   ],
   "source": [
    "fig, axs = plt.subplots(nrows=1, ncols=3, figsize=(16, 4))\n",
    "grp_estabs_prox = rests_proximos.groupby('Tam Rest', sort=False)\n",
    "\n",
    "for (chv, grp), ax in zip(grp_estabs_prox, axs.ravel()):\n",
    "    pdds_proximos = grp.merge(pdd_prim, left_on='Estabelecimento_y', right_on='Estabelecimento')\n",
    "    a, l, b = gamma.fit(pdds_proximos['TC'].values, floc=0)\n",
    "    ax.hist(pdds_proximos['TC'].values, bins=20, density=True)\n",
    "    x = np.linspace(*pdds_proximos['TC'].agg(['min', 'max']), 100)\n",
    "    ax.plot(x, gamma.pdf(x, a, loc=0, scale=b))\n",
    "    ax.set_title('{0}\\nK: {1}, θ: {2}'.format(chv, round(a, 2), round(b, 2)))"
   ]
  },
  {
   "cell_type": "code",
   "execution_count": 28,
   "id": "7bc83993",
   "metadata": {
    "scrolled": true
   },
   "outputs": [
    {
     "data": {
      "image/png": "[encoded data removed]",
      "text/plain": [
       "<Figure size 1152x288 with 3 Axes>"
      ]
     },
     "metadata": {
      "needs_background": "light"
     },
     "output_type": "display_data"
    }
   ],
   "source": [
    "fig, axs = plt.subplots(nrows=1, ncols=3, figsize=(16, 4))\n",
    "grp_estabs_prox = rests_proximos.groupby('Tam Rest', sort=False)\n",
    "\n",
    "for (chv, grp), ax in zip(grp_estabs_prox, axs.ravel()):\n",
    "    pdds_proximos = grp.merge(pdd_prim, left_on='Estabelecimento_y', right_on='Estabelecimento')\n",
    "    a, l, b = gamma.fit(pdds_proximos['TC'].values, floc=0)\n",
    "    probplot(pdds_proximos['TC'].values, (a, 0, b), 'gamma', fit=True, plot=ax)\n",
    "    ax.set_title(chv)\n",
    "    ax.set_title('{0}\\np-value: {1}'.format(chv, round(kstest(pdds_proximos['TC'].values, 'gamma', (a, l, b)).pvalue, 4)))"
   ]
  },
  {
   "cell_type": "code",
   "execution_count": 29,
   "id": "ad55e5b7",
   "metadata": {},
   "outputs": [
    {
     "data": {
      "image/png": "[encoded data removed]",
      "text/plain": [
       "<Figure size 1152x288 with 3 Axes>"
      ]
     },
     "metadata": {
      "needs_background": "light"
     },
     "output_type": "display_data"
    }
   ],
   "source": [
    "fig, axs = plt.subplots(nrows=1, ncols=3, figsize=(16, 4))\n",
    "grp_estabs_prox = rests_proximos.groupby('Tam Rest', sort=False)\n",
    "\n",
    "for (chv, grp), ax in zip(grp_estabs_prox, axs.ravel()):\n",
    "    pdds_proximos = grp.merge(pdd_prim, left_on='Estabelecimento_y', right_on='Estabelecimento')\n",
    "    a, _, b = gamma.fit(pdds_proximos['TC'].values, floc=0)\n",
    "    pdds_proximos['TC'] = pdds_proximos['Distancia'] / 10 * 60 + 3\n",
    "    ax.hist(pdds_proximos['TC'].values, bins=20, density=True)\n",
    "    \n",
    "    x = np.linspace(*pdds_proximos['TC'].agg(['min', 'max']), 100)\n",
    "    ax.plot(x, gamma.pdf(x, a, loc=0, scale=b))\n",
    "    ax.set_title('{0}'.format(chv))"
   ]
  },
  {
   "cell_type": "markdown",
   "id": "56a031e6",
   "metadata": {},
   "source": [
    "### Cálculo L"
   ]
  },
  {
   "cell_type": "code",
   "execution_count": null,
   "id": "a5bb81c6",
   "metadata": {},
   "outputs": [],
   "source": [
    "amostra_rests['Distancia'] = amostra_rests.apply(lambda x: distancia(x['Lat Cliente'], x['Lon Cliente'], x['Lat Estab.'], x['Lon Estab.']), axis=1)"
   ]
  },
  {
   "cell_type": "code",
   "execution_count": null,
   "id": "efcd3b9b",
   "metadata": {},
   "outputs": [],
   "source": [
    "max_dists_amostra = amostra_rests.groupby(['Tam Rest', 'Estabelecimento', 'Lat Estab.', 'Lon Estab.'], sort=False).agg(max_dist=('Distancia', 'max')).reset_index()"
   ]
  },
  {
   "cell_type": "code",
   "execution_count": null,
   "id": "94995030",
   "metadata": {},
   "outputs": [],
   "source": [
    "max_dists_amostra['max_dist'] = max_dists_amostra['max_dist'].apply(lambda x: math.ceil(x))"
   ]
  },
  {
   "cell_type": "code",
   "execution_count": null,
   "id": "97c0ca53",
   "metadata": {},
   "outputs": [],
   "source": [
    "fortaleza = gpd.read_file('Dados_ini/Densidade_Populacional_por_Bairros.zip')"
   ]
  },
  {
   "cell_type": "code",
   "execution_count": null,
   "id": "2123d2c3",
   "metadata": {},
   "outputs": [],
   "source": [
    "def arred_baixo(num, dec):\n",
    "    return math.floor(num * 10 ** dec) / 10 ** dec"
   ]
  },
  {
   "cell_type": "code",
   "execution_count": null,
   "id": "a2559caf",
   "metadata": {},
   "outputs": [],
   "source": [
    "def fazer_grade(x_min, y_min, x_max, y_max, p):\n",
    "    return [(round(x, 3), round(y, 3)) for x in np.arange(x_min - p, x_max + p, p) for y in np.arange(y_min - p, y_max + p, p)]"
   ]
  },
  {
   "cell_type": "code",
   "execution_count": null,
   "id": "3cede7e2",
   "metadata": {},
   "outputs": [],
   "source": [
    "x_min, y_min, x_max, y_max = (arred_baixo(b, 3) for b in fortaleza.geometry.unary_union.bounds)"
   ]
  },
  {
   "cell_type": "code",
   "execution_count": null,
   "id": "d21aa989",
   "metadata": {},
   "outputs": [],
   "source": [
    "grade_completa = fazer_grade(x_min, y_min, x_max, y_max, 0.001)"
   ]
  },
  {
   "cell_type": "code",
   "execution_count": null,
   "id": "f89f11a2",
   "metadata": {},
   "outputs": [],
   "source": [
    "plt.scatter(*list(zip(*grade_completa)))"
   ]
  },
  {
   "cell_type": "code",
   "execution_count": null,
   "id": "81c3874c",
   "metadata": {},
   "outputs": [],
   "source": [
    "df_grade_completa = pd.DataFrame(grade_completa, columns=['lon', 'lat'])"
   ]
  },
  {
   "cell_type": "code",
   "execution_count": null,
   "id": "a2b82d4c",
   "metadata": {},
   "outputs": [],
   "source": [
    "raio_entrega_amostra = max_dists_amostra.merge(df_grade_completa, how='cross')"
   ]
  },
  {
   "cell_type": "code",
   "execution_count": null,
   "id": "5022c57f",
   "metadata": {},
   "outputs": [],
   "source": [
    "raio_entrega_amostra['Distancia'] = raio_entrega_amostra.apply(lambda x: distancia(x['lat'], x['lon'], x['Lat Estab.'], x['Lon Estab.']), axis=1)"
   ]
  },
  {
   "cell_type": "code",
   "execution_count": null,
   "id": "a56c4a33",
   "metadata": {},
   "outputs": [],
   "source": [
    "raio_entrega_amostra = raio_entrega_amostra[raio_entrega_amostra['Distancia'] <= raio_entrega_amostra['max_dist']]"
   ]
  },
  {
   "cell_type": "code",
   "execution_count": null,
   "id": "4a82f462",
   "metadata": {
    "scrolled": true
   },
   "outputs": [],
   "source": [
    "raio_entrega_amostra = gpd.GeoDataFrame(raio_entrega_amostra, geometry=gpd.points_from_xy(raio_entrega_amostra['lon'], raio_entrega_amostra['lat']))"
   ]
  },
  {
   "cell_type": "code",
   "execution_count": null,
   "id": "e77bc5bd",
   "metadata": {},
   "outputs": [],
   "source": [
    "fig, axs = plt.subplots(nrows=1, ncols=3, figsize=(16, 4))\n",
    "grp_raios_entrega = raio_entrega_amostra.groupby('Tam Rest', sort=False)\n",
    "\n",
    "for (chv, grp), ax in zip(grp_raios_entrega, axs.ravel()):\n",
    "    fortaleza.dissolve().plot(color='lightblue', label='Cidade', ax=ax)\n",
    "    gpd.sjoin(grp, fortaleza.dissolve(), 'inner', 'within').plot(color='blue', label='Raio', ax=ax)\n",
    "    ax.scatter(grp['Lon Estab.'], grp['Lat Estab.'], color='red', label='Estab.')\n",
    "    ax.legend(loc=1)\n",
    "    ax.set_title('{0}\\nL={1}'.format(chv, len(grp)))"
   ]
  },
  {
   "cell_type": "markdown",
   "id": "968ff08b",
   "metadata": {},
   "source": [
    "### Simulação de fila"
   ]
  },
  {
   "cell_type": "code",
   "execution_count": 30,
   "id": "827bd15e",
   "metadata": {},
   "outputs": [],
   "source": [
    "teste = amostra_rests[amostra_rests['Estabelecimento'] == 635536]"
   ]
  },
  {
   "cell_type": "code",
   "execution_count": 12,
   "id": "7561c4a2",
   "metadata": {},
   "outputs": [],
   "source": [
    "def estim_b(df, t0, chv, uid, ini):\n",
    "    df = df[df[chv] == uid]\n",
    "    T = (df[ini] - t0).dt.total_seconds().values / 86400\n",
    "    b = b_otimo_cv(cv_loglike, 1, (T, norm.pdf), Bounds(0.0001, float('inf')))\n",
    "    return b"
   ]
  },
  {
   "cell_type": "code",
   "execution_count": 13,
   "id": "17885def",
   "metadata": {},
   "outputs": [],
   "source": [
    "def estim_param_tx_chegada(df, chv, uid, ini, t0, t, b, K=norm.pdf):\n",
    "    df = df[df[chv] == uid]\n",
    "    t_dec = (t - t0).total_seconds() / 86400\n",
    "    T = (df[ini] - t0).dt.total_seconds().values / 86400\n",
    "    a = alfa_t(t_dec, T, b, K)\n",
    "    return a"
   ]
  },
  {
   "cell_type": "code",
   "execution_count": 14,
   "id": "69bb1810",
   "metadata": {},
   "outputs": [],
   "source": [
    "def simula_entradas_fila(lamb, n):\n",
    "    return poisson.rvs(lamb, size=n)"
   ]
  },
  {
   "cell_type": "code",
   "execution_count": 15,
   "id": "b4761c95",
   "metadata": {},
   "outputs": [],
   "source": [
    "def prob_entrada_fila(x, lamb):\n",
    "    return poisson.pmf(x, lamb)[0]"
   ]
  },
  {
   "cell_type": "code",
   "execution_count": 35,
   "id": "26317e5e",
   "metadata": {},
   "outputs": [
    {
     "data": {
      "text/plain": [
       "array([3], dtype=int64)"
      ]
     },
     "execution_count": 35,
     "metadata": {},
     "output_type": "execute_result"
    }
   ],
   "source": [
    "b = estim_b(pedidos, dt.datetime(2023, 1, 10), 'Estabelecimento', 635536, 'Início Entrega')\n",
    "lamb = estim_param_tx_chegada(pedidos, 'Estabelecimento', 635536, 'Início Entrega', dt.datetime(2023, 1, 10), dt.datetime(2023, 1, 10, 12, 52, 35), b)\n",
    "simula_entradas_fila(lamb, 1)"
   ]
  },
  {
   "cell_type": "code",
   "execution_count": 16,
   "id": "c8ff5ea7",
   "metadata": {},
   "outputs": [],
   "source": [
    "def estim_params_tempo_servico(df, chv, uid, tp, adm, lat, lon, ini, fim, max_dist):\n",
    "    df_estab = df[df[chv] == uid][[chv, lat, lon]].drop_duplicates()\n",
    "    df_prox = df_estab.merge(df[df[tp] == adm], how='cross')\n",
    "    df_prox['d'] = df_prox.apply(lambda x: distancia(x[lat+'_x'], x[lon+'_x'], x[lat+'_y'], x[lon+'_y']), axis=1)\n",
    "    df_prox = df_prox[(df_prox['d'] <= max_dist) & (df_prox[chv+'_x'] != df_prox[chv+'_y'])]\n",
    "    df_prox['TC'] = df_prox.apply(lambda x: (x[fim] - x[ini]).total_seconds() / 60, axis=1)\n",
    "    k, l, theta = gamma.fit(df_prox['TC'].values, floc=0)\n",
    "    return k, theta"
   ]
  },
  {
   "cell_type": "code",
   "execution_count": 17,
   "id": "2208ff0e",
   "metadata": {},
   "outputs": [],
   "source": [
    "def simula_tempo_servico_discreto(n, k, theta):\n",
    "    return math.ceil(gamma.rvs(k, loc=0, scale=theta, size=n)[0])"
   ]
  },
  {
   "cell_type": "code",
   "execution_count": 18,
   "id": "85861074",
   "metadata": {},
   "outputs": [],
   "source": [
    "def prob_tempo_servico(x, k, theta):\n",
    "    return gamma.cdf(x, k, loc=0, scale=theta) - gamma.cdf(x-1, k, loc=0, scale=theta)"
   ]
  },
  {
   "cell_type": "code",
   "execution_count": 39,
   "id": "bf7ec84b",
   "metadata": {},
   "outputs": [
    {
     "data": {
      "text/plain": [
       "25"
      ]
     },
     "execution_count": 39,
     "metadata": {},
     "output_type": "execute_result"
    }
   ],
   "source": [
    "k, theta = estim_params_tempo_servico(pedidos, 'Estabelecimento', 635536, 'Tipo Entrega', 'IFOOD', 'Lat Estab.', 'Lon Estab.', 'Início Entrega', 'Término Entrega', 2)\n",
    "simula_tempo_servico_discreto(1, k, theta)"
   ]
  },
  {
   "cell_type": "code",
   "execution_count": 19,
   "id": "6c7d1a3d",
   "metadata": {},
   "outputs": [],
   "source": [
    "def gerar_n(L, m):\n",
    "    \n",
    "    def gerar_r_combs(r, m):\n",
    "        \n",
    "        def gerar_xm_xi_x1(xj_x1, xm_xi_x1, st):\n",
    "            if xj_x1 == 0 and st == m:\n",
    "                r_combs.append(xm_xi_x1.copy())\n",
    "                return   \n",
    "            if st == m:\n",
    "                return\n",
    "            for xj in range(xj_x1 + 1):\n",
    "                xm_xi_x1[st] = xj\n",
    "                gerar_xm_xi_x1(xj_x1 - xj, xm_xi_x1, st + 1)\n",
    "                xm_xi_x1[st] = 0\n",
    "                \n",
    "                \n",
    "        r_combs = []\n",
    "        xm_xi_x1 = np.zeros(m, dtype=int)\n",
    "        gerar_xm_xi_x1(r, xm_xi_x1, 0)\n",
    "        \n",
    "        return r_combs\n",
    "\n",
    "    for r in range(1, L + 1):\n",
    "        yield (r, gerar_r_combs(r, m))"
   ]
  },
  {
   "cell_type": "code",
   "execution_count": 145,
   "id": "ad32d05f",
   "metadata": {},
   "outputs": [],
   "source": [
    "def gerar_n1(n, C):\n",
    "    for r, xm_xi_x1 in n:\n",
    "        ym_yi_y1 = []\n",
    "        \n",
    "        for xi in xm_xi_x1:\n",
    "            rems = np.append(np.maximum(xi[:-1] - C, 0), 0)\n",
    "            movs = np.pad(np.minimum(xi, C), (1, 0), 'constant', constant_values=0)[:-1]\n",
    "            ym_yi_y1.append(rems + movs)\n",
    "            \n",
    "        yield r, ym_yi_y1"
   ]
  },
  {
   "cell_type": "code",
   "execution_count": 21,
   "id": "50e3845f",
   "metadata": {},
   "outputs": [],
   "source": [
    "def gerar_n2(n1, nnewst, L):\n",
    "    n2 = [(i,) for i in range(1, L+1)]\n",
    "    \n",
    "    for yi, zi in zip(n1, nnewst):\n",
    "        a_nnewst = np.sum(np.stack((yi[1], zi[1]), axis=1), axis=1)\n",
    "        r = np.sum(a_nnewst, axis=1)\n",
    "\n",
    "        for r, a_nnewst in zip(r, a_nnewst):\n",
    "            if r > L: \n",
    "                continue\n",
    "\n",
    "            n2[r-1] = n2[r-1] + (a_nnewst,)\n",
    "        \n",
    "    return n2"
   ]
  },
  {
   "cell_type": "code",
   "execution_count": 22,
   "id": "54f91f63",
   "metadata": {},
   "outputs": [],
   "source": [
    "def probs_n2(n2, L, C, m, p_ini, lamb, k, theta):\n",
    "    probs_ts = [prob_tempo_servico(x, k, theta) for x in range(1, m+1)]\n",
    "    p_n2 = np.zeros(min([C, L]), dtype=float)\n",
    "\n",
    "    for r, ts_combs in n2:\n",
    "        if r > min([C, L]): \n",
    "            break\n",
    "\n",
    "        for zm_zi_z1 in ts_combs:\n",
    "            zi_fats, si_ezi = zip(*((factorial(zi), probs_ts[i] ** zi) for i, zi in enumerate(zm_zi_z1)))\n",
    "            p_n2[r - 1] += p_ini * prob_entrada_fila(r, lamb) * (r / np.prod(zi_fats) * np.prod(si_ezi))\n",
    "\n",
    "    return p_n2"
   ]
  },
  {
   "cell_type": "code",
   "execution_count": 23,
   "id": "faaa0bda",
   "metadata": {},
   "outputs": [],
   "source": [
    "def params_espaco_estado(df, lat1, lat2, lon1, lon2, ini, fim, delta_t):\n",
    "    df['Distancia'] = df.apply(lambda x: distancia(x[lat1], x[lon1], x[lat2], x[lon2]), axis=1)\n",
    "    df['TC'] = df.apply(lambda x: (x[fim] - x[ini]).total_seconds() / 60, axis=1)\n",
    "    df['d_TC'] = df.apply(lambda x: math.floor(x['TC'] / delta_t) + 1, axis=1)\n",
    "    m = amostra_rests['d_TC'].max() + 1\n",
    "    L = amostra_rests[ini].dt.floor('{}min'.format(delta_t)).value_counts()[0] * m\n",
    "    \n",
    "    return L, m, df"
   ]
  },
  {
   "cell_type": "code",
   "execution_count": 13,
   "id": "34a5b07f",
   "metadata": {},
   "outputs": [
    {
     "ename": "NameError",
     "evalue": "name 'L' is not defined",
     "output_type": "error",
     "traceback": [
      "\u001b[1;31m---------------------------------------------------------------------------\u001b[0m",
      "\u001b[1;31mNameError\u001b[0m                                 Traceback (most recent call last)",
      "Input \u001b[1;32mIn [13]\u001b[0m, in \u001b[0;36m<cell line: 1>\u001b[1;34m()\u001b[0m\n\u001b[1;32m----> 1\u001b[0m \u001b[43mL\u001b[49m, m\n",
      "\u001b[1;31mNameError\u001b[0m: name 'L' is not defined"
     ]
    }
   ],
   "source": [
    "L, m"
   ]
  },
  {
   "cell_type": "code",
   "execution_count": 58,
   "id": "2e21b486",
   "metadata": {},
   "outputs": [
    {
     "data": {
      "text/plain": [
       "(63, 9)"
      ]
     },
     "execution_count": 58,
     "metadata": {},
     "output_type": "execute_result"
    }
   ],
   "source": [
    "L, m"
   ]
  },
  {
   "cell_type": "code",
   "execution_count": 54,
   "id": "59d48607",
   "metadata": {},
   "outputs": [],
   "source": [
    "L, m, df_fila = params_espaco_estado(amostra_rests, 'Lat Cliente', 'Lat Estab.', 'Lon Cliente', 'Lon Estab.', 'Início Entrega', 'Término Entrega', 5)"
   ]
  },
  {
   "cell_type": "code",
   "execution_count": 110,
   "id": "87d751a1",
   "metadata": {},
   "outputs": [
    {
     "name": "stdout",
     "output_type": "stream",
     "text": [
      "1 [array([0, 0, 0, 0, 1]), array([0, 0, 0, 1, 0]), array([0, 0, 1, 0, 0]), array([0, 1, 0, 0, 0]), array([1, 0, 0, 0, 0])]\n",
      "2 [array([0, 0, 0, 0, 2]), array([0, 0, 0, 1, 1]), array([0, 0, 0, 2, 0]), array([0, 0, 1, 0, 1]), array([0, 0, 1, 1, 0]), array([0, 0, 2, 0, 0]), array([0, 1, 0, 0, 1]), array([0, 1, 0, 1, 0]), array([0, 1, 1, 0, 0]), array([0, 2, 0, 0, 0]), array([1, 0, 0, 0, 1]), array([1, 0, 0, 1, 0]), array([1, 0, 1, 0, 0]), array([1, 1, 0, 0, 0]), array([2, 0, 0, 0, 0])]\n",
      "3 [array([0, 0, 0, 0, 3]), array([0, 0, 0, 1, 2]), array([0, 0, 0, 2, 1]), array([0, 0, 0, 3, 0]), array([0, 0, 1, 0, 2]), array([0, 0, 1, 1, 1]), array([0, 0, 1, 2, 0]), array([0, 0, 2, 0, 1]), array([0, 0, 2, 1, 0]), array([0, 0, 3, 0, 0]), array([0, 1, 0, 0, 2]), array([0, 1, 0, 1, 1]), array([0, 1, 0, 2, 0]), array([0, 1, 1, 0, 1]), array([0, 1, 1, 1, 0]), array([0, 1, 2, 0, 0]), array([0, 2, 0, 0, 1]), array([0, 2, 0, 1, 0]), array([0, 2, 1, 0, 0]), array([0, 3, 0, 0, 0]), array([1, 0, 0, 0, 2]), array([1, 0, 0, 1, 1]), array([1, 0, 0, 2, 0]), array([1, 0, 1, 0, 1]), array([1, 0, 1, 1, 0]), array([1, 0, 2, 0, 0]), array([1, 1, 0, 0, 1]), array([1, 1, 0, 1, 0]), array([1, 1, 1, 0, 0]), array([1, 2, 0, 0, 0]), array([2, 0, 0, 0, 1]), array([2, 0, 0, 1, 0]), array([2, 0, 1, 0, 0]), array([2, 1, 0, 0, 0]), array([3, 0, 0, 0, 0])]\n",
      "4 [array([0, 0, 0, 0, 4]), array([0, 0, 0, 1, 3]), array([0, 0, 0, 2, 2]), array([0, 0, 0, 3, 1]), array([0, 0, 0, 4, 0]), array([0, 0, 1, 0, 3]), array([0, 0, 1, 1, 2]), array([0, 0, 1, 2, 1]), array([0, 0, 1, 3, 0]), array([0, 0, 2, 0, 2]), array([0, 0, 2, 1, 1]), array([0, 0, 2, 2, 0]), array([0, 0, 3, 0, 1]), array([0, 0, 3, 1, 0]), array([0, 0, 4, 0, 0]), array([0, 1, 0, 0, 3]), array([0, 1, 0, 1, 2]), array([0, 1, 0, 2, 1]), array([0, 1, 0, 3, 0]), array([0, 1, 1, 0, 2]), array([0, 1, 1, 1, 1]), array([0, 1, 1, 2, 0]), array([0, 1, 2, 0, 1]), array([0, 1, 2, 1, 0]), array([0, 1, 3, 0, 0]), array([0, 2, 0, 0, 2]), array([0, 2, 0, 1, 1]), array([0, 2, 0, 2, 0]), array([0, 2, 1, 0, 1]), array([0, 2, 1, 1, 0]), array([0, 2, 2, 0, 0]), array([0, 3, 0, 0, 1]), array([0, 3, 0, 1, 0]), array([0, 3, 1, 0, 0]), array([0, 4, 0, 0, 0]), array([1, 0, 0, 0, 3]), array([1, 0, 0, 1, 2]), array([1, 0, 0, 2, 1]), array([1, 0, 0, 3, 0]), array([1, 0, 1, 0, 2]), array([1, 0, 1, 1, 1]), array([1, 0, 1, 2, 0]), array([1, 0, 2, 0, 1]), array([1, 0, 2, 1, 0]), array([1, 0, 3, 0, 0]), array([1, 1, 0, 0, 2]), array([1, 1, 0, 1, 1]), array([1, 1, 0, 2, 0]), array([1, 1, 1, 0, 1]), array([1, 1, 1, 1, 0]), array([1, 1, 2, 0, 0]), array([1, 2, 0, 0, 1]), array([1, 2, 0, 1, 0]), array([1, 2, 1, 0, 0]), array([1, 3, 0, 0, 0]), array([2, 0, 0, 0, 2]), array([2, 0, 0, 1, 1]), array([2, 0, 0, 2, 0]), array([2, 0, 1, 0, 1]), array([2, 0, 1, 1, 0]), array([2, 0, 2, 0, 0]), array([2, 1, 0, 0, 1]), array([2, 1, 0, 1, 0]), array([2, 1, 1, 0, 0]), array([2, 2, 0, 0, 0]), array([3, 0, 0, 0, 1]), array([3, 0, 0, 1, 0]), array([3, 0, 1, 0, 0]), array([3, 1, 0, 0, 0]), array([4, 0, 0, 0, 0])]\n"
     ]
    }
   ],
   "source": [
    "n = gerar_n(4, 5)\n",
    "for r, xm_xi_x1 in n:\n",
    "    print(r, xm_xi_x1)"
   ]
  },
  {
   "cell_type": "code",
   "execution_count": 137,
   "id": "9a21bd42",
   "metadata": {
    "scrolled": true
   },
   "outputs": [],
   "source": [
    "def gerar_n1(n, C):\n",
    "    for r, xm_xi_x1 in n:\n",
    "        ym_yi_y1 = []\n",
    "        \n",
    "        for xi in xm_xi_x1:\n",
    "            rems = np.append(np.maximum(xi[:-1] - C, 0), 0)\n",
    "            movs = np.pad(np.minimum(xi, C), (1, 0), 'constant', constant_values=0)[:-1]\n",
    "            ym_yi_y1.append(rems + movs)\n",
    "            \n",
    "        yield r, ym_yi_y1"
   ]
  },
  {
   "cell_type": "code",
   "execution_count": 144,
   "id": "b2bc0440",
   "metadata": {},
   "outputs": [
    {
     "data": {
      "text/plain": [
       "(4,\n",
       " [array([0, 0, 0, 0, 0]),\n",
       "  array([0, 0, 0, 0, 1]),\n",
       "  array([0, 0, 0, 0, 2]),\n",
       "  array([0, 0, 0, 1, 2]),\n",
       "  array([0, 0, 0, 2, 2]),\n",
       "  array([0, 0, 0, 1, 0]),\n",
       "  array([0, 0, 0, 1, 1]),\n",
       "  array([0, 0, 0, 1, 2]),\n",
       "  array([0, 0, 0, 2, 2]),\n",
       "  array([0, 0, 0, 2, 0]),\n",
       "  array([0, 0, 0, 2, 1]),\n",
       "  array([0, 0, 0, 2, 2]),\n",
       "  array([0, 0, 1, 2, 0]),\n",
       "  array([0, 0, 1, 2, 1]),\n",
       "  array([0, 0, 2, 2, 0]),\n",
       "  array([0, 0, 1, 0, 0]),\n",
       "  array([0, 0, 1, 0, 1]),\n",
       "  array([0, 0, 1, 0, 2]),\n",
       "  array([0, 0, 1, 1, 2]),\n",
       "  array([0, 0, 1, 1, 0]),\n",
       "  array([0, 0, 1, 1, 1]),\n",
       "  array([0, 0, 1, 1, 2]),\n",
       "  array([0, 0, 1, 2, 0]),\n",
       "  array([0, 0, 1, 2, 1]),\n",
       "  array([0, 0, 2, 2, 0]),\n",
       "  array([0, 0, 2, 0, 0]),\n",
       "  array([0, 0, 2, 0, 1]),\n",
       "  array([0, 0, 2, 0, 2]),\n",
       "  array([0, 0, 2, 1, 0]),\n",
       "  array([0, 0, 2, 1, 1]),\n",
       "  array([0, 0, 2, 2, 0]),\n",
       "  array([0, 1, 2, 0, 0]),\n",
       "  array([0, 1, 2, 0, 1]),\n",
       "  array([0, 1, 2, 1, 0]),\n",
       "  array([0, 2, 2, 0, 0]),\n",
       "  array([0, 1, 0, 0, 0]),\n",
       "  array([0, 1, 0, 0, 1]),\n",
       "  array([0, 1, 0, 0, 2]),\n",
       "  array([0, 1, 0, 1, 2]),\n",
       "  array([0, 1, 0, 1, 0]),\n",
       "  array([0, 1, 0, 1, 1]),\n",
       "  array([0, 1, 0, 1, 2]),\n",
       "  array([0, 1, 0, 2, 0]),\n",
       "  array([0, 1, 0, 2, 1]),\n",
       "  array([0, 1, 1, 2, 0]),\n",
       "  array([0, 1, 1, 0, 0]),\n",
       "  array([0, 1, 1, 0, 1]),\n",
       "  array([0, 1, 1, 0, 2]),\n",
       "  array([0, 1, 1, 1, 0]),\n",
       "  array([0, 1, 1, 1, 1]),\n",
       "  array([0, 1, 1, 2, 0]),\n",
       "  array([0, 1, 2, 0, 0]),\n",
       "  array([0, 1, 2, 0, 1]),\n",
       "  array([0, 1, 2, 1, 0]),\n",
       "  array([0, 2, 2, 0, 0]),\n",
       "  array([0, 2, 0, 0, 0]),\n",
       "  array([0, 2, 0, 0, 1]),\n",
       "  array([0, 2, 0, 0, 2]),\n",
       "  array([0, 2, 0, 1, 0]),\n",
       "  array([0, 2, 0, 1, 1]),\n",
       "  array([0, 2, 0, 2, 0]),\n",
       "  array([0, 2, 1, 0, 0]),\n",
       "  array([0, 2, 1, 0, 1]),\n",
       "  array([0, 2, 1, 1, 0]),\n",
       "  array([0, 2, 2, 0, 0]),\n",
       "  array([1, 2, 0, 0, 0]),\n",
       "  array([1, 2, 0, 0, 1]),\n",
       "  array([1, 2, 0, 1, 0]),\n",
       "  array([1, 2, 1, 0, 0]),\n",
       "  array([2, 2, 0, 0, 0])])"
      ]
     },
     "execution_count": 144,
     "metadata": {},
     "output_type": "execute_result"
    }
   ],
   "source": [
    "n = gerar_n(4, 5)\n",
    "next(gerar_n1(n, 2))"
   ]
  },
  {
   "cell_type": "code",
   "execution_count": 52,
   "id": "db3840fc",
   "metadata": {},
   "outputs": [
    {
     "name": "stdout",
     "output_type": "stream",
     "text": [
      "CPU times: total: 453 ms\n",
      "Wall time: 1.43 s\n"
     ]
    }
   ],
   "source": [
    "%%time\n",
    "x = []\n",
    "y = []\n",
    "\n",
    "for r, xm_xi_x1 in n:\n",
    "    x.append(r)\n",
    "    y.append(len(xm_xi_x1))"
   ]
  },
  {
   "cell_type": "code",
   "execution_count": 49,
   "id": "878cfd33",
   "metadata": {},
   "outputs": [
    {
     "name": "stderr",
     "output_type": "stream",
     "text": [
      "C:\\Users\\souza.daniel_ifood\\AppData\\Local\\Temp\\ipykernel_23300\\36082134.py:8: UserWarning: Matplotlib is currently using module://matplotlib_inline.backend_inline, which is a non-GUI backend, so cannot show the figure.\n",
      "  fig.show()\n"
     ]
    },
    {
     "data": {
      "image/png": "[encoded data removed]",
      "text/plain": [
       "<Figure size 1152x432 with 1 Axes>"
      ]
     },
     "metadata": {
      "needs_background": "light"
     },
     "output_type": "display_data"
    }
   ],
   "source": [
    "fig, ax = plt.subplots(figsize=(16, 6))\n",
    "ax.bar(x, y)\n",
    "ax.bar_label(ax.containers[0], label_type='edge', fmt='%d')\n",
    "plt.xlabel('r')\n",
    "plt.ylabel('Possibilidades')\n",
    "plt.xticks(range(1, 21))\n",
    "plt.yticks([])\n",
    "fig.show()"
   ]
  },
  {
   "cell_type": "code",
   "execution_count": 555,
   "id": "8599c223",
   "metadata": {},
   "outputs": [
    {
     "name": "stdout",
     "output_type": "stream",
     "text": [
      "CPU times: total: 0 ns\n",
      "Wall time: 3 ms\n"
     ]
    }
   ],
   "source": [
    "%%time\n",
    "n = gerar_n(2, 5)"
   ]
  },
  {
   "cell_type": "code",
   "execution_count": 521,
   "id": "4450d927",
   "metadata": {},
   "outputs": [
    {
     "name": "stdout",
     "output_type": "stream",
     "text": [
      "0.003472222222222222\n",
      "0.006944444444444444\n"
     ]
    }
   ],
   "source": [
    "T = np.arange(0, 1440, 5) / 1440\n",
    "\n",
    "for t in T[1:3]:\n",
    "    print(t)"
   ]
  },
  {
   "cell_type": "code",
   "execution_count": 171,
   "id": "7d55ff2e",
   "metadata": {},
   "outputs": [],
   "source": [
    "amostra_rests['TC'] = amostra_rests.apply(lambda x: (x['Término Entrega'] - x['Início Entrega']).total_seconds() / 60, axis=1)\n",
    "amostra_rests['d_TC'] = amostra_rests.apply(lambda x: math.floor(x['TC'] / 5) + 1, axis=1)"
   ]
  },
  {
   "cell_type": "code",
   "execution_count": 503,
   "id": "d07edb6e",
   "metadata": {},
   "outputs": [
    {
     "data": {
      "text/plain": [
       "2023-01-10 20:10:00    11\n",
       "2023-01-10 20:30:00    11\n",
       "2023-01-10 21:00:00     9\n",
       "2023-01-10 20:50:00     7\n",
       "2023-01-10 19:20:00     7\n",
       "                       ..\n",
       "2023-01-10 01:00:00     1\n",
       "2023-01-10 12:20:00     1\n",
       "2023-01-10 00:10:00     1\n",
       "2023-01-10 17:20:00     1\n",
       "2023-01-10 11:10:00     1\n",
       "Name: Início Preparo, Length: 83, dtype: int64"
      ]
     },
     "execution_count": 503,
     "metadata": {},
     "output_type": "execute_result"
    }
   ],
   "source": [
    "amostra_rests['Início Preparo'].dt.floor('{}min'.format(10)).value_counts()"
   ]
  },
  {
   "cell_type": "code",
   "execution_count": 501,
   "id": "42544733",
   "metadata": {},
   "outputs": [],
   "source": [
    "amostra_rests['delta_t'] = amostra_rests['Início Preparo'].dt.floor('{}min'.format(5))"
   ]
  },
  {
   "cell_type": "code",
   "execution_count": 176,
   "id": "a11339f1",
   "metadata": {},
   "outputs": [],
   "source": [
    "L = amostra_rests['delta_t'].value_counts()[0]"
   ]
  },
  {
   "cell_type": "code",
   "execution_count": 177,
   "id": "61571e5d",
   "metadata": {},
   "outputs": [],
   "source": [
    "m = amostra_rests['d_TC'].max()"
   ]
  },
  {
   "cell_type": "code",
   "execution_count": 487,
   "id": "e38d9149",
   "metadata": {},
   "outputs": [],
   "source": [
    "def gerar_n2(n1, nnewst, L):\n",
    "    n2 = [(i,) for i in range(1, L+1)]\n",
    "    \n",
    "    for yi, zi in zip(n1, nnewst):\n",
    "        a_nnewst = np.sum(np.stack((yi[1], zi[1]), axis=1), axis=1)\n",
    "        r = np.sum(a_nnewst, axis=1)\n",
    "\n",
    "        for r, a_nnewst in zip(r, a_nnewst):\n",
    "            if r > L: \n",
    "                continue\n",
    "\n",
    "            n2[r-1] = n2[r-1] + (a_nnewst,)\n",
    "        \n",
    "    return n2"
   ]
  },
  {
   "cell_type": "code",
   "execution_count": 488,
   "id": "880bc528",
   "metadata": {},
   "outputs": [],
   "source": [
    "n2 = gerar_n2(n1, n, L)"
   ]
  },
  {
   "cell_type": "code",
   "execution_count": 489,
   "id": "91763618",
   "metadata": {},
   "outputs": [
    {
     "data": {
      "text/plain": [
       "[(1, array([1, 0, 0, 0, 0, 0, 0, 0])),\n",
       " (2,\n",
       "  array([1, 1, 0, 0, 0, 0, 0, 0]),\n",
       "  array([0, 1, 1, 0, 0, 0, 0, 0]),\n",
       "  array([0, 0, 1, 1, 0, 0, 0, 0]),\n",
       "  array([0, 0, 0, 1, 1, 0, 0, 0]),\n",
       "  array([0, 0, 0, 0, 1, 1, 0, 0]),\n",
       "  array([0, 0, 0, 0, 0, 1, 1, 0]),\n",
       "  array([0, 0, 0, 0, 0, 0, 1, 1]),\n",
       "  array([2, 0, 0, 0, 0, 0, 0, 0])),\n",
       " (3,\n",
       "  array([2, 1, 0, 0, 0, 0, 0, 0]),\n",
       "  array([1, 1, 1, 0, 0, 0, 0, 0]),\n",
       "  array([1, 0, 1, 1, 0, 0, 0, 0]),\n",
       "  array([1, 0, 0, 1, 1, 0, 0, 0]),\n",
       "  array([1, 0, 0, 0, 1, 1, 0, 0]),\n",
       "  array([1, 0, 0, 0, 0, 1, 1, 0]),\n",
       "  array([1, 0, 0, 0, 0, 0, 1, 1]),\n",
       "  array([3, 0, 0, 0, 0, 0, 0, 0]),\n",
       "  array([3, 0, 0, 0, 0, 0, 0, 0])),\n",
       " (4,\n",
       "  array([2, 2, 0, 0, 0, 0, 0, 0]),\n",
       "  array([0, 2, 2, 0, 0, 0, 0, 0]),\n",
       "  array([0, 0, 2, 2, 0, 0, 0, 0]),\n",
       "  array([0, 0, 0, 2, 2, 0, 0, 0]),\n",
       "  array([0, 0, 0, 0, 2, 2, 0, 0]),\n",
       "  array([0, 0, 0, 0, 0, 2, 2, 0]),\n",
       "  array([0, 0, 0, 0, 0, 0, 2, 2]),\n",
       "  array([1, 2, 1, 0, 0, 0, 0, 0]),\n",
       "  array([1, 1, 1, 1, 0, 0, 0, 0]),\n",
       "  array([1, 1, 0, 1, 1, 0, 0, 0]),\n",
       "  array([1, 1, 0, 0, 1, 1, 0, 0]),\n",
       "  array([1, 1, 0, 0, 0, 1, 1, 0]),\n",
       "  array([1, 1, 0, 0, 0, 0, 1, 1]),\n",
       "  array([0, 1, 2, 1, 0, 0, 0, 0]),\n",
       "  array([0, 1, 1, 1, 1, 0, 0, 0]),\n",
       "  array([0, 1, 1, 0, 1, 1, 0, 0]),\n",
       "  array([0, 1, 1, 0, 0, 1, 1, 0]),\n",
       "  array([0, 1, 1, 0, 0, 0, 1, 1]),\n",
       "  array([0, 0, 1, 2, 1, 0, 0, 0]),\n",
       "  array([0, 0, 1, 1, 1, 1, 0, 0]),\n",
       "  array([0, 0, 1, 1, 0, 1, 1, 0]),\n",
       "  array([0, 0, 1, 1, 0, 0, 1, 1]),\n",
       "  array([0, 0, 0, 1, 2, 1, 0, 0]),\n",
       "  array([0, 0, 0, 1, 1, 1, 1, 0]),\n",
       "  array([0, 0, 0, 1, 1, 0, 1, 1]),\n",
       "  array([0, 0, 0, 0, 1, 2, 1, 0]),\n",
       "  array([0, 0, 0, 0, 1, 1, 1, 1]),\n",
       "  array([0, 0, 0, 0, 0, 1, 2, 1]),\n",
       "  array([3, 1, 0, 0, 0, 0, 0, 0]),\n",
       "  array([2, 1, 1, 0, 0, 0, 0, 0]),\n",
       "  array([2, 0, 1, 1, 0, 0, 0, 0]),\n",
       "  array([2, 0, 0, 1, 1, 0, 0, 0]),\n",
       "  array([2, 0, 0, 0, 1, 1, 0, 0]),\n",
       "  array([2, 0, 0, 0, 0, 1, 1, 0]),\n",
       "  array([2, 0, 0, 0, 0, 0, 1, 1]),\n",
       "  array([4, 0, 0, 0, 0, 0, 0, 0]),\n",
       "  array([4, 0, 0, 0, 0, 0, 0, 0])),\n",
       " (5,\n",
       "  array([3, 2, 0, 0, 0, 0, 0, 0]),\n",
       "  array([1, 2, 2, 0, 0, 0, 0, 0]),\n",
       "  array([1, 0, 2, 2, 0, 0, 0, 0]),\n",
       "  array([1, 0, 0, 2, 2, 0, 0, 0]),\n",
       "  array([1, 0, 0, 0, 2, 2, 0, 0]),\n",
       "  array([1, 0, 0, 0, 0, 2, 2, 0]),\n",
       "  array([1, 0, 0, 0, 0, 0, 2, 2]),\n",
       "  array([2, 2, 1, 0, 0, 0, 0, 0]),\n",
       "  array([2, 1, 1, 1, 0, 0, 0, 0]),\n",
       "  array([2, 1, 0, 1, 1, 0, 0, 0]),\n",
       "  array([2, 1, 0, 0, 1, 1, 0, 0]),\n",
       "  array([2, 1, 0, 0, 0, 1, 1, 0]),\n",
       "  array([2, 1, 0, 0, 0, 0, 1, 1]),\n",
       "  array([1, 1, 2, 1, 0, 0, 0, 0]),\n",
       "  array([1, 1, 1, 1, 1, 0, 0, 0]),\n",
       "  array([1, 1, 1, 0, 1, 1, 0, 0]),\n",
       "  array([1, 1, 1, 0, 0, 1, 1, 0]),\n",
       "  array([1, 1, 1, 0, 0, 0, 1, 1]),\n",
       "  array([1, 0, 1, 2, 1, 0, 0, 0]),\n",
       "  array([1, 0, 1, 1, 1, 1, 0, 0]),\n",
       "  array([1, 0, 1, 1, 0, 1, 1, 0]),\n",
       "  array([1, 0, 1, 1, 0, 0, 1, 1]),\n",
       "  array([1, 0, 0, 1, 2, 1, 0, 0]),\n",
       "  array([1, 0, 0, 1, 1, 1, 1, 0]),\n",
       "  array([1, 0, 0, 1, 1, 0, 1, 1]),\n",
       "  array([1, 0, 0, 0, 1, 2, 1, 0]),\n",
       "  array([1, 0, 0, 0, 1, 1, 1, 1]),\n",
       "  array([1, 0, 0, 0, 0, 1, 2, 1]),\n",
       "  array([4, 1, 0, 0, 0, 0, 0, 0]),\n",
       "  array([3, 1, 1, 0, 0, 0, 0, 0]),\n",
       "  array([3, 0, 1, 1, 0, 0, 0, 0]),\n",
       "  array([3, 0, 0, 1, 1, 0, 0, 0]),\n",
       "  array([3, 0, 0, 0, 1, 1, 0, 0]),\n",
       "  array([3, 0, 0, 0, 0, 1, 1, 0]),\n",
       "  array([3, 0, 0, 0, 0, 0, 1, 1]),\n",
       "  array([4, 1, 0, 0, 0, 0, 0, 0]),\n",
       "  array([3, 1, 1, 0, 0, 0, 0, 0]),\n",
       "  array([3, 0, 1, 1, 0, 0, 0, 0]),\n",
       "  array([3, 0, 0, 1, 1, 0, 0, 0]),\n",
       "  array([3, 0, 0, 0, 1, 1, 0, 0]),\n",
       "  array([3, 0, 0, 0, 0, 1, 1, 0]),\n",
       "  array([3, 0, 0, 0, 0, 0, 1, 1]),\n",
       "  array([5, 0, 0, 0, 0, 0, 0, 0]),\n",
       "  array([5, 0, 0, 0, 0, 0, 0, 0]),\n",
       "  array([5, 0, 0, 0, 0, 0, 0, 0])),\n",
       " (6,\n",
       "  array([3, 3, 0, 0, 0, 0, 0, 0]),\n",
       "  array([0, 3, 3, 0, 0, 0, 0, 0]),\n",
       "  array([0, 0, 3, 3, 0, 0, 0, 0]),\n",
       "  array([0, 0, 0, 3, 3, 0, 0, 0]),\n",
       "  array([0, 0, 0, 0, 3, 3, 0, 0]),\n",
       "  array([0, 0, 0, 0, 0, 3, 3, 0]),\n",
       "  array([0, 0, 0, 0, 0, 0, 3, 3]),\n",
       "  array([3, 3, 0, 0, 0, 0, 0, 0]),\n",
       "  array([1, 3, 2, 0, 0, 0, 0, 0]),\n",
       "  array([1, 1, 2, 2, 0, 0, 0, 0]),\n",
       "  array([1, 1, 0, 2, 2, 0, 0, 0]),\n",
       "  array([1, 1, 0, 0, 2, 2, 0, 0]),\n",
       "  array([1, 1, 0, 0, 0, 2, 2, 0]),\n",
       "  array([1, 1, 0, 0, 0, 0, 2, 2]),\n",
       "  array([2, 3, 1, 0, 0, 0, 0, 0]),\n",
       "  array([0, 3, 3, 0, 0, 0, 0, 0]),\n",
       "  array([0, 1, 3, 2, 0, 0, 0, 0]),\n",
       "  array([0, 1, 1, 2, 2, 0, 0, 0]),\n",
       "  array([0, 1, 1, 0, 2, 2, 0, 0]),\n",
       "  array([0, 1, 1, 0, 0, 2, 2, 0]),\n",
       "  array([0, 1, 1, 0, 0, 0, 2, 2]),\n",
       "  array([2, 2, 1, 1, 0, 0, 0, 0]),\n",
       "  array([0, 2, 3, 1, 0, 0, 0, 0]),\n",
       "  array([0, 0, 3, 3, 0, 0, 0, 0]),\n",
       "  array([0, 0, 1, 3, 2, 0, 0, 0]),\n",
       "  array([0, 0, 1, 1, 2, 2, 0, 0]),\n",
       "  array([0, 0, 1, 1, 0, 2, 2, 0]),\n",
       "  array([0, 0, 1, 1, 0, 0, 2, 2]),\n",
       "  array([2, 2, 0, 1, 1, 0, 0, 0]),\n",
       "  array([0, 2, 2, 1, 1, 0, 0, 0]),\n",
       "  array([0, 0, 2, 3, 1, 0, 0, 0]),\n",
       "  array([0, 0, 0, 3, 3, 0, 0, 0]),\n",
       "  array([0, 0, 0, 1, 3, 2, 0, 0]),\n",
       "  array([0, 0, 0, 1, 1, 2, 2, 0]),\n",
       "  array([0, 0, 0, 1, 1, 0, 2, 2]),\n",
       "  array([2, 2, 0, 0, 1, 1, 0, 0]),\n",
       "  array([0, 2, 2, 0, 1, 1, 0, 0]),\n",
       "  array([0, 0, 2, 2, 1, 1, 0, 0]),\n",
       "  array([0, 0, 0, 2, 3, 1, 0, 0]),\n",
       "  array([0, 0, 0, 0, 3, 3, 0, 0]),\n",
       "  array([0, 0, 0, 0, 1, 3, 2, 0]),\n",
       "  array([0, 0, 0, 0, 1, 1, 2, 2]),\n",
       "  array([2, 2, 0, 0, 0, 1, 1, 0]),\n",
       "  array([0, 2, 2, 0, 0, 1, 1, 0]),\n",
       "  array([0, 0, 2, 2, 0, 1, 1, 0]),\n",
       "  array([0, 0, 0, 2, 2, 1, 1, 0]),\n",
       "  array([0, 0, 0, 0, 2, 3, 1, 0]),\n",
       "  array([0, 0, 0, 0, 0, 3, 3, 0]),\n",
       "  array([0, 0, 0, 0, 0, 1, 3, 2]),\n",
       "  array([2, 2, 0, 0, 0, 0, 1, 1]),\n",
       "  array([0, 2, 2, 0, 0, 0, 1, 1]),\n",
       "  array([0, 0, 2, 2, 0, 0, 1, 1]),\n",
       "  array([0, 0, 0, 2, 2, 0, 1, 1]),\n",
       "  array([0, 0, 0, 0, 2, 2, 1, 1]),\n",
       "  array([0, 0, 0, 0, 0, 2, 3, 1]),\n",
       "  array([0, 0, 0, 0, 0, 0, 3, 3]),\n",
       "  array([1, 2, 2, 1, 0, 0, 0, 0]),\n",
       "  array([1, 2, 1, 1, 1, 0, 0, 0]),\n",
       "  array([1, 2, 1, 0, 1, 1, 0, 0]),\n",
       "  array([1, 2, 1, 0, 0, 1, 1, 0]),\n",
       "  array([1, 2, 1, 0, 0, 0, 1, 1]),\n",
       "  array([1, 1, 1, 2, 1, 0, 0, 0]),\n",
       "  array([1, 1, 1, 1, 1, 1, 0, 0]),\n",
       "  array([1, 1, 1, 1, 0, 1, 1, 0]),\n",
       "  array([1, 1, 1, 1, 0, 0, 1, 1]),\n",
       "  array([1, 1, 0, 1, 2, 1, 0, 0]),\n",
       "  array([1, 1, 0, 1, 1, 1, 1, 0]),\n",
       "  array([1, 1, 0, 1, 1, 0, 1, 1]),\n",
       "  array([1, 1, 0, 0, 1, 2, 1, 0]),\n",
       "  array([1, 1, 0, 0, 1, 1, 1, 1]),\n",
       "  array([1, 1, 0, 0, 0, 1, 2, 1]),\n",
       "  array([0, 1, 2, 2, 1, 0, 0, 0]),\n",
       "  array([0, 1, 2, 1, 1, 1, 0, 0]),\n",
       "  array([0, 1, 2, 1, 0, 1, 1, 0]),\n",
       "  array([0, 1, 2, 1, 0, 0, 1, 1]),\n",
       "  array([0, 1, 1, 1, 2, 1, 0, 0]),\n",
       "  array([0, 1, 1, 1, 1, 1, 1, 0]),\n",
       "  array([0, 1, 1, 1, 1, 0, 1, 1]),\n",
       "  array([0, 1, 1, 0, 1, 2, 1, 0]),\n",
       "  array([0, 1, 1, 0, 1, 1, 1, 1]),\n",
       "  array([0, 1, 1, 0, 0, 1, 2, 1]),\n",
       "  array([0, 0, 1, 2, 2, 1, 0, 0]),\n",
       "  array([0, 0, 1, 2, 1, 1, 1, 0]),\n",
       "  array([0, 0, 1, 2, 1, 0, 1, 1]),\n",
       "  array([0, 0, 1, 1, 1, 2, 1, 0]),\n",
       "  array([0, 0, 1, 1, 1, 1, 1, 1]),\n",
       "  array([0, 0, 1, 1, 0, 1, 2, 1]),\n",
       "  array([0, 0, 0, 1, 2, 2, 1, 0]),\n",
       "  array([0, 0, 0, 1, 2, 1, 1, 1]),\n",
       "  array([0, 0, 0, 1, 1, 1, 2, 1]),\n",
       "  array([0, 0, 0, 0, 1, 2, 2, 1]),\n",
       "  array([4, 2, 0, 0, 0, 0, 0, 0]),\n",
       "  array([2, 2, 2, 0, 0, 0, 0, 0]),\n",
       "  array([2, 0, 2, 2, 0, 0, 0, 0]),\n",
       "  array([2, 0, 0, 2, 2, 0, 0, 0]),\n",
       "  array([2, 0, 0, 0, 2, 2, 0, 0]),\n",
       "  array([2, 0, 0, 0, 0, 2, 2, 0]),\n",
       "  array([2, 0, 0, 0, 0, 0, 2, 2]),\n",
       "  array([3, 2, 1, 0, 0, 0, 0, 0]),\n",
       "  array([3, 1, 1, 1, 0, 0, 0, 0]),\n",
       "  array([3, 1, 0, 1, 1, 0, 0, 0]),\n",
       "  array([3, 1, 0, 0, 1, 1, 0, 0]),\n",
       "  array([3, 1, 0, 0, 0, 1, 1, 0]),\n",
       "  array([3, 1, 0, 0, 0, 0, 1, 1]),\n",
       "  array([2, 1, 2, 1, 0, 0, 0, 0]),\n",
       "  array([2, 1, 1, 1, 1, 0, 0, 0]),\n",
       "  array([2, 1, 1, 0, 1, 1, 0, 0]),\n",
       "  array([2, 1, 1, 0, 0, 1, 1, 0]),\n",
       "  array([2, 1, 1, 0, 0, 0, 1, 1]),\n",
       "  array([2, 0, 1, 2, 1, 0, 0, 0]),\n",
       "  array([2, 0, 1, 1, 1, 1, 0, 0]),\n",
       "  array([2, 0, 1, 1, 0, 1, 1, 0]),\n",
       "  array([2, 0, 1, 1, 0, 0, 1, 1]),\n",
       "  array([2, 0, 0, 1, 2, 1, 0, 0]),\n",
       "  array([2, 0, 0, 1, 1, 1, 1, 0]),\n",
       "  array([2, 0, 0, 1, 1, 0, 1, 1]),\n",
       "  array([2, 0, 0, 0, 1, 2, 1, 0]),\n",
       "  array([2, 0, 0, 0, 1, 1, 1, 1]),\n",
       "  array([2, 0, 0, 0, 0, 1, 2, 1]),\n",
       "  array([5, 1, 0, 0, 0, 0, 0, 0]),\n",
       "  array([4, 1, 1, 0, 0, 0, 0, 0]),\n",
       "  array([4, 0, 1, 1, 0, 0, 0, 0]),\n",
       "  array([4, 0, 0, 1, 1, 0, 0, 0]),\n",
       "  array([4, 0, 0, 0, 1, 1, 0, 0]),\n",
       "  array([4, 0, 0, 0, 0, 1, 1, 0]),\n",
       "  array([4, 0, 0, 0, 0, 0, 1, 1]),\n",
       "  array([5, 1, 0, 0, 0, 0, 0, 0]),\n",
       "  array([4, 1, 1, 0, 0, 0, 0, 0]),\n",
       "  array([4, 0, 1, 1, 0, 0, 0, 0]),\n",
       "  array([4, 0, 0, 1, 1, 0, 0, 0]),\n",
       "  array([4, 0, 0, 0, 1, 1, 0, 0]),\n",
       "  array([4, 0, 0, 0, 0, 1, 1, 0]),\n",
       "  array([4, 0, 0, 0, 0, 0, 1, 1]),\n",
       "  array([6, 0, 0, 0, 0, 0, 0, 0]),\n",
       "  array([6, 0, 0, 0, 0, 0, 0, 0]),\n",
       "  array([6, 0, 0, 0, 0, 0, 0, 0]),\n",
       "  array([6, 0, 0, 0, 0, 0, 0, 0])),\n",
       " (7,\n",
       "  array([4, 3, 0, 0, 0, 0, 0, 0]),\n",
       "  array([1, 3, 3, 0, 0, 0, 0, 0]),\n",
       "  array([1, 0, 3, 3, 0, 0, 0, 0]),\n",
       "  array([1, 0, 0, 3, 3, 0, 0, 0]),\n",
       "  array([1, 0, 0, 0, 3, 3, 0, 0]),\n",
       "  array([1, 0, 0, 0, 0, 3, 3, 0]),\n",
       "  array([1, 0, 0, 0, 0, 0, 3, 3]),\n",
       "  array([4, 3, 0, 0, 0, 0, 0, 0]),\n",
       "  array([2, 3, 2, 0, 0, 0, 0, 0]),\n",
       "  array([2, 1, 2, 2, 0, 0, 0, 0]),\n",
       "  array([2, 1, 0, 2, 2, 0, 0, 0]),\n",
       "  array([2, 1, 0, 0, 2, 2, 0, 0]),\n",
       "  array([2, 1, 0, 0, 0, 2, 2, 0]),\n",
       "  array([2, 1, 0, 0, 0, 0, 2, 2]),\n",
       "  array([3, 3, 1, 0, 0, 0, 0, 0]),\n",
       "  array([1, 3, 3, 0, 0, 0, 0, 0]),\n",
       "  array([1, 1, 3, 2, 0, 0, 0, 0]),\n",
       "  array([1, 1, 1, 2, 2, 0, 0, 0]),\n",
       "  array([1, 1, 1, 0, 2, 2, 0, 0]),\n",
       "  array([1, 1, 1, 0, 0, 2, 2, 0]),\n",
       "  array([1, 1, 1, 0, 0, 0, 2, 2]),\n",
       "  array([3, 2, 1, 1, 0, 0, 0, 0]),\n",
       "  array([1, 2, 3, 1, 0, 0, 0, 0]),\n",
       "  array([1, 0, 3, 3, 0, 0, 0, 0]),\n",
       "  array([1, 0, 1, 3, 2, 0, 0, 0]),\n",
       "  array([1, 0, 1, 1, 2, 2, 0, 0]),\n",
       "  array([1, 0, 1, 1, 0, 2, 2, 0]),\n",
       "  array([1, 0, 1, 1, 0, 0, 2, 2]),\n",
       "  array([3, 2, 0, 1, 1, 0, 0, 0]),\n",
       "  array([1, 2, 2, 1, 1, 0, 0, 0]),\n",
       "  array([1, 0, 2, 3, 1, 0, 0, 0]),\n",
       "  array([1, 0, 0, 3, 3, 0, 0, 0]),\n",
       "  array([1, 0, 0, 1, 3, 2, 0, 0]),\n",
       "  array([1, 0, 0, 1, 1, 2, 2, 0]),\n",
       "  array([1, 0, 0, 1, 1, 0, 2, 2]),\n",
       "  array([3, 2, 0, 0, 1, 1, 0, 0]),\n",
       "  array([1, 2, 2, 0, 1, 1, 0, 0]),\n",
       "  array([1, 0, 2, 2, 1, 1, 0, 0]),\n",
       "  array([1, 0, 0, 2, 3, 1, 0, 0]),\n",
       "  array([1, 0, 0, 0, 3, 3, 0, 0]),\n",
       "  array([1, 0, 0, 0, 1, 3, 2, 0]),\n",
       "  array([1, 0, 0, 0, 1, 1, 2, 2]),\n",
       "  array([3, 2, 0, 0, 0, 1, 1, 0]),\n",
       "  array([1, 2, 2, 0, 0, 1, 1, 0]),\n",
       "  array([1, 0, 2, 2, 0, 1, 1, 0]),\n",
       "  array([1, 0, 0, 2, 2, 1, 1, 0]),\n",
       "  array([1, 0, 0, 0, 2, 3, 1, 0]),\n",
       "  array([1, 0, 0, 0, 0, 3, 3, 0]),\n",
       "  array([1, 0, 0, 0, 0, 1, 3, 2]),\n",
       "  array([3, 2, 0, 0, 0, 0, 1, 1]),\n",
       "  array([1, 2, 2, 0, 0, 0, 1, 1]),\n",
       "  array([1, 0, 2, 2, 0, 0, 1, 1]),\n",
       "  array([1, 0, 0, 2, 2, 0, 1, 1]),\n",
       "  array([1, 0, 0, 0, 2, 2, 1, 1]),\n",
       "  array([1, 0, 0, 0, 0, 2, 3, 1]),\n",
       "  array([1, 0, 0, 0, 0, 0, 3, 3]),\n",
       "  array([2, 2, 2, 1, 0, 0, 0, 0]),\n",
       "  array([2, 2, 1, 1, 1, 0, 0, 0]),\n",
       "  array([2, 2, 1, 0, 1, 1, 0, 0]),\n",
       "  array([2, 2, 1, 0, 0, 1, 1, 0]),\n",
       "  array([2, 2, 1, 0, 0, 0, 1, 1]),\n",
       "  array([2, 1, 1, 2, 1, 0, 0, 0]),\n",
       "  array([2, 1, 1, 1, 1, 1, 0, 0]),\n",
       "  array([2, 1, 1, 1, 0, 1, 1, 0]),\n",
       "  array([2, 1, 1, 1, 0, 0, 1, 1]),\n",
       "  array([2, 1, 0, 1, 2, 1, 0, 0]),\n",
       "  array([2, 1, 0, 1, 1, 1, 1, 0]),\n",
       "  array([2, 1, 0, 1, 1, 0, 1, 1]),\n",
       "  array([2, 1, 0, 0, 1, 2, 1, 0]),\n",
       "  array([2, 1, 0, 0, 1, 1, 1, 1]),\n",
       "  array([2, 1, 0, 0, 0, 1, 2, 1]),\n",
       "  array([1, 1, 2, 2, 1, 0, 0, 0]),\n",
       "  array([1, 1, 2, 1, 1, 1, 0, 0]),\n",
       "  array([1, 1, 2, 1, 0, 1, 1, 0]),\n",
       "  array([1, 1, 2, 1, 0, 0, 1, 1]),\n",
       "  array([1, 1, 1, 1, 2, 1, 0, 0]),\n",
       "  array([1, 1, 1, 1, 1, 1, 1, 0]),\n",
       "  array([1, 1, 1, 1, 1, 0, 1, 1]),\n",
       "  array([1, 1, 1, 0, 1, 2, 1, 0]),\n",
       "  array([1, 1, 1, 0, 1, 1, 1, 1]),\n",
       "  array([1, 1, 1, 0, 0, 1, 2, 1]),\n",
       "  array([1, 0, 1, 2, 2, 1, 0, 0]),\n",
       "  array([1, 0, 1, 2, 1, 1, 1, 0]),\n",
       "  array([1, 0, 1, 2, 1, 0, 1, 1]),\n",
       "  array([1, 0, 1, 1, 1, 2, 1, 0]),\n",
       "  array([1, 0, 1, 1, 1, 1, 1, 1]),\n",
       "  array([1, 0, 1, 1, 0, 1, 2, 1]),\n",
       "  array([1, 0, 0, 1, 2, 2, 1, 0]),\n",
       "  array([1, 0, 0, 1, 2, 1, 1, 1]),\n",
       "  array([1, 0, 0, 1, 1, 1, 2, 1]),\n",
       "  array([1, 0, 0, 0, 1, 2, 2, 1]),\n",
       "  array([5, 2, 0, 0, 0, 0, 0, 0]),\n",
       "  array([3, 2, 2, 0, 0, 0, 0, 0]),\n",
       "  array([3, 0, 2, 2, 0, 0, 0, 0]),\n",
       "  array([3, 0, 0, 2, 2, 0, 0, 0]),\n",
       "  array([3, 0, 0, 0, 2, 2, 0, 0]),\n",
       "  array([3, 0, 0, 0, 0, 2, 2, 0]),\n",
       "  array([3, 0, 0, 0, 0, 0, 2, 2]),\n",
       "  array([5, 2, 0, 0, 0, 0, 0, 0]),\n",
       "  array([3, 2, 2, 0, 0, 0, 0, 0]),\n",
       "  array([3, 0, 2, 2, 0, 0, 0, 0]),\n",
       "  array([3, 0, 0, 2, 2, 0, 0, 0]),\n",
       "  array([3, 0, 0, 0, 2, 2, 0, 0]),\n",
       "  array([3, 0, 0, 0, 0, 2, 2, 0]),\n",
       "  array([3, 0, 0, 0, 0, 0, 2, 2]),\n",
       "  array([4, 2, 1, 0, 0, 0, 0, 0]),\n",
       "  array([4, 1, 1, 1, 0, 0, 0, 0]),\n",
       "  array([4, 1, 0, 1, 1, 0, 0, 0]),\n",
       "  array([4, 1, 0, 0, 1, 1, 0, 0]),\n",
       "  array([4, 1, 0, 0, 0, 1, 1, 0]),\n",
       "  array([4, 1, 0, 0, 0, 0, 1, 1]),\n",
       "  array([3, 1, 2, 1, 0, 0, 0, 0]),\n",
       "  array([3, 1, 1, 1, 1, 0, 0, 0]),\n",
       "  array([3, 1, 1, 0, 1, 1, 0, 0]),\n",
       "  array([3, 1, 1, 0, 0, 1, 1, 0]),\n",
       "  array([3, 1, 1, 0, 0, 0, 1, 1]),\n",
       "  array([3, 0, 1, 2, 1, 0, 0, 0]),\n",
       "  array([3, 0, 1, 1, 1, 1, 0, 0]),\n",
       "  array([3, 0, 1, 1, 0, 1, 1, 0]),\n",
       "  array([3, 0, 1, 1, 0, 0, 1, 1]),\n",
       "  array([3, 0, 0, 1, 2, 1, 0, 0]),\n",
       "  array([3, 0, 0, 1, 1, 1, 1, 0]),\n",
       "  array([3, 0, 0, 1, 1, 0, 1, 1]),\n",
       "  array([3, 0, 0, 0, 1, 2, 1, 0]),\n",
       "  array([3, 0, 0, 0, 1, 1, 1, 1]),\n",
       "  array([3, 0, 0, 0, 0, 1, 2, 1]),\n",
       "  array([4, 2, 1, 0, 0, 0, 0, 0]),\n",
       "  array([4, 1, 1, 1, 0, 0, 0, 0]),\n",
       "  array([4, 1, 0, 1, 1, 0, 0, 0]),\n",
       "  array([4, 1, 0, 0, 1, 1, 0, 0]),\n",
       "  array([4, 1, 0, 0, 0, 1, 1, 0]),\n",
       "  array([4, 1, 0, 0, 0, 0, 1, 1]),\n",
       "  array([3, 1, 2, 1, 0, 0, 0, 0]),\n",
       "  array([3, 1, 1, 1, 1, 0, 0, 0]),\n",
       "  array([3, 1, 1, 0, 1, 1, 0, 0]),\n",
       "  array([3, 1, 1, 0, 0, 1, 1, 0]),\n",
       "  array([3, 1, 1, 0, 0, 0, 1, 1]),\n",
       "  array([3, 0, 1, 2, 1, 0, 0, 0]),\n",
       "  array([3, 0, 1, 1, 1, 1, 0, 0]),\n",
       "  array([3, 0, 1, 1, 0, 1, 1, 0]),\n",
       "  array([3, 0, 1, 1, 0, 0, 1, 1]),\n",
       "  array([3, 0, 0, 1, 2, 1, 0, 0]),\n",
       "  array([3, 0, 0, 1, 1, 1, 1, 0]),\n",
       "  array([3, 0, 0, 1, 1, 0, 1, 1]),\n",
       "  array([3, 0, 0, 0, 1, 2, 1, 0]),\n",
       "  array([3, 0, 0, 0, 1, 1, 1, 1]),\n",
       "  array([3, 0, 0, 0, 0, 1, 2, 1]),\n",
       "  array([6, 1, 0, 0, 0, 0, 0, 0]),\n",
       "  array([5, 1, 1, 0, 0, 0, 0, 0]),\n",
       "  array([5, 0, 1, 1, 0, 0, 0, 0]),\n",
       "  array([5, 0, 0, 1, 1, 0, 0, 0]),\n",
       "  array([5, 0, 0, 0, 1, 1, 0, 0]),\n",
       "  array([5, 0, 0, 0, 0, 1, 1, 0]),\n",
       "  array([5, 0, 0, 0, 0, 0, 1, 1]),\n",
       "  array([6, 1, 0, 0, 0, 0, 0, 0]),\n",
       "  array([5, 1, 1, 0, 0, 0, 0, 0]),\n",
       "  array([5, 0, 1, 1, 0, 0, 0, 0]),\n",
       "  array([5, 0, 0, 1, 1, 0, 0, 0]),\n",
       "  array([5, 0, 0, 0, 1, 1, 0, 0]),\n",
       "  array([5, 0, 0, 0, 0, 1, 1, 0]),\n",
       "  array([5, 0, 0, 0, 0, 0, 1, 1]),\n",
       "  array([6, 1, 0, 0, 0, 0, 0, 0]),\n",
       "  array([5, 1, 1, 0, 0, 0, 0, 0]),\n",
       "  array([5, 0, 1, 1, 0, 0, 0, 0]),\n",
       "  array([5, 0, 0, 1, 1, 0, 0, 0]),\n",
       "  array([5, 0, 0, 0, 1, 1, 0, 0]),\n",
       "  array([5, 0, 0, 0, 0, 1, 1, 0]),\n",
       "  array([5, 0, 0, 0, 0, 0, 1, 1]),\n",
       "  array([7, 0, 0, 0, 0, 0, 0, 0]),\n",
       "  array([7, 0, 0, 0, 0, 0, 0, 0]),\n",
       "  array([7, 0, 0, 0, 0, 0, 0, 0]),\n",
       "  array([7, 0, 0, 0, 0, 0, 0, 0]),\n",
       "  array([7, 0, 0, 0, 0, 0, 0, 0]))]"
      ]
     },
     "execution_count": 489,
     "metadata": {},
     "output_type": "execute_result"
    }
   ],
   "source": [
    "n2"
   ]
  },
  {
   "cell_type": "code",
   "execution_count": 386,
   "id": "e3c62614",
   "metadata": {},
   "outputs": [],
   "source": [
    "teste = [(i,) for i in range(1, L + 1)]"
   ]
  },
  {
   "cell_type": "code",
   "execution_count": 396,
   "id": "8ae9fb08",
   "metadata": {},
   "outputs": [
    {
     "data": {
      "text/plain": [
       "(2, [30, 29])"
      ]
     },
     "execution_count": 396,
     "metadata": {},
     "output_type": "execute_result"
    }
   ],
   "source": [
    "teste[1] + ([30, 29],)"
   ]
  },
  {
   "cell_type": "code",
   "execution_count": 311,
   "id": "11bfb6c9",
   "metadata": {},
   "outputs": [
    {
     "name": "stdout",
     "output_type": "stream",
     "text": [
      "[0.01913418 0.00738982]\n"
     ]
    }
   ],
   "source": [
    "pn = [1]\n",
    "\n",
    "for px in pn:\n",
    "    pn2 = probs_n2(nnewst, L, C, m, px, lamb, k, theta)\n",
    "    print(pn2)"
   ]
  }
 ],
 "metadata": {
  "kernelspec": {
   "display_name": "Python 3 (ipykernel)",
   "language": "python",
   "name": "python3"
  },
  "language_info": {
   "codemirror_mode": {
    "name": "ipython",
    "version": 3
   },
   "file_extension": ".py",
   "mimetype": "text/x-python",
   "name": "python",
   "nbconvert_exporter": "python",
   "pygments_lexer": "ipython3",
   "version": "3.9.12"
  }
 },
 "nbformat": 4,
 "nbformat_minor": 5
}
