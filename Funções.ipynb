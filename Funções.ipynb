{
 "cells": [
  {
   "cell_type": "code",
   "execution_count": null,
   "id": "961f2bc4",
   "metadata": {},
   "outputs": [],
   "source": [
    "#!pip install numpy==1.22.*\n",
    "#!pip install queueing_tool"
   ]
  },
  {
   "cell_type": "code",
   "execution_count": 1,
   "id": "781c6063",
   "metadata": {
    "scrolled": true
   },
   "outputs": [
    {
     "name": "stderr",
     "output_type": "stream",
     "text": [
      "C:\\Users\\souza.daniel_ifood\\anaconda3\\lib\\site-packages\\geopandas\\_compat.py:112: UserWarning: The Shapely GEOS version (3.10.2-CAPI-1.16.0) is incompatible with the GEOS version PyGEOS was compiled with (3.10.4-CAPI-1.16.2). Conversions between both will be slow.\n",
      "  warnings.warn(\n"
     ]
    }
   ],
   "source": [
    "import numpy as np\n",
    "import pandas as pd\n",
    "import geopandas as gpd\n",
    "import datetime as dt\n",
    "import math\n",
    "import itertools as it\n",
    "from operator import itemgetter\n",
    "from matplotlib import pyplot as plt, dates as md\n",
    "from scipy.special import factorial\n",
    "from scipy.stats import norm, poisson, gamma, probplot, ks_2samp, kstest\n",
    "from scipy.optimize import minimize, Bounds\n",
    "from scipy.integrate import quad\n",
    "from shapely.geometry import Point, Polygon"
   ]
  },
  {
   "cell_type": "code",
   "execution_count": 2,
   "id": "41fcae7f",
   "metadata": {},
   "outputs": [],
   "source": [
    "plt.rcParams['font.family'] = 'sans'\n",
    "plt.rcParams['font.size'] = 12"
   ]
  },
  {
   "cell_type": "code",
   "execution_count": 3,
   "id": "b7181d9a",
   "metadata": {},
   "outputs": [],
   "source": [
    "def amostra_agrupada(df, grupo, tam, n_min, n_max, semente):\n",
    "    df_filtrado = df.groupby(grupo).filter(lambda x: (len(x) >= n_min) & (len(x) <= n_max))\n",
    "    amostra_df_filtrado = pd.Series(df_filtrado[grupo].unique()).sample(tam, random_state=semente)\n",
    "    \n",
    "    return df[df[grupo].isin(amostra_df_filtrado)]\n",
    "\n",
    "\n",
    "def plot_agrupado(df, grupo, x, y, agr, cols):\n",
    "    grps = df.groupby(grupo, sort=False)\n",
    "    rows = int(grps.ngroups / cols)\n",
    "    fig, axs = plt.subplots(ncols=cols, nrows=rows, figsize=(18, 4 * rows))\n",
    "\n",
    "    for (chv, grp), ax in zip(grps, axs.ravel()):\n",
    "        grp.groupby(x).agg(pedidos=(y, agr)).plot(kind='bar', legend='', xlabel='', ax=ax)\n",
    "        ax.set_title(grp[grupo].unique()[0])"
   ]
  },
  {
   "cell_type": "code",
   "execution_count": 4,
   "id": "0155ecc0",
   "metadata": {},
   "outputs": [],
   "source": [
    "def Y_t(x, T):\n",
    "    return len(T[T >= x])\n",
    "\n",
    "\n",
    "def epanechnikov(x):\n",
    "    return 3 / 4 * (1 - x ** 2) if np.abs(x) <= 1 else np.zeros(1)\n",
    "\n",
    "    \n",
    "def alfa_t(x, T, b, K=norm.pdf):\n",
    "    b = np.array([b]) if not isinstance(b, np.ndarray) else b\n",
    "    n = len(T)\n",
    "    K_t = [K((x - Ti) / b) / Y_t(Ti, T) for i, Ti in enumerate(T)]\n",
    "    return np.sum(K_t) / b\n",
    "\n",
    "\n",
    "def Lambda_t(x, T, b, K=norm.pdf):\n",
    "    return alfa_t(x, T, b, K) * Y_t(x, T)\n",
    "\n",
    "\n",
    "def A_t(x, T, b, K=norm.pdf):\n",
    "    return quad(Lambda_t, 0, x, (T, b, K))\n",
    "\n",
    "\n",
    "def A_t_parcial(xi, xj, T, b, K=norm.pdf):\n",
    "    return quad(Lambda_t, xj, xi, (T, b, K))\n",
    "\n",
    "\n",
    "def A_t_Riemann(T, b, K=norm.pdf, h=0.0001):\n",
    "    oT = np.insert(np.sort(T), 0, 0)\n",
    "    return oT[1:], h * np.cumsum([np.sum([Lambda_t(x, T, b, K) for x in np.arange(i, j, h)]) for i, j in zip(oT[:-1], oT[1:])])\n",
    "\n",
    "\n",
    "def cv_loglike(b, x, K=norm.pdf):\n",
    "    n = len(x)\n",
    "    total_loglike = 0\n",
    "    \n",
    "    for i in range(n):\n",
    "        x_sem_i = np.delete(x, i)\n",
    "        xi = x[i]\n",
    "        alfa_fxi = alfa_t(xi, x_sem_i, b, K)\n",
    "        if alfa_fxi <= 0: continue\n",
    "        total_loglike += np.log(alfa_fxi)\n",
    "        \n",
    "    return -total_loglike\n",
    "\n",
    "\n",
    "def b_otimo_cv(f, ini, params, lims):\n",
    "    return minimize(f, (ini,), params, bounds=lims)['x']"
   ]
  },
  {
   "cell_type": "markdown",
   "id": "61d1bcb0",
   "metadata": {},
   "source": [
    "### Conjunto de dados"
   ]
  },
  {
   "cell_type": "code",
   "execution_count": 5,
   "id": "39b4bef4",
   "metadata": {},
   "outputs": [],
   "source": [
    "pedidos = pd.read_csv('./Dados/Amostra_Pedidos.csv', parse_dates=['Início Preparo', 'Início Entrega', 'Término Entrega'])"
   ]
  },
  {
   "cell_type": "code",
   "execution_count": 6,
   "id": "e0c2cd67",
   "metadata": {},
   "outputs": [],
   "source": [
    "pedidos = pedidos[(pedidos['Início Preparo'] > dt.datetime(2023, 1, 10)) & (pedidos['Início Preparo'] < dt.datetime(2023, 1, 11))]"
   ]
  },
  {
   "cell_type": "code",
   "execution_count": 7,
   "id": "502c2bb6",
   "metadata": {},
   "outputs": [],
   "source": [
    "pedidos_por_estabelecimento = pedidos['Estabelecimento'].value_counts().reset_index()\n",
    "estabelecimentos_validos = pedidos_por_estabelecimento[pedidos_por_estabelecimento['Estabelecimento'] >= 10]['index'].values\n",
    "pedidos = pedidos[pedidos['Estabelecimento'].isin(estabelecimentos_validos)]"
   ]
  },
  {
   "cell_type": "code",
   "execution_count": 8,
   "id": "00224e1a",
   "metadata": {},
   "outputs": [],
   "source": [
    "rest_grande = amostra_agrupada(pedidos[pedidos['Tipo Entrega'] == 'IFOOD'], 'Estabelecimento', 1, 101, 200, 42)\n",
    "rest_grande['Tam Rest'] = '100-200 pedidos'\n",
    "rest_medio = amostra_agrupada(pedidos[pedidos['Tipo Entrega'] == 'IFOOD'], 'Estabelecimento', 1, 51, 100, 42)\n",
    "rest_medio['Tam Rest'] = '50-100 pedidos'\n",
    "rest_pequeno = amostra_agrupada(pedidos[pedidos['Tipo Entrega'] == 'IFOOD'], 'Estabelecimento', 1, 30, 50, 42)\n",
    "rest_pequeno['Tam Rest'] = '30-50 pedidos'\n",
    "amostra_rests = pd.concat([rest_pequeno, rest_medio, rest_grande])\n",
    "amostra_rests['Horário Preparo'] = amostra_rests['Início Preparo'].dt.floor('1h').dt.strftime('%H:%M')"
   ]
  },
  {
   "cell_type": "code",
   "execution_count": 9,
   "id": "a0327a92",
   "metadata": {
    "scrolled": true
   },
   "outputs": [
    {
     "data": {
      "image/png": "[encoded data removed]",
      "text/plain": [
       "<Figure size 1296x288 with 3 Axes>"
      ]
     },
     "metadata": {
      "needs_background": "light"
     },
     "output_type": "display_data"
    }
   ],
   "source": [
    "plot_agrupado(amostra_rests, 'Tam Rest', 'Horário Preparo', 'Ident. Pedido', 'count', 3)"
   ]
  },
  {
   "cell_type": "markdown",
   "id": "3f85f577",
   "metadata": {},
   "source": [
    "### Cálculos taxa de chegada"
   ]
  },
  {
   "cell_type": "code",
   "execution_count": null,
   "id": "a58991eb",
   "metadata": {},
   "outputs": [],
   "source": [
    "grps = amostra_rests.groupby('Tam Rest', sort=False)\n",
    "t0 = dt.datetime(2023, 1, 10)\n",
    "\n",
    "Nt = []\n",
    "for chv, grp in grps:\n",
    "    T = (grp['Início Preparo'] - t0).dt.total_seconds().values / 86400\n",
    "    b = b_otimo_cv(cv_loglike, 1, (T, norm.pdf), Bounds(0.0001, float('inf')))\n",
    "    alfas_t = np.array([alfa_t(t, T, b) for t in T])\n",
    "    As_t = A_t_Riemann(T, b)\n",
    "    Nt.append({\n",
    "        'Estab': chv,\n",
    "        'b': b,\n",
    "        'T': T,\n",
    "        'alfa': alfas_t,\n",
    "        'A': As_t\n",
    "    })"
   ]
  },
  {
   "cell_type": "code",
   "execution_count": null,
   "id": "029b8b45",
   "metadata": {
    "scrolled": true
   },
   "outputs": [],
   "source": [
    "fig, axs = plt.subplots(ncols=3, nrows=1, figsize=(16, 4))\n",
    "\n",
    "for N, ax in zip(Nt, axs.ravel()):\n",
    "    ax.plot(N['A'][0], N['A'][1], label='Estimado')\n",
    "    ax.plot(*list(zip(*np.array([(t, len(N['T'][N['T'] <= t])) for t in np.sort(N['T'])]))), label='Empírico')\n",
    "    ax.set_title(N['Estab'])\n",
    "    ax.legend()\n",
    "    tks = ax.get_xticks()\n",
    "    ax.set_xticklabels([(dt.datetime(2023, 1, 10) + dt.timedelta(seconds=int(t * 86400))).strftime('%H:%M') for t in tks])"
   ]
  },
  {
   "cell_type": "code",
   "execution_count": null,
   "id": "e6ace2b3",
   "metadata": {},
   "outputs": [],
   "source": [
    "for N in Nt:\n",
    "    emp = np.array([len(N['T'][N['T'] <= t]) for t in np.sort(N['T'])])\n",
    "    est = N['A'][1]\n",
    "    print(N['Estab'], round(ks_2samp(emp, est).pvalue, 4))"
   ]
  },
  {
   "cell_type": "code",
   "execution_count": null,
   "id": "949f78fb",
   "metadata": {},
   "outputs": [],
   "source": [
    "pedidos_rests = pedidos.groupby('Estabelecimento').agg(pedidos_rest=('Ident. Pedido', 'count')).reset_index()\n",
    "pedidos_rests['Tam Rest'] = pedidos_rests['pedidos_rest'].apply(lambda x: '>200' if x > 200 else '100-200' if x >= 100 else '50-100' if x >= 50 else '30-50' if x >=30 else '10-30')\n",
    "pedidos = pedidos.merge(pedidos_rests, on='Estabelecimento')"
   ]
  },
  {
   "cell_type": "code",
   "execution_count": null,
   "id": "91a85d12",
   "metadata": {},
   "outputs": [],
   "source": [
    "grps = pedidos.groupby('Estabelecimento')\n",
    "NtT = []\n",
    "for chv, grp in grps:\n",
    "    print(chv)\n",
    "    T = (grp['Início Preparo'] - t0).dt.total_seconds().values / 86400\n",
    "    b = b_otimo_cv(cv_loglike, 1, (T, epanechnikov), Bounds(0.0001, float('inf')))\n",
    "    As_t = A_t_Riemann(T, b)\n",
    "    NtT.append({'Est': chv, 'Tam': grp['Tam Rest'].unique()[0], 'T': T, 'b': b, 'A': As_t})"
   ]
  },
  {
   "cell_type": "markdown",
   "id": "a9e8d474",
   "metadata": {},
   "source": [
    "import json\n",
    "\n",
    "def conversor(x):\n",
    "    if hasattr(x, 'tolist'):\n",
    "        return x.tolist()\n",
    "    raise TypeError(x)\n",
    "    \n",
    "with open('./temp_json', 'w') as arquivo:\n",
    "    arquivo.write(json.dumps(NtT, indent=4, default=conversor))"
   ]
  },
  {
   "cell_type": "code",
   "execution_count": null,
   "id": "4f7fd930",
   "metadata": {},
   "outputs": [],
   "source": [
    "with open('./temp_json') as arquivo:\n",
    "    NtT_json = np.array(json.loads(arquivo.read()))"
   ]
  },
  {
   "cell_type": "code",
   "execution_count": null,
   "id": "83288fff",
   "metadata": {},
   "outputs": [],
   "source": [
    "pvalues = []\n",
    "for N in NtT:\n",
    "    emp = np.array([len(N['T'][N['T'] <= t]) for t in np.sort(N['T'])])\n",
    "    est = N['A'][1]\n",
    "    pvalues.append({'Tam': N['Tam'], 'pvalue': ks_2samp(emp, est).pvalue})"
   ]
  },
  {
   "cell_type": "code",
   "execution_count": null,
   "id": "ea6a7fab",
   "metadata": {},
   "outputs": [],
   "source": [
    "df_pvalues = pd.DataFrame(pvalues)\n",
    "df_pvalues['c'] = 'c'"
   ]
  },
  {
   "cell_type": "code",
   "execution_count": null,
   "id": "ba7c8667",
   "metadata": {
    "scrolled": true
   },
   "outputs": [],
   "source": [
    "df_pvalues.groupby('Tam').apply(lambda x: round((x.pvalue > 0.05).sum() / x.pvalue.count(), 4))"
   ]
  },
  {
   "cell_type": "code",
   "execution_count": null,
   "id": "72a22fa9",
   "metadata": {},
   "outputs": [],
   "source": [
    "def distancia(lat1, lon1, lat2, lon2):\n",
    "    return math.acos(\n",
    "        math.sin(math.radians(lat1)) * math.sin(math.radians(lat2)) + \n",
    "        math.cos(math.radians(lat1)) * math.cos(math.radians(lat2)) * math.cos(math.radians(lon1) - math.radians(lon2))\n",
    "    ) * 6371."
   ]
  },
  {
   "cell_type": "markdown",
   "id": "836a5f83",
   "metadata": {},
   "source": [
    "### Cálculo Tempos de Serviço"
   ]
  },
  {
   "cell_type": "code",
   "execution_count": null,
   "id": "8b3457c3",
   "metadata": {},
   "outputs": [],
   "source": [
    "pedidos['Distancia'] = pedidos.apply(lambda x: distancia(x['Lat Cliente'], x['Lon Cliente'], x['Lat Estab.'], x['Lon Estab.']), axis=1)"
   ]
  },
  {
   "cell_type": "code",
   "execution_count": null,
   "id": "b89c1c62",
   "metadata": {},
   "outputs": [],
   "source": [
    "def t0(d0, v0):\n",
    "    return d0 / v0"
   ]
  },
  {
   "cell_type": "code",
   "execution_count": null,
   "id": "93182b95",
   "metadata": {},
   "outputs": [],
   "source": [
    "pdd_terc = pedidos[pedidos['Tipo Entrega'] == 'MERCHANT']"
   ]
  },
  {
   "cell_type": "code",
   "execution_count": null,
   "id": "f9dc0f6c",
   "metadata": {},
   "outputs": [],
   "source": [
    "pdd_terc['TP'] = 3\n",
    "pdd_terc['Ttau'] = pdd_terc['Distancia'] / 25 * 60\n",
    "pdd_terc['TC'] = pdd_terc['Ttau'] + pdd_terc['TP']\n",
    "pdd_terc['d_TC'] = pdd_terc['TC'].apply(lambda x: math.floor(x)) + 1"
   ]
  },
  {
   "cell_type": "code",
   "execution_count": null,
   "id": "9264e41a",
   "metadata": {},
   "outputs": [],
   "source": [
    "pdd_prim = pedidos[pedidos['Tipo Entrega'] == 'IFOOD']"
   ]
  },
  {
   "cell_type": "code",
   "execution_count": null,
   "id": "719f6337",
   "metadata": {},
   "outputs": [],
   "source": [
    "pdd_prim['TC'] = pdd_prim.apply(lambda x: (x['Término Entrega'] - x['Início Entrega']).total_seconds()  / 60, axis=1)\n",
    "pdd_prim['d_TC'] = pdd_prim.apply(lambda x: math.floor(x['TC']) + 1, axis=1)"
   ]
  },
  {
   "cell_type": "code",
   "execution_count": null,
   "id": "bddebdc6",
   "metadata": {},
   "outputs": [],
   "source": [
    "rests_cross = amostra_rests[['Tam Rest', 'Estabelecimento', 'Lat Estab.', 'Lon Estab.']].drop_duplicates().merge(pdd_prim[['Estabelecimento', 'Lat Estab.', 'Lon Estab.']].drop_duplicates(), how='cross')\n",
    "rests_cross = rests_cross[rests_cross['Estabelecimento_x'] != rests_cross['Estabelecimento_y']]\n",
    "rests_cross['distancia_rests'] = rests_cross.apply(lambda x: distancia(x['Lat Estab._x'], x['Lon Estab._x'], x['Lat Estab._y'], x['Lon Estab._y']), axis=1)\n",
    "rests_proximos = rests_cross[rests_cross['distancia_rests'] <= 2]"
   ]
  },
  {
   "cell_type": "code",
   "execution_count": null,
   "id": "f354ba70",
   "metadata": {
    "scrolled": true
   },
   "outputs": [],
   "source": [
    "fig, axs = plt.subplots(nrows=1, ncols=3, figsize=(16, 4))\n",
    "grp_estabs_prox = rests_proximos.groupby('Tam Rest', sort=False)\n",
    "\n",
    "for (chv, grp), ax in zip(grp_estabs_prox, axs.ravel()):\n",
    "    pdds_proximos = grp.merge(pdd_prim, left_on='Estabelecimento_y', right_on='Estabelecimento')\n",
    "    a, l, b = gamma.fit(pdds_proximos['TC'].values, floc=0)\n",
    "    ax.hist(pdds_proximos['TC'].values, bins=20, density=True)\n",
    "    x = np.linspace(*pdds_proximos['TC'].agg(['min', 'max']), 100)\n",
    "    ax.plot(x, gamma.pdf(x, a, loc=0, scale=b))\n",
    "    ax.set_title('{0}\\nK: {1}, θ: {2}'.format(chv, round(a, 2), round(b, 2)))"
   ]
  },
  {
   "cell_type": "code",
   "execution_count": null,
   "id": "7bc83993",
   "metadata": {
    "scrolled": true
   },
   "outputs": [],
   "source": [
    "fig, axs = plt.subplots(nrows=1, ncols=3, figsize=(16, 4))\n",
    "grp_estabs_prox = rests_proximos.groupby('Tam Rest', sort=False)\n",
    "\n",
    "for (chv, grp), ax in zip(grp_estabs_prox, axs.ravel()):\n",
    "    pdds_proximos = grp.merge(pdd_prim, left_on='Estabelecimento_y', right_on='Estabelecimento')\n",
    "    a, l, b = gamma.fit(pdds_proximos['TC'].values, floc=0)\n",
    "    probplot(pdds_proximos['TC'].values, (a, 0, b), 'gamma', fit=True, plot=ax)\n",
    "    ax.set_title(chv)\n",
    "    ax.set_title('{0}\\np-value: {1}'.format(chv, round(kstest(pdds_proximos['TC'].values, 'gamma', (a, l, b)).pvalue, 4)))"
   ]
  },
  {
   "cell_type": "code",
   "execution_count": null,
   "id": "ad55e5b7",
   "metadata": {},
   "outputs": [],
   "source": [
    "fig, axs = plt.subplots(nrows=1, ncols=3, figsize=(16, 4))\n",
    "grp_estabs_prox = rests_proximos.groupby('Tam Rest', sort=False)\n",
    "\n",
    "for (chv, grp), ax in zip(grp_estabs_prox, axs.ravel()):\n",
    "    pdds_proximos = grp.merge(pdd_prim, left_on='Estabelecimento_y', right_on='Estabelecimento')\n",
    "    a, _, b = gamma.fit(pdds_proximos['TC'].values, floc=0)\n",
    "    pdds_proximos['TC'] = pdds_proximos['Distancia'] / 10 * 60 + 3\n",
    "    ax.hist(pdds_proximos['TC'].values, bins=20, density=True)\n",
    "    \n",
    "    x = np.linspace(*pdds_proximos['TC'].agg(['min', 'max']), 100)\n",
    "    ax.plot(x, gamma.pdf(x, a, loc=0, scale=b))\n",
    "    ax.set_title('{0}'.format(chv))"
   ]
  },
  {
   "cell_type": "markdown",
   "id": "56a031e6",
   "metadata": {},
   "source": [
    "### Cálculo L"
   ]
  },
  {
   "cell_type": "code",
   "execution_count": null,
   "id": "a5bb81c6",
   "metadata": {},
   "outputs": [],
   "source": [
    "amostra_rests['Distancia'] = amostra_rests.apply(lambda x: distancia(x['Lat Cliente'], x['Lon Cliente'], x['Lat Estab.'], x['Lon Estab.']), axis=1)"
   ]
  },
  {
   "cell_type": "code",
   "execution_count": null,
   "id": "efcd3b9b",
   "metadata": {},
   "outputs": [],
   "source": [
    "max_dists_amostra = amostra_rests.groupby(['Tam Rest', 'Estabelecimento', 'Lat Estab.', 'Lon Estab.'], sort=False).agg(max_dist=('Distancia', 'max')).reset_index()"
   ]
  },
  {
   "cell_type": "code",
   "execution_count": null,
   "id": "94995030",
   "metadata": {},
   "outputs": [],
   "source": [
    "max_dists_amostra['max_dist'] = max_dists_amostra['max_dist'].apply(lambda x: math.ceil(x))"
   ]
  },
  {
   "cell_type": "code",
   "execution_count": null,
   "id": "97c0ca53",
   "metadata": {},
   "outputs": [],
   "source": [
    "fortaleza = gpd.read_file('Dados_ini/Densidade_Populacional_por_Bairros.zip')"
   ]
  },
  {
   "cell_type": "code",
   "execution_count": null,
   "id": "2123d2c3",
   "metadata": {},
   "outputs": [],
   "source": [
    "def arred_baixo(num, dec):\n",
    "    return math.floor(num * 10 ** dec) / 10 ** dec"
   ]
  },
  {
   "cell_type": "code",
   "execution_count": null,
   "id": "a2559caf",
   "metadata": {},
   "outputs": [],
   "source": [
    "def fazer_grade(x_min, y_min, x_max, y_max, p):\n",
    "    return [(round(x, 3), round(y, 3)) for x in np.arange(x_min - p, x_max + p, p) for y in np.arange(y_min - p, y_max + p, p)]"
   ]
  },
  {
   "cell_type": "code",
   "execution_count": null,
   "id": "3cede7e2",
   "metadata": {},
   "outputs": [],
   "source": [
    "x_min, y_min, x_max, y_max = (arred_baixo(b, 3) for b in fortaleza.geometry.unary_union.bounds)"
   ]
  },
  {
   "cell_type": "code",
   "execution_count": null,
   "id": "d21aa989",
   "metadata": {},
   "outputs": [],
   "source": [
    "grade_completa = fazer_grade(x_min, y_min, x_max, y_max, 0.001)"
   ]
  },
  {
   "cell_type": "code",
   "execution_count": null,
   "id": "f89f11a2",
   "metadata": {},
   "outputs": [],
   "source": [
    "plt.scatter(*list(zip(*grade_completa)))"
   ]
  },
  {
   "cell_type": "code",
   "execution_count": null,
   "id": "81c3874c",
   "metadata": {},
   "outputs": [],
   "source": [
    "df_grade_completa = pd.DataFrame(grade_completa, columns=['lon', 'lat'])"
   ]
  },
  {
   "cell_type": "code",
   "execution_count": null,
   "id": "a2b82d4c",
   "metadata": {},
   "outputs": [],
   "source": [
    "raio_entrega_amostra = max_dists_amostra.merge(df_grade_completa, how='cross')"
   ]
  },
  {
   "cell_type": "code",
   "execution_count": null,
   "id": "5022c57f",
   "metadata": {},
   "outputs": [],
   "source": [
    "raio_entrega_amostra['Distancia'] = raio_entrega_amostra.apply(lambda x: distancia(x['lat'], x['lon'], x['Lat Estab.'], x['Lon Estab.']), axis=1)"
   ]
  },
  {
   "cell_type": "code",
   "execution_count": null,
   "id": "a56c4a33",
   "metadata": {},
   "outputs": [],
   "source": [
    "raio_entrega_amostra = raio_entrega_amostra[raio_entrega_amostra['Distancia'] <= raio_entrega_amostra['max_dist']]"
   ]
  },
  {
   "cell_type": "code",
   "execution_count": null,
   "id": "4a82f462",
   "metadata": {
    "scrolled": true
   },
   "outputs": [],
   "source": [
    "raio_entrega_amostra = gpd.GeoDataFrame(raio_entrega_amostra, geometry=gpd.points_from_xy(raio_entrega_amostra['lon'], raio_entrega_amostra['lat']))"
   ]
  },
  {
   "cell_type": "code",
   "execution_count": null,
   "id": "e77bc5bd",
   "metadata": {},
   "outputs": [],
   "source": [
    "fig, axs = plt.subplots(nrows=1, ncols=3, figsize=(16, 4))\n",
    "grp_raios_entrega = raio_entrega_amostra.groupby('Tam Rest', sort=False)\n",
    "\n",
    "for (chv, grp), ax in zip(grp_raios_entrega, axs.ravel()):\n",
    "    fortaleza.dissolve().plot(color='lightblue', label='Cidade', ax=ax)\n",
    "    gpd.sjoin(grp, fortaleza.dissolve(), 'inner', 'within').plot(color='blue', label='Raio', ax=ax)\n",
    "    ax.scatter(grp['Lon Estab.'], grp['Lat Estab.'], color='red', label='Estab.')\n",
    "    ax.legend(loc=1)\n",
    "    ax.set_title('{0}\\nL={1}'.format(chv, len(grp)))"
   ]
  },
  {
   "cell_type": "markdown",
   "id": "968ff08b",
   "metadata": {},
   "source": [
    "### Simulação de fila"
   ]
  },
  {
   "cell_type": "code",
   "execution_count": null,
   "id": "7561c4a2",
   "metadata": {},
   "outputs": [],
   "source": [
    "def estim_b(df, t0, chv, uid, ini):\n",
    "    df = df[df[chv] == uid]\n",
    "    T = (df[ini] - t0).dt.total_seconds().values / 86400\n",
    "    b = b_otimo_cv(cv_loglike, 1, (T, norm.pdf), Bounds(0.0001, float('inf')))\n",
    "    return b"
   ]
  },
  {
   "cell_type": "code",
   "execution_count": null,
   "id": "17885def",
   "metadata": {},
   "outputs": [],
   "source": [
    "def estim_lambda(df, chv, uid, ini, t0, t, b, K=norm.pdf):\n",
    "    df = df[df[chv] == uid]\n",
    "    t_dec = (t - t0).total_seconds() / 86400\n",
    "    T = (df[ini] - t0).dt.total_seconds().values / 86400\n",
    "    a = alfa_t(t_dec, T, b, K)\n",
    "    return a"
   ]
  },
  {
   "cell_type": "code",
   "execution_count": null,
   "id": "69bb1810",
   "metadata": {},
   "outputs": [],
   "source": [
    "def simula_entradas_fila(lamb, n):\n",
    "    return poisson.rvs(lamb, size=n)"
   ]
  },
  {
   "cell_type": "code",
   "execution_count": 10,
   "id": "b4761c95",
   "metadata": {},
   "outputs": [],
   "source": [
    "def V(x, lamb):\n",
    "    return poisson.pmf(x, lamb)"
   ]
  },
  {
   "cell_type": "code",
   "execution_count": null,
   "id": "c8ff5ea7",
   "metadata": {},
   "outputs": [],
   "source": [
    "def estim_params_tempo_servico(df, chv, uid, tp, adm, lat, lon, ini, fim, max_dist):\n",
    "    df_estab = df[df[chv] == uid][[chv, lat, lon]].drop_duplicates()\n",
    "    df_prox = df_estab.merge(df[df[tp] == adm], how='cross')\n",
    "    df_prox['d'] = df_prox.apply(lambda x: distancia(x[lat+'_x'], x[lon+'_x'], x[lat+'_y'], x[lon+'_y']), axis=1)\n",
    "    df_prox = df_prox[(df_prox['d'] <= max_dist) & (df_prox[chv+'_x'] != df_prox[chv+'_y'])]\n",
    "    df_prox['TC'] = df_prox.apply(lambda x: (x[fim] - x[ini]).total_seconds() / 60, axis=1)\n",
    "    k, l, theta = gamma.fit(df_prox['TC'].values, floc=0)\n",
    "    return k, theta"
   ]
  },
  {
   "cell_type": "code",
   "execution_count": null,
   "id": "2208ff0e",
   "metadata": {},
   "outputs": [],
   "source": [
    "def simula_tempo_servico_discreto(n, k, theta):\n",
    "    return math.ceil(gamma.rvs(k, loc=0, scale=theta, size=n)[0])"
   ]
  },
  {
   "cell_type": "code",
   "execution_count": 11,
   "id": "85861074",
   "metadata": {},
   "outputs": [],
   "source": [
    "def S(x, k, theta):\n",
    "    return gamma.cdf(x, k, loc=0, scale=theta) - gamma.cdf(x - 1, k, loc=0, scale=theta)"
   ]
  },
  {
   "cell_type": "code",
   "execution_count": 366,
   "id": "19f7d9a2",
   "metadata": {},
   "outputs": [],
   "source": [
    "def estim_k_theta_ts(df, col_ts, delta_t):\n",
    "    k, l, theta = gamma.fit(df[col_ts].values / delta_t, floc=0)\n",
    "    return k, theta"
   ]
  },
  {
   "cell_type": "code",
   "execution_count": 13,
   "id": "faaa0bda",
   "metadata": {},
   "outputs": [],
   "source": [
    "def params_espaco_estado(df, lat1, lat2, lon1, lon2, ini, fim, delta_t):\n",
    "    df['TC'] = df.apply(lambda x: (x[fim] - x[ini]).total_seconds() / 60, axis=1)\n",
    "    df['d_TC'] = df.apply(lambda x: math.floor(x['TC'] / delta_t) + 1, axis=1)\n",
    "    m = amostra_rests['d_TC'].max() + 1\n",
    "    L = amostra_rests[ini].dt.floor('{}min'.format(delta_t)).value_counts()[0] * m\n",
    "    \n",
    "    return L, m, df"
   ]
  },
  {
   "cell_type": "code",
   "execution_count": 14,
   "id": "59d48607",
   "metadata": {},
   "outputs": [],
   "source": [
    "L, m, df_fila = params_espaco_estado(amostra_rests, 'Lat Cliente', 'Lat Estab.', 'Lon Cliente', 'Lon Estab.', 'Início Entrega', 'Término Entrega', 5)"
   ]
  },
  {
   "cell_type": "code",
   "execution_count": 15,
   "id": "69b578c4",
   "metadata": {},
   "outputs": [
    {
     "data": {
      "text/plain": [
       "array([534326, 203669, 688224], dtype=int64)"
      ]
     },
     "execution_count": 15,
     "metadata": {},
     "output_type": "execute_result"
    }
   ],
   "source": [
    "df_fila['Estabelecimento'].unique()"
   ]
  },
  {
   "cell_type": "code",
   "execution_count": 16,
   "id": "83bdd91c",
   "metadata": {},
   "outputs": [],
   "source": [
    "teste = df_fila[df_fila['Estabelecimento'] == 688224]"
   ]
  },
  {
   "cell_type": "code",
   "execution_count": 17,
   "id": "c72e7a15",
   "metadata": {},
   "outputs": [],
   "source": [
    "t0 = dt.datetime(2023, 1, 10)\n",
    "T = (teste['Início Preparo'] - t0).dt.total_seconds().values / 86400\n",
    "b = b_otimo_cv(cv_loglike, 1, (T, norm.pdf), Bounds(0.0001, float('inf')))\n",
    "alfas_t = np.array([alfa_t(t, T, b) for t in T])"
   ]
  },
  {
   "cell_type": "code",
   "execution_count": 18,
   "id": "e8f39699",
   "metadata": {},
   "outputs": [],
   "source": [
    "pri_pdd, ult_pdd = teste['Início Entrega'].min() - dt.timedelta(minutes=5), teste['Início Entrega'].max() + dt.timedelta(minutes=5)"
   ]
  },
  {
   "cell_type": "code",
   "execution_count": 19,
   "id": "626dd327",
   "metadata": {},
   "outputs": [],
   "source": [
    "T_fila = [(t0 + dt.timedelta(minutes=m * 5) - t0).total_seconds() / 86400 for m in np.arange(1440 / 5)]"
   ]
  },
  {
   "cell_type": "code",
   "execution_count": 273,
   "id": "0f943759",
   "metadata": {},
   "outputs": [
    {
     "data": {
      "text/plain": [
       "array([[1.64758673e+02],\n",
       "       [1.79898372e+02],\n",
       "       [1.90067853e+02],\n",
       "       [2.00908550e+02],\n",
       "       [2.11038420e+02],\n",
       "       [2.16922387e+02],\n",
       "       [2.18388162e+02],\n",
       "       [2.21114383e+02],\n",
       "       [2.19753201e+02],\n",
       "       [2.16403602e+02],\n",
       "       [2.13162352e+02],\n",
       "       [2.06555606e+02],\n",
       "       [1.96915992e+02],\n",
       "       [1.89638550e+02],\n",
       "       [1.79623311e+02],\n",
       "       [1.70233931e+02],\n",
       "       [1.59858086e+02],\n",
       "       [1.48576829e+02],\n",
       "       [1.34068204e+02],\n",
       "       [1.19387190e+02],\n",
       "       [1.06749400e+02],\n",
       "       [9.39718080e+01],\n",
       "       [8.13393360e+01],\n",
       "       [6.91451433e+01],\n",
       "       [5.76653881e+01],\n",
       "       [4.71352341e+01],\n",
       "       [3.77300177e+01],\n",
       "       [2.95542742e+01],\n",
       "       [2.26396632e+01],\n",
       "       [1.69511614e+01],\n",
       "       [1.23995744e+01],\n",
       "       [8.85768124e+00],\n",
       "       [6.17722538e+00],\n",
       "       [4.20439475e+00],\n",
       "       [2.79219477e+00],\n",
       "       [1.80897192e+00],\n",
       "       [1.14310787e+00],\n",
       "       [7.04447756e-01],\n",
       "       [4.23314557e-01],\n",
       "       [2.48019197e-01],\n",
       "       [1.41669646e-01],\n",
       "       [7.88869734e-02],\n",
       "       [4.28196577e-02],\n",
       "       [2.26551566e-02],\n",
       "       [1.16830698e-02],\n",
       "       [5.87213293e-03],\n",
       "       [2.87653231e-03],\n",
       "       [1.37329764e-03],\n",
       "       [6.38956766e-04],\n",
       "       [2.89721361e-04],\n",
       "       [1.28021805e-04],\n",
       "       [5.51283507e-05],\n",
       "       [2.31338464e-05],\n",
       "       [9.46013768e-06],\n",
       "       [3.76981011e-06],\n",
       "       [1.46389569e-06],\n",
       "       [5.53944378e-07],\n",
       "       [2.04260654e-07],\n",
       "       [7.33944709e-08],\n",
       "       [2.56980331e-08],\n",
       "       [8.76783700e-09],\n",
       "       [2.91500602e-09],\n",
       "       [9.44364000e-10],\n",
       "       [2.98120003e-10],\n",
       "       [9.17050902e-11],\n",
       "       [2.74881457e-11],\n",
       "       [8.02872091e-12],\n",
       "       [2.28505533e-12],\n",
       "       [6.33746685e-13],\n",
       "       [1.71400761e-13],\n",
       "       [4.57087714e-14],\n",
       "       [1.40356855e-14],\n",
       "       [1.25326213e-14],\n",
       "       [3.74374839e-14],\n",
       "       [1.36558014e-13],\n",
       "       [4.93506263e-13],\n",
       "       [1.73970811e-12],\n",
       "       [5.97629064e-12],\n",
       "       [2.00046384e-11],\n",
       "       [6.52486608e-11],\n",
       "       [2.07373999e-10],\n",
       "       [6.42212598e-10],\n",
       "       [1.93796167e-09],\n",
       "       [5.69840646e-09],\n",
       "       [1.63268947e-08],\n",
       "       [4.55822486e-08],\n",
       "       [1.24002363e-07],\n",
       "       [3.28705025e-07],\n",
       "       [8.49033871e-07],\n",
       "       [2.13690960e-06],\n",
       "       [5.24070799e-06],\n",
       "       [1.25238175e-05],\n",
       "       [2.91626392e-05],\n",
       "       [6.61699355e-05],\n",
       "       [1.46298206e-04],\n",
       "       [3.15182783e-04],\n",
       "       [6.61655894e-04],\n",
       "       [1.35347247e-03],\n",
       "       [2.69783837e-03],\n",
       "       [5.24003160e-03],\n",
       "       [9.91759218e-03],\n",
       "       [1.82909675e-02],\n",
       "       [3.28722962e-02],\n",
       "       [5.75695194e-02],\n",
       "       [9.82499856e-02],\n",
       "       [1.63403087e-01],\n",
       "       [2.64843646e-01],\n",
       "       [4.18348417e-01],\n",
       "       [6.44063924e-01],\n",
       "       [9.66477890e-01],\n",
       "       [1.41372741e+00],\n",
       "       [2.01604590e+00],\n",
       "       [2.80324577e+00],\n",
       "       [3.80130021e+00],\n",
       "       [5.02831316e+00],\n",
       "       [6.49041105e+00],\n",
       "       [8.17829514e+00],\n",
       "       [1.00652844e+01],\n",
       "       [1.21075936e+01],\n",
       "       [1.42472978e+01],\n",
       "       [1.64179545e+01],\n",
       "       [1.85522705e+01],\n",
       "       [2.05906500e+01],\n",
       "       [2.24890948e+01],\n",
       "       [2.42248777e+01],\n",
       "       [2.55598672e+01],\n",
       "       [2.69809138e+01],\n",
       "       [2.83017904e+01],\n",
       "       [2.95684473e+01],\n",
       "       [3.08260029e+01],\n",
       "       [3.21114846e+01],\n",
       "       [3.34499263e+01],\n",
       "       [3.48551033e+01],\n",
       "       [3.63352467e+01],\n",
       "       [3.79030419e+01],\n",
       "       [3.92182801e+01],\n",
       "       [4.10633181e+01],\n",
       "       [4.31833463e+01],\n",
       "       [4.57234662e+01],\n",
       "       [4.88728329e+01],\n",
       "       [5.28545641e+01],\n",
       "       [5.73606232e+01],\n",
       "       [6.36505629e+01],\n",
       "       [7.14077164e+01],\n",
       "       [8.07382109e+01],\n",
       "       [9.16423073e+01],\n",
       "       [1.03992353e+02],\n",
       "       [1.17523249e+02],\n",
       "       [1.31838664e+02],\n",
       "       [1.45039487e+02],\n",
       "       [1.59204472e+02],\n",
       "       [1.72489083e+02],\n",
       "       [1.80792741e+02],\n",
       "       [1.88673991e+02],\n",
       "       [1.94193431e+02],\n",
       "       [1.97222096e+02],\n",
       "       [1.95760585e+02],\n",
       "       [1.93987174e+02],\n",
       "       [1.92145420e+02],\n",
       "       [1.86479248e+02],\n",
       "       [1.81220215e+02],\n",
       "       [1.74613196e+02],\n",
       "       [1.65132097e+02],\n",
       "       [1.56594810e+02],\n",
       "       [1.45799715e+02],\n",
       "       [1.34733560e+02],\n",
       "       [1.23640298e+02],\n",
       "       [1.12785398e+02],\n",
       "       [1.03604415e+02],\n",
       "       [9.50461731e+01],\n",
       "       [8.74163690e+01],\n",
       "       [8.09929619e+01],\n",
       "       [7.60003491e+01],\n",
       "       [7.25886429e+01],\n",
       "       [7.08216394e+01],\n",
       "       [7.06749061e+01],\n",
       "       [7.20431144e+01],\n",
       "       [7.47539095e+01],\n",
       "       [7.77115043e+01],\n",
       "       [8.23532827e+01],\n",
       "       [8.65897597e+01],\n",
       "       [9.20398395e+01],\n",
       "       [9.74876751e+01],\n",
       "       [1.02640223e+02],\n",
       "       [1.07207255e+02],\n",
       "       [1.09649718e+02],\n",
       "       [1.12204935e+02],\n",
       "       [1.12141134e+02],\n",
       "       [1.10618708e+02],\n",
       "       [1.08902133e+02],\n",
       "       [1.05710087e+02],\n",
       "       [9.87811349e+01],\n",
       "       [9.32204039e+01],\n",
       "       [8.57752314e+01],\n",
       "       [7.89531224e+01],\n",
       "       [7.19811265e+01],\n",
       "       [6.52007764e+01],\n",
       "       [5.89172130e+01],\n",
       "       [5.33783283e+01],\n",
       "       [4.87635259e+01],\n",
       "       [4.51830716e+01],\n",
       "       [4.26871115e+01],\n",
       "       [4.12818207e+01],\n",
       "       [4.09490950e+01],\n",
       "       [4.11578028e+01],\n",
       "       [4.28905376e+01],\n",
       "       [4.56559613e+01],\n",
       "       [4.94849646e+01],\n",
       "       [5.44277158e+01],\n",
       "       [6.05455474e+01],\n",
       "       [6.79007611e+01],\n",
       "       [7.65469885e+01],\n",
       "       [8.54541912e+01],\n",
       "       [9.66389758e+01],\n",
       "       [1.09160180e+02],\n",
       "       [1.23011121e+02],\n",
       "       [1.38181447e+02],\n",
       "       [1.52729512e+02],\n",
       "       [1.68139200e+02],\n",
       "       [1.84356265e+02],\n",
       "       [2.03964255e+02],\n",
       "       [2.21844002e+02],\n",
       "       [2.43458055e+02],\n",
       "       [2.62505062e+02],\n",
       "       [2.81648415e+02],\n",
       "       [3.00576314e+02],\n",
       "       [3.23369627e+02],\n",
       "       [3.41121771e+02],\n",
       "       [3.52584822e+02],\n",
       "       [3.72612107e+02],\n",
       "       [3.74752660e+02],\n",
       "       [3.80033643e+02],\n",
       "       [3.83277158e+02],\n",
       "       [3.84728675e+02],\n",
       "       [3.84697224e+02],\n",
       "       [3.96968849e+02],\n",
       "       [4.09225930e+02],\n",
       "       [4.21747454e+02],\n",
       "       [3.97920685e+02],\n",
       "       [4.02837474e+02],\n",
       "       [4.07941073e+02],\n",
       "       [4.21284505e+02],\n",
       "       [4.35168911e+02],\n",
       "       [4.14833107e+02],\n",
       "       [4.01271049e+02],\n",
       "       [4.13331326e+02],\n",
       "       [4.15195002e+02],\n",
       "       [4.24955712e+02],\n",
       "       [3.93454594e+02],\n",
       "       [3.88271530e+02],\n",
       "       [3.90027631e+02],\n",
       "       [3.78397870e+02],\n",
       "       [3.53413332e+02],\n",
       "       [3.35079963e+02],\n",
       "       [2.95369555e+02],\n",
       "       [2.55120384e+02],\n",
       "       [2.32212380e+02],\n",
       "       [2.09108324e+02],\n",
       "       [1.93969180e+02],\n",
       "       [1.79483995e+02],\n",
       "       [1.60500552e+02],\n",
       "       [1.50731289e+02],\n",
       "       [1.44395406e+02],\n",
       "       [1.42231345e+02],\n",
       "       [1.44830247e+02],\n",
       "       [1.52641947e+02],\n",
       "       [1.66005280e+02],\n",
       "       [1.85198601e+02],\n",
       "       [2.10503031e+02],\n",
       "       [2.42267860e+02],\n",
       "       [2.59352257e+02],\n",
       "       [2.89461416e+02],\n",
       "       [3.23050090e+02],\n",
       "       [3.59832320e+02],\n",
       "       [4.19318443e+02],\n",
       "       [4.64052260e+02],\n",
       "       [5.09997601e+02],\n",
       "       [5.24601607e+02],\n",
       "       [5.63019435e+02],\n",
       "       [5.95828055e+02],\n",
       "       [5.75924274e+02],\n",
       "       [6.33478984e+02],\n",
       "       [5.80494574e+02],\n",
       "       [5.61856259e+02],\n",
       "       [4.69864334e+02],\n",
       "       [3.61277827e+02],\n",
       "       [3.02414664e+02],\n",
       "       [1.78435485e+02]])"
      ]
     },
     "execution_count": 273,
     "metadata": {},
     "output_type": "execute_result"
    }
   ],
   "source": [
    "Lambda_t_fila"
   ]
  },
  {
   "cell_type": "code",
   "execution_count": 272,
   "id": "b0184228",
   "metadata": {},
   "outputs": [],
   "source": [
    "Lambda_t_fila = np.array([Lambda_t(t, T, b) for t in T_fila])"
   ]
  },
  {
   "cell_type": "code",
   "execution_count": 20,
   "id": "ccf3d13a",
   "metadata": {
    "scrolled": false
   },
   "outputs": [
    {
     "name": "stderr",
     "output_type": "stream",
     "text": [
      "C:\\Users\\souza.daniel_ifood\\AppData\\Local\\Temp\\ipykernel_1012\\543021061.py:25: IntegrationWarning: The maximum number of subdivisions (50) has been achieved.\n",
      "  If increasing the limit yields no improvement it is advised to analyze \n",
      "  the integrand in order to determine the difficulties.  If the position of a \n",
      "  local difficulty can be determined (singularity, discontinuity) one will \n",
      "  probably gain from splitting up the interval and calling the integrator \n",
      "  on the subranges.  Perhaps a special-purpose integrator should be used.\n",
      "  return quad(Lambda_t, xj, xi, (T, b, K))\n"
     ]
    }
   ],
   "source": [
    "A_t_parc = np.array([A_t_parcial(i, j, T, b) for i, j in zip(T_fila[1:], T_fila[:-1])])"
   ]
  },
  {
   "cell_type": "code",
   "execution_count": null,
   "id": "5bc5baf3",
   "metadata": {},
   "outputs": [],
   "source": [
    "#escalas\n",
    "entrada_1, saida_1 = dt.datetime(2023, 1, 10, 7), dt.datetime(2023, 1, 10, 16)\n",
    "entrada_2, saida_2 = dt.datetime(2023, 1, 10, 12), dt.datetime(2023, 1, 10, 21)\n",
    "entrada_3, saida_3 = dt.datetime(2023, 1, 10, 8), dt.datetime(2023, 1, 10, 14)\n",
    "entrada_4, saida_4 = dt.datetime(2023, 1, 10, 16), dt.datetime(2023, 1, 10, 20)"
   ]
  },
  {
   "cell_type": "code",
   "execution_count": null,
   "id": "8e354640",
   "metadata": {},
   "outputs": [],
   "source": [
    "escala_1 = [1 if entrada_1 <= t0 + dt.timedelta(seconds=t * 86400) <= saida_1 else 0 for t in T_fila]\n",
    "escala_2 = [1 if entrada_2 <= t0 + dt.timedelta(seconds=t * 86400) <= saida_2 else 0 for t in T_fila]\n",
    "escala_3 = [1 if entrada_3 <= t0 + dt.timedelta(seconds=t * 86400) <= saida_3 else 0 for t in T_fila]\n",
    "escala_4 = [1 if entrada_4 <= t0 + dt.timedelta(seconds=t * 86400) <= saida_4 else 0 for t in T_fila]"
   ]
  },
  {
   "cell_type": "code",
   "execution_count": null,
   "id": "4614a75c",
   "metadata": {},
   "outputs": [],
   "source": [
    "vetor_C = [sum(x) for x in zip(\n",
    "    escala_1\n",
    "    ,escala_2 \n",
    "    ,escala_3\n",
    "    ,escala_4\n",
    ")]"
   ]
  },
  {
   "cell_type": "code",
   "execution_count": null,
   "id": "ef017d17",
   "metadata": {},
   "outputs": [],
   "source": [
    "teste['Hora Entrega'] = teste['Início Entrega'].dt.floor('5min')\n",
    "horas, chegadas = teste['Hora Entrega'].value_counts().reset_index().items()\n",
    "\n",
    "fig, ax = plt.subplots(figsize=(20, 5))\n",
    "\n",
    "ax.bar(horas[1], chegadas[1], label='Real')\n",
    "ax.plot(horas[1], A_t_parc[:,0], label='Estimado', color='orange')\n",
    "\n",
    "plt.legend()\n",
    "plt.show()"
   ]
  },
  {
   "cell_type": "code",
   "execution_count": 367,
   "id": "d9aa9d99",
   "metadata": {},
   "outputs": [],
   "source": [
    "k, theta = estim_k_theta_ts(teste, 'TC', 5)"
   ]
  },
  {
   "cell_type": "code",
   "execution_count": null,
   "id": "a8453c49",
   "metadata": {},
   "outputs": [],
   "source": []
  },
  {
   "cell_type": "markdown",
   "id": "5e5eef23",
   "metadata": {},
   "source": [
    "# Algoritmos de fila de Brahimi"
   ]
  },
  {
   "cell_type": "code",
   "execution_count": 28,
   "id": "0aece618",
   "metadata": {},
   "outputs": [],
   "source": [
    "def remover_tempos_servico(vetores_nx, C):\n",
    "    for n, xm_xi_x1, p_xm_xi_x1 in vetores_nx:\n",
    "        rems = np.maximum(xm_xi_x1 - C, 0)\n",
    "        movs = np.array([np.pad(xi, (1, 0), 'constant', constant_values=0)[:-1] for xi in np.minimum(xm_xi_x1, C)])\n",
    "        ym_yi_y1 = rems + movs\n",
    "        n1 = n - np.minimum(xm_xi_x1[:,-1], C).astype(int)\n",
    "        a = np.sum(ym_yi_y1, axis=1).astype(int)\n",
    "        \n",
    "        for vetor_n1_yi_a_px in zip(*(n1, ym_yi_y1, a, p_xm_xi_x1)):\n",
    "            yield vetor_n1_yi_a_px"
   ]
  },
  {
   "cell_type": "code",
   "execution_count": 22,
   "id": "4944bb71",
   "metadata": {},
   "outputs": [],
   "source": [
    "def ordenar_n1(vetores_n1_y_a_px):\n",
    "    for k, g in it.groupby(sorted(vetores_n1_y_a_px, key=itemgetter(0)), lambda x: x[0]):\n",
    "        yield k, [(v[1], v[2], v[3]) for v in g]"
   ]
  },
  {
   "cell_type": "code",
   "execution_count": 23,
   "id": "75fefb02",
   "metadata": {},
   "outputs": [],
   "source": [
    "def gerar_vetores_z(nnewst, m):\n",
    "    def gerar_zm_zi_z1(zj_z1, zm_zi_z1, st):\n",
    "        if zj_z1 == 0 and st == m:\n",
    "            z_combs.append(zm_zi_z1.copy())\n",
    "            return \n",
    "        if st == m:\n",
    "            return\n",
    "        for zj in range(zj_z1 + 1):\n",
    "            zm_zi_z1[st] = zj\n",
    "            gerar_zm_zi_z1(zj_z1 - zj, zm_zi_z1, st + 1)\n",
    "            zm_zi_z1[st] = 0\n",
    "\n",
    "    z_combs = []\n",
    "    zm_zi_z1 = np.zeros(m, dtype=int)\n",
    "    gerar_zm_zi_z1(nnewst, zm_zi_z1, 0)\n",
    "    \n",
    "    return np.array(z_combs)"
   ]
  },
  {
   "cell_type": "code",
   "execution_count": 186,
   "id": "723e0287",
   "metadata": {},
   "outputs": [],
   "source": [
    "def gerar_probs_z(nnewst, vetores_z, m, k, theta):\n",
    "    probs_ts = np.array([S(m - mi, k, theta) for mi in range(m)])\n",
    "    \n",
    "    return nnewst / np.prod(factorial(vetores_z), axis=1) * np.prod(probs_ts ** vetores_z, axis=1)"
   ]
  },
  {
   "cell_type": "code",
   "execution_count": 184,
   "id": "6a7cb08f",
   "metadata": {},
   "outputs": [],
   "source": [
    "def gerar_vetores_w(vetores_n_x, L, C, m, lamb, k, theta):\n",
    "    vetores_n1 = ordenar_n1(remover_tempos_servico(vetores_n_x, C))\n",
    "\n",
    "    for n1, vetores_y_a_px in vetores_n1:\n",
    "        r_max = L - n1\n",
    "\n",
    "        for r in range(r_max + 1):\n",
    "            n2 = min(n1 + r, L)\n",
    "\n",
    "            for ym_yi_y1, a, p_xm_xi_x1 in vetores_y_a_px:\n",
    "                nnewst = min(n2, C) - a\n",
    "\n",
    "                if nnewst == 0: continue\n",
    "                vetores_z = gerar_vetores_z(nnewst, m)\n",
    "                probs_z = gerar_probs_z(nnewst, vetores_z, m, k, theta)\n",
    "                vetores_w = ym_yi_y1 + vetores_z\n",
    "                probs_w = p_xm_xi_x1 * V(r, lamb) * probs_z\n",
    "\n",
    "                for n2, wm_wi_w1, p_wm_wi_w1 in zip(*(np.repeat(n2, len(vetores_w)), vetores_w, probs_w)):\n",
    "                    yield n2, list(wm_wi_w1), p_wm_wi_w1"
   ]
  },
  {
   "cell_type": "code",
   "execution_count": 26,
   "id": "0f7337d3",
   "metadata": {},
   "outputs": [],
   "source": [
    "def somar_probs_w(w):\n",
    "    for k, g in it.groupby(sorted(w, key=itemgetter(0, 1)), key=lambda x: (x[0], x[1])):\n",
    "        yield k[0], np.array(k[1]), sum([v[2] for v in g])"
   ]
  },
  {
   "cell_type": "code",
   "execution_count": 150,
   "id": "6d53c61d",
   "metadata": {},
   "outputs": [],
   "source": [
    "def ordenar_vetores_w(w_somado, m):\n",
    "    probs_w0 = 0\n",
    "    \n",
    "    for k, g in it.groupby(sorted(w_somado, key=itemgetter(0)), lambda x: x[0]):\n",
    "        wm_wi_w1, p_wm_wi_w1 = zip(*[(v[1], v[2]) for v in g])\n",
    "        probs_w0 += np.sum(p_wm_wi_w1)\n",
    "        \n",
    "        yield k, np.array(wm_wi_w1, dtype=int), np.array(p_wm_wi_w1, dtype=float)\n",
    "        \n",
    "    yield 0, np.array([np.zeros(m, dtype=int)], dtype=int), np.array([1 - probs_w0])"
   ]
  },
  {
   "cell_type": "code",
   "execution_count": 177,
   "id": "516f1fc7",
   "metadata": {},
   "outputs": [],
   "source": [
    "def matriz_resultados(vetores_w, L):\n",
    "    matriz = np.zeros((L + 1, L + 1), dtype=float)\n",
    "    \n",
    "    for n2, wm_wi_w1, p_wm_wi_w1 in vetores_w:\n",
    "        matriz[n2, np.sum(wm_wi_w1)] += p_wm_wi_w1\n",
    "        \n",
    "    return matriz"
   ]
  },
  {
   "cell_type": "code",
   "execution_count": 190,
   "id": "e1f2c234",
   "metadata": {},
   "outputs": [],
   "source": [
    "def processo_fila(T, L, C, m, lamb, k, theta):\n",
    "    probs_wt = []\n",
    "    vetores_0 = (0, np.zeros((1, m), dtype=int), np.array([1.])),\n",
    "    vetores_w, vetores_matriz = it.tee(gerar_vetores_w(vetores_0, L, C[0], m, lamb[0], k, theta))\n",
    "    probs_wt.append((T[0], matriz_resultados(vetores_matriz, L)))\n",
    "    vetores_prox_x = ordenar_vetores_w(somar_probs_w(vetores_w), m)\n",
    "\n",
    "    for t, c, l in zip(T[1:], C[1:], lamb[1:]):\n",
    "        #print(dt.datetime.now(), t, c, np.sum(np.sum(probs_wt[-1][1], axis=1) * np.arange(L + 1)))\n",
    "        if c == 0:\n",
    "            matriz_sistema_vazio = np.zeros((L + 1, L + 1), dtype=float)\n",
    "            matriz_sistema_vazio[0, 0] == 1.\n",
    "            probs_wt.append((t, matriz_sistema_vazio))\n",
    "            vetores_prox_x = (0, np.zeros((1, m), dtype=int), np.array([1.])),\n",
    "            continue\n",
    "            \n",
    "        vetores_w, vetores_matriz = it.tee(gerar_vetores_w(vetores_prox_x, L, c, m, l, k, theta))\n",
    "        probs_wt.append((t, matriz_resultados(vetores_matriz, L)))\n",
    "        vetores_prox_x = ordenar_vetores_w(somar_probs_w(vetores_w), m)\n",
    "        \n",
    "    return probs_wt"
   ]
  },
  {
   "cell_type": "code",
   "execution_count": null,
   "id": "1f61a9fa",
   "metadata": {
    "scrolled": true
   },
   "outputs": [],
   "source": [
    "Ls = np.sum(np.sum(probs_wt[-1][1], axis=1) * np.arange(L+1))"
   ]
  },
  {
   "cell_type": "code",
   "execution_count": null,
   "id": "f390e5a1",
   "metadata": {
    "scrolled": true
   },
   "outputs": [],
   "source": [
    "Lq = np.sum(np.sum(probs_wt[-1][1], axis=1)[4:] * (np.arange(4, L+1) - C))"
   ]
  },
  {
   "cell_type": "code",
   "execution_count": null,
   "id": "a0473327",
   "metadata": {},
   "outputs": [],
   "source": [
    "Wq = Lq / (lamb)"
   ]
  },
  {
   "cell_type": "code",
   "execution_count": null,
   "id": "34f81291",
   "metadata": {},
   "outputs": [],
   "source": [
    "Ws = Ls / lamb"
   ]
  },
  {
   "cell_type": "code",
   "execution_count": null,
   "id": "14f265cd",
   "metadata": {},
   "outputs": [],
   "source": [
    "Ls, Lq, Ws, Wq"
   ]
  },
  {
   "cell_type": "code",
   "execution_count": 303,
   "id": "95dbebf1",
   "metadata": {},
   "outputs": [
    {
     "data": {
      "text/plain": [
       "array([[6.06948321e-03],\n",
       "       [5.55869398e-03],\n",
       "       [5.26127898e-03],\n",
       "       [4.97738897e-03],\n",
       "       [4.73847370e-03],\n",
       "       [4.60994375e-03],\n",
       "       [4.57900277e-03],\n",
       "       [4.52254615e-03],\n",
       "       [4.55055943e-03],\n",
       "       [4.62099518e-03],\n",
       "       [4.69125992e-03],\n",
       "       [4.84131135e-03],\n",
       "       [5.07830770e-03],\n",
       "       [5.27318945e-03],\n",
       "       [5.56720613e-03],\n",
       "       [5.87426955e-03],\n",
       "       [6.25554845e-03],\n",
       "       [6.73052458e-03],\n",
       "       [7.45889008e-03],\n",
       "       [8.37610801e-03],\n",
       "       [9.36773412e-03],\n",
       "       [1.06414894e-02],\n",
       "       [1.22941746e-02],\n",
       "       [1.44623317e-02],\n",
       "       [1.73414249e-02],\n",
       "       [2.12155518e-02],\n",
       "       [2.65040957e-02],\n",
       "       [3.38360534e-02],\n",
       "       [4.41702683e-02],\n",
       "       [5.89930080e-02],\n",
       "       [8.06479297e-02],\n",
       "       [1.12896363e-01],\n",
       "       [1.61884979e-01],\n",
       "       [2.37846363e-01],\n",
       "       [3.58141205e-01],\n",
       "       [5.52800177e-01],\n",
       "       [8.74808082e-01],\n",
       "       [1.41955169e+00],\n",
       "       [2.36230950e+00],\n",
       "       [4.03194597e+00],\n",
       "       [7.05867506e+00],\n",
       "       [1.26763641e+01],\n",
       "       [2.33537598e+01],\n",
       "       [4.41400612e+01],\n",
       "       [8.55939423e+01],\n",
       "       [1.70295872e+02],\n",
       "       [3.47640802e+02],\n",
       "       [7.28174266e+02],\n",
       "       [1.56505112e+03],\n",
       "       [3.45159224e+03],\n",
       "       [7.81116936e+03],\n",
       "       [1.81394870e+04],\n",
       "       [4.32267070e+04],\n",
       "       [1.05706707e+05],\n",
       "       [2.65265351e+05],\n",
       "       [6.83108782e+05],\n",
       "       [1.80523540e+06],\n",
       "       [4.89570545e+06],\n",
       "       [1.36250045e+07],\n",
       "       [3.89134840e+07],\n",
       "       [1.14053215e+08],\n",
       "       [3.43052464e+08],\n",
       "       [1.05891372e+09],\n",
       "       [3.35435392e+09],\n",
       "       [1.09045201e+10],\n",
       "       [3.63793182e+10],\n",
       "       [1.24552841e+11],\n",
       "       [4.37626164e+11],\n",
       "       [1.57791752e+12],\n",
       "       [5.83427983e+12],\n",
       "       [2.18776390e+13],\n",
       "       [7.12469656e+13],\n",
       "       [7.97917668e+13],\n",
       "       [2.67111968e+13],\n",
       "       [7.32289500e+12],\n",
       "       [2.02631674e+12],\n",
       "       [5.74809069e+11],\n",
       "       [1.67327873e+11],\n",
       "       [4.99884067e+10],\n",
       "       [1.53259850e+10],\n",
       "       [4.82220531e+09],\n",
       "       [1.55711676e+09],\n",
       "       [5.16006079e+08],\n",
       "       [1.75487657e+08],\n",
       "       [6.12486341e+07],\n",
       "       [2.19383648e+07],\n",
       "       [8.06436242e+06],\n",
       "       [3.04224129e+06],\n",
       "       [1.17780931e+06],\n",
       "       [4.67965514e+05],\n",
       "       [1.90813913e+05],\n",
       "       [7.98478577e+04],\n",
       "       [3.42904493e+04],\n",
       "       [1.51126035e+04],\n",
       "       [6.83535380e+03],\n",
       "       [3.17276214e+03],\n",
       "       [1.51135962e+03],\n",
       "       [7.38840294e+02],\n",
       "       [3.70667129e+02],\n",
       "       [1.90838544e+02],\n",
       "       [1.00830926e+02],\n",
       "       [5.46717936e+01],\n",
       "       [3.04207529e+01],\n",
       "       [1.73703031e+01],\n",
       "       [1.01781185e+01],\n",
       "       [6.11983543e+00],\n",
       "       [3.77581269e+00],\n",
       "       [2.39035206e+00],\n",
       "       [1.55264092e+00],\n",
       "       [1.03468482e+00],\n",
       "       [7.07349942e-01],\n",
       "       [4.96020451e-01],\n",
       "       [3.56729336e-01],\n",
       "       [2.63067883e-01],\n",
       "       [1.98873851e-01],\n",
       "       [1.54073447e-01],\n",
       "       [1.22274873e-01],\n",
       "       [9.93513905e-02],\n",
       "       [8.25927955e-02],\n",
       "       [7.01887484e-02],\n",
       "       [6.09089274e-02],\n",
       "       [5.39017583e-02],\n",
       "       [4.85657325e-02],\n",
       "       [4.44659961e-02],\n",
       "       [4.12798782e-02],\n",
       "       [3.91238339e-02],\n",
       "       [3.70632369e-02],\n",
       "       [3.53334537e-02],\n",
       "       [3.38198347e-02],\n",
       "       [3.24401449e-02],\n",
       "       [3.11415063e-02],\n",
       "       [2.98954321e-02],\n",
       "       [2.86902033e-02],\n",
       "       [2.75214865e-02],\n",
       "       [2.63831067e-02],\n",
       "       [2.54983135e-02],\n",
       "       [2.43526350e-02],\n",
       "       [2.31570752e-02],\n",
       "       [2.18706079e-02],\n",
       "       [2.04612653e-02],\n",
       "       [1.89198420e-02],\n",
       "       [1.74335623e-02],\n",
       "       [1.57107801e-02],\n",
       "       [1.40040888e-02],\n",
       "       [1.23857092e-02],\n",
       "       [1.09119907e-02],\n",
       "       [9.61609169e-03],\n",
       "       [8.50895465e-03],\n",
       "       [7.58502833e-03],\n",
       "       [6.89467412e-03],\n",
       "       [6.28123060e-03],\n",
       "       [5.79746837e-03],\n",
       "       [5.53119552e-03],\n",
       "       [5.30014761e-03],\n",
       "       [5.14950478e-03],\n",
       "       [5.07042578e-03],\n",
       "       [5.10828061e-03],\n",
       "       [5.15497999e-03],\n",
       "       [5.20439154e-03],\n",
       "       [5.36252700e-03],\n",
       "       [5.51814818e-03],\n",
       "       [5.72694404e-03],\n",
       "       [6.05575790e-03],\n",
       "       [6.38590768e-03],\n",
       "       [6.85872398e-03],\n",
       "       [7.42205579e-03],\n",
       "       [8.08797792e-03],\n",
       "       [8.86639596e-03],\n",
       "       [9.65209831e-03],\n",
       "       [1.05212021e-02],\n",
       "       [1.14395051e-02],\n",
       "       [1.23467518e-02],\n",
       "       [1.31578343e-02],\n",
       "       [1.37762598e-02],\n",
       "       [1.41199781e-02],\n",
       "       [1.41492937e-02],\n",
       "       [1.38805771e-02],\n",
       "       [1.33772268e-02],\n",
       "       [1.28681076e-02],\n",
       "       [1.21428068e-02],\n",
       "       [1.15487097e-02],\n",
       "       [1.08648603e-02],\n",
       "       [1.02577069e-02],\n",
       "       [9.74276915e-03],\n",
       "       [9.32772694e-03],\n",
       "       [9.11995050e-03],\n",
       "       [8.91226396e-03],\n",
       "       [8.91733446e-03],\n",
       "       [9.04006223e-03],\n",
       "       [9.18255657e-03],\n",
       "       [9.45983516e-03],\n",
       "       [1.01233905e-02],\n",
       "       [1.07272653e-02],\n",
       "       [1.16583772e-02],\n",
       "       [1.26657435e-02],\n",
       "       [1.38925306e-02],\n",
       "       [1.53372407e-02],\n",
       "       [1.69729685e-02],\n",
       "       [1.87341948e-02],\n",
       "       [2.05071307e-02],\n",
       "       [2.21321828e-02],\n",
       "       [2.34262747e-02],\n",
       "       [2.42237378e-02],\n",
       "       [2.44205641e-02],\n",
       "       [2.42967295e-02],\n",
       "       [2.33151659e-02],\n",
       "       [2.19029448e-02],\n",
       "       [2.02081583e-02],\n",
       "       [1.83729922e-02],\n",
       "       [1.65164912e-02],\n",
       "       [1.47273754e-02],\n",
       "       [1.30638712e-02],\n",
       "       [1.17021762e-02],\n",
       "       [1.03477918e-02],\n",
       "       [9.16084966e-03],\n",
       "       [8.12934629e-03],\n",
       "       [7.23686152e-03],\n",
       "       [6.54752305e-03],\n",
       "       [5.94745308e-03],\n",
       "       [5.42428000e-03],\n",
       "       [4.90281986e-03],\n",
       "       [4.50767202e-03],\n",
       "       [4.10748372e-03],\n",
       "       [3.80945035e-03],\n",
       "       [3.55052593e-03],\n",
       "       [3.32694213e-03],\n",
       "       [3.09243638e-03],\n",
       "       [2.93150448e-03],\n",
       "       [2.83619696e-03],\n",
       "       [2.68375606e-03],\n",
       "       [2.66842669e-03],\n",
       "       [2.63134598e-03],\n",
       "       [2.60907800e-03],\n",
       "       [2.59923439e-03],\n",
       "       [2.59944688e-03],\n",
       "       [2.51908935e-03],\n",
       "       [2.44363792e-03],\n",
       "       [2.37108722e-03],\n",
       "       [2.51306363e-03],\n",
       "       [2.48239070e-03],\n",
       "       [2.45133444e-03],\n",
       "       [2.37369281e-03],\n",
       "       [2.29795827e-03],\n",
       "       [2.41060799e-03],\n",
       "       [2.49208111e-03],\n",
       "       [2.41936659e-03],\n",
       "       [2.40850684e-03],\n",
       "       [2.35318639e-03],\n",
       "       [2.54158933e-03],\n",
       "       [2.57551719e-03],\n",
       "       [2.56392091e-03],\n",
       "       [2.64272101e-03],\n",
       "       [2.82954804e-03],\n",
       "       [2.98436228e-03],\n",
       "       [3.38558928e-03],\n",
       "       [3.91971816e-03],\n",
       "       [4.30640262e-03],\n",
       "       [4.78221040e-03],\n",
       "       [5.15545821e-03],\n",
       "       [5.57152742e-03],\n",
       "       [6.23050817e-03],\n",
       "       [6.63432261e-03],\n",
       "       [6.92542808e-03],\n",
       "       [7.03079902e-03],\n",
       "       [6.90463503e-03],\n",
       "       [6.55127911e-03],\n",
       "       [6.02390478e-03],\n",
       "       [5.39960882e-03],\n",
       "       [4.75052541e-03],\n",
       "       [4.12766267e-03],\n",
       "       [3.85575978e-03],\n",
       "       [3.45469187e-03],\n",
       "       [3.09549519e-03],\n",
       "       [2.77907221e-03],\n",
       "       [2.38482236e-03],\n",
       "       [2.15492971e-03],\n",
       "       [1.96079354e-03],\n",
       "       [1.90620842e-03],\n",
       "       [1.77613762e-03],\n",
       "       [1.67833655e-03],\n",
       "       [1.73633938e-03],\n",
       "       [1.57858433e-03],\n",
       "       [1.72266899e-03],\n",
       "       [1.77981465e-03],\n",
       "       [2.12827390e-03],\n",
       "       [2.76795287e-03],\n",
       "       [3.30671796e-03],\n",
       "       [5.60426645e-03]])"
      ]
     },
     "execution_count": 303,
     "metadata": {},
     "output_type": "execute_result"
    }
   ],
   "source": [
    "1/Lambda_t_fila"
   ]
  },
  {
   "cell_type": "code",
   "execution_count": 372,
   "id": "5d530287",
   "metadata": {},
   "outputs": [],
   "source": [
    "L = 60\n",
    "m = 9\n",
    "C1 = [0 if dt.datetime(2023, 1, 10, 3) <= t0 + dt.timedelta(seconds=t * 86400) < dt.datetime(2023, 1, 10, 9) else 1 for t in T_fila]\n",
    "_lamb = a_t_fila[1:]\n",
    "_theta = theta\n",
    "\n",
    "probs_estab_c1 = processo_fila(T_fila, L, C1, m, _lamb, k, _theta)"
   ]
  },
  {
   "cell_type": "code",
   "execution_count": 373,
   "id": "03aa1971",
   "metadata": {},
   "outputs": [],
   "source": [
    "L = 40\n",
    "m = 9\n",
    "C2 = [0 if dt.datetime(2023, 1, 10, 3) <= t0 + dt.timedelta(seconds=t * 86400) < dt.datetime(2023, 1, 10, 9) else 2 for t in T_fila]\n",
    "_lamb = a_t_fila[1:]\n",
    "_theta = theta\n",
    "\n",
    "probs_estab_c2 = processo_fila(T_fila, L, C2, m, _lamb, k, _theta)"
   ]
  },
  {
   "cell_type": "code",
   "execution_count": 374,
   "id": "bc2196bb",
   "metadata": {},
   "outputs": [],
   "source": [
    "L = 30\n",
    "m = 9\n",
    "C3 = [0 if dt.datetime(2023, 1, 10, 3) <= t0 + dt.timedelta(seconds=t * 86400) < dt.datetime(2023, 1, 10, 9) else 3 for t in T_fila]\n",
    "_lamb = a_t_fila[1:]\n",
    "_theta = theta\n",
    "\n",
    "probs_estab_c3 = processo_fila(T_fila, L, C3, m, _lamb, k, _theta)"
   ]
  },
  {
   "cell_type": "code",
   "execution_count": 392,
   "id": "daa16dc7",
   "metadata": {},
   "outputs": [
    {
     "data": {
      "text/plain": [
       "array([1.43918698e+00, 1.55793322e+00, 1.66040124e+00, 1.74411917e+00,\n",
       "       1.80768655e+00, 1.85074714e+00, 1.87385070e+00, 1.87823249e+00,\n",
       "       1.86554829e+00, 1.83760648e+00, 1.79613570e+00, 1.74261940e+00,\n",
       "       1.67821726e+00, 1.60377957e+00, 1.51994582e+00, 1.42730434e+00,\n",
       "       1.32657883e+00, 1.21880186e+00, 1.10543695e+00, 9.88420374e-01,\n",
       "       8.70109333e-01, 7.53142000e-01, 6.40232808e-01, 5.33938779e-01,\n",
       "       4.36437353e-01, 3.49352015e-01, 2.73650687e-01, 2.09626511e-01,\n",
       "       1.56955198e-01, 1.14810874e-01, 8.20155671e-02, 5.71965313e-02,\n",
       "       3.89295810e-02, 2.58536553e-02, 1.67497400e-02, 1.05843321e-02,\n",
       "       6.52266441e-03, 3.91957923e-03, 2.29647404e-03, 1.31175599e-03,\n",
       "       7.30434939e-04, 3.96478312e-04, 2.09769969e-04, 1.08176572e-04,\n",
       "       5.43716012e-05, 2.66345585e-05, 1.27157189e-05, 5.91626635e-06,\n",
       "       2.68260519e-06, 1.18538708e-06, 5.10447692e-07, 2.14202282e-07,\n",
       "       8.75938674e-08, 3.49056491e-08, 1.35545897e-08, 5.12911461e-09,\n",
       "       1.89130236e-09, 6.79578434e-10, 2.37944751e-10, 8.11836759e-11,\n",
       "       2.69907965e-11, 8.74411111e-12, 2.76037040e-12, 8.49121205e-13,\n",
       "       2.54519868e-13, 7.43400084e-14, 2.11579197e-14, 5.86802486e-15,\n",
       "       1.58704408e-15, 4.23229365e-16, 1.29960051e-16, 1.16042790e-16,\n",
       "       3.46643369e-16, 1.26442606e-15, 4.56950243e-15, 1.61084084e-14,\n",
       "       5.53360244e-14, 1.85228133e-13, 6.04154267e-13, 1.92012962e-12,\n",
       "       5.94641294e-12, 1.79440895e-11, 5.27630228e-11, 1.51174951e-10,\n",
       "       4.22057858e-10, 1.14817003e-09, 3.04356504e-09, 7.86142473e-09,\n",
       "       1.97862000e-08, 4.85250740e-08, 1.15961273e-07, 2.70024437e-07,\n",
       "       6.12684588e-07, 1.35461302e-06, 2.91835910e-06, 6.12644346e-06,\n",
       "       1.25321525e-05, 2.49799849e-05, 4.85188111e-05, 9.18295572e-05,\n",
       "       1.69360810e-04, 3.04373113e-04, 5.33051105e-04, 9.09722089e-04,\n",
       "       1.51299155e-03, 2.45225598e-03, 3.87359645e-03, 5.96355485e-03,\n",
       "       8.94886936e-03, 1.30900686e-02, 1.86670917e-02, 2.59559793e-02,\n",
       "       3.51972242e-02, 4.65584552e-02, 6.00963986e-02, 7.57249550e-02,\n",
       "       9.31970777e-02, 1.12107348e-01, 1.31919424e-01, 1.52018097e-01,\n",
       "       1.71780282e-01, 1.90654167e-01, 2.08232359e-01, 2.24304423e-01,\n",
       "       2.38877264e-01, 2.52158073e-01, 2.64502714e-01, 2.76340629e-01,\n",
       "       2.88093485e-01, 3.00107333e-01, 3.12616134e-01, 3.25748629e-01,\n",
       "       3.39581745e-01, 3.54234037e-01, 3.69983775e-01, 3.87389794e-01,\n",
       "       4.07390060e-01, 4.31353455e-01, 4.61064462e-01, 4.98627963e-01,\n",
       "       5.46291650e-01, 6.06195837e-01, 6.80073490e-01, 7.68935342e-01,\n",
       "       8.72783879e-01, 9.90403360e-01, 1.11926904e+00, 1.25560632e+00,\n",
       "       1.39461046e+00, 1.53081223e+00, 1.65854887e+00, 1.77247785e+00,\n",
       "       1.86805931e+00, 1.94193431e+00, 1.99214239e+00, 2.01815036e+00,\n",
       "       2.02069973e+00, 2.00151479e+00, 1.96293945e+00, 1.90758121e+00,\n",
       "       1.83803364e+00, 1.75672444e+00, 1.66590223e+00, 1.56773887e+00,\n",
       "       1.46449522e+00, 1.35868459e+00, 1.25317109e+00, 1.15116017e+00,\n",
       "       1.05606859e+00, 9.71292989e-01, 8.99921799e-01, 8.44448323e-01,\n",
       "       8.06540477e-01, 7.86907105e-01, 7.85276734e-01, 8.00479048e-01,\n",
       "       8.30598995e-01, 8.73162970e-01, 9.25317783e-01, 9.83974542e-01,\n",
       "       1.04590727e+00, 1.10781449e+00, 1.16636617e+00, 1.21826426e+00,\n",
       "       1.26034158e+00, 1.28971190e+00, 1.30396668e+00, 1.30139656e+00,\n",
       "       1.28120157e+00, 1.24364808e+00, 1.19013416e+00, 1.12313740e+00,\n",
       "       1.04603941e+00, 9.62842956e-01, 8.77818615e-01, 7.95131420e-01,\n",
       "       7.18502598e-01, 6.50955223e-01, 5.94677146e-01, 5.51013068e-01,\n",
       "       5.20574531e-01, 5.03436837e-01, 4.99379208e-01, 5.08121022e-01,\n",
       "       5.29512810e-01, 5.63653843e-01, 6.10925489e-01, 6.71947109e-01,\n",
       "       7.47475894e-01, 8.38281002e-01, 9.45024549e-01, 1.06817739e+00,\n",
       "       1.20798720e+00, 1.36450225e+00, 1.53763901e+00, 1.72726809e+00,\n",
       "       1.93328496e+00, 2.15563076e+00, 2.39423720e+00, 2.64888643e+00,\n",
       "       2.91900002e+00, 3.20339547e+00, 3.50006749e+00, 3.80605966e+00,\n",
       "       4.11748375e+00, 4.42972092e+00, 4.73780238e+00, 5.03692603e+00,\n",
       "       5.32303010e+00, 5.59332328e+00, 5.84667144e+00, 6.08376441e+00,\n",
       "       6.30702745e+00, 6.52029193e+00, 6.72828558e+00, 6.93603272e+00,\n",
       "       7.14826194e+00, 7.36890157e+00, 7.60070706e+00, 7.84502064e+00,\n",
       "       8.10162509e+00, 8.36863291e+00, 8.64235639e+00, 8.91713442e+00,\n",
       "       9.18514057e+00, 9.43625004e+00, 9.65808437e+00, 9.83636486e+00,\n",
       "       9.95568026e+00, 1.00007085e+01, 9.95783868e+00, 9.81703700e+00,\n",
       "       9.57371322e+00, 9.23029859e+00, 8.79725461e+00, 8.29329927e+00,\n",
       "       7.74475273e+00, 7.18404370e+00, 6.64755537e+00, 6.17309815e+00,\n",
       "       5.79735727e+00, 5.55366947e+00, 5.47043634e+00, 5.57039413e+00,\n",
       "       5.87084413e+00, 6.38481846e+00, 7.12302312e+00, 8.09627044e+00,\n",
       "       9.31799460e+00, 1.08063440e+01, 1.25852790e+01, 1.46840950e+01,\n",
       "       1.71348724e+01, 1.99675449e+01, 2.32026130e+01, 2.68419790e+01,\n",
       "       3.08589181e+01, 3.51887147e+01, 3.97218704e+01, 4.43018673e+01,\n",
       "       4.87291526e+01, 5.27722340e+01, 5.61856259e+01, 5.87330417e+01,\n",
       "       6.02129712e+01, 6.04829328e+01, 5.94784948e+01])"
      ]
     },
     "execution_count": 392,
     "metadata": {},
     "output_type": "execute_result"
    }
   ],
   "source": [
    "_lamb.reshape(1, -1)[0]"
   ]
  },
  {
   "cell_type": "code",
   "execution_count": 421,
   "id": "582cbf39",
   "metadata": {},
   "outputs": [],
   "source": [
    "L = 60\n",
    "L_c1 = [np.sum(np.sum(m, axis=1) * np.arange(L+1)) for _, m in probs_estab_c1]\n",
    "Lq_c1 = [np.sum(np.sum(m[c+1:], axis=1) * (np.arange(c+1, L+1) - c)) for (_, m), c in zip(probs_estab_c1, C1)]\n",
    "Wq_c1 = Lq_c1 / _theta\n",
    "Ws_c1 = L_c1 / _theta"
   ]
  },
  {
   "cell_type": "code",
   "execution_count": 422,
   "id": "2cd6c7af",
   "metadata": {},
   "outputs": [],
   "source": [
    "L = 40\n",
    "L_c2 = [np.sum(np.sum(m, axis=1) * np.arange(L+1)) for _, m in probs_estab_c2]\n",
    "Lq_c2 = [np.sum(np.sum(m[c+1:], axis=1) * (np.arange(c+1, L+1) - c)) for (_, m), c in zip(probs_estab_c2, C2)]\n",
    "Wq_c2 = Lq_c2 / _theta\n",
    "Ws_c2 = L_c2 / _theta"
   ]
  },
  {
   "cell_type": "code",
   "execution_count": 423,
   "id": "acb7aec7",
   "metadata": {},
   "outputs": [],
   "source": [
    "L = 30\n",
    "L_c3 = [np.sum(np.sum(m, axis=1) * np.arange(L+1)) for _, m in probs_estab_c3]\n",
    "Lq_c3 = [np.sum(np.sum(m[c+1:], axis=1) * (np.arange(c+1, L+1) - c)) for (_, m), c in zip(probs_estab_c3, C3)]\n",
    "Wq_c3 = Lq_c3 / _theta\n",
    "Ws_c3 = L_c3 / _theta"
   ]
  },
  {
   "cell_type": "code",
   "execution_count": 238,
   "id": "76f23251",
   "metadata": {},
   "outputs": [],
   "source": [
    "n_real = []\n",
    "\n",
    "for t in T_fila:\n",
    "    check = t0 + dt.timedelta(seconds=t * 86400)\n",
    "    n = len(teste[((teste['Término Entrega'] > check) & (teste['Início Entrega'] <= check)) | \n",
    "              ((teste['Término Entrega'] >= check - dt.timedelta(minutes=5)) & (teste['Término Entrega'] < check))])\n",
    "    n_real.append(n)"
   ]
  },
  {
   "cell_type": "code",
   "execution_count": 239,
   "id": "d57c830e",
   "metadata": {},
   "outputs": [],
   "source": [
    "x = [t0 + dt.timedelta(seconds=t * 86400) for t in T_fila[1:]]"
   ]
  },
  {
   "cell_type": "code",
   "execution_count": 425,
   "id": "5b0d4f85",
   "metadata": {},
   "outputs": [
    {
     "data": {
      "image/png": "[encoded data removed]",
      "text/plain": [
       "<Figure size 1440x720 with 4 Axes>"
      ]
     },
     "metadata": {
      "needs_background": "light"
     },
     "output_type": "display_data"
    }
   ],
   "source": [
    "fig, axs = plt.subplots(nrows=2, ncols=2, figsize=(20, 10))\n",
    "\n",
    "fmt = md.DateFormatter('%H:%M')\n",
    "\n",
    "axs[0, 0].plot(x, L_c1, label='1')\n",
    "axs[0, 0].plot(x, L_c2, label='2')\n",
    "axs[0, 0].plot(x, L_c3, label='3')\n",
    "axs[0, 0].fill_between(x, n_real[1:], color='gray', alpha=.3, label='Empírico')\n",
    "axs[0, 0].set_title('a) Média de usuários no sistema')\n",
    "axs[0, 0].set_ylabel('Usuários')\n",
    "\n",
    "axs[0, 1].plot(x, Lq_c1, label='1')\n",
    "axs[0, 1].plot(x, Lq_c2, label='2')\n",
    "axs[0, 1].plot(x, Lq_c3, label='3')\n",
    "axs[0, 1].set_title('b) Média de usuários na fila')\n",
    "\n",
    "axs[1, 0].plot(x, Ws_c1, label='1')\n",
    "axs[1, 0].plot(x, Ws_c2, label='2')\n",
    "axs[1, 0].plot(x, Ws_c3, label='3')\n",
    "axs[1, 0].set_title('c) Tempo médio no sistema')\n",
    "axs[1, 0].set_ylabel('Minutos')\n",
    "\n",
    "axs[1, 1].plot(x, Wq_c1, label='1')\n",
    "axs[1, 1].plot(x, Wq_c2, label='2')\n",
    "axs[1, 1].plot(x, Wq_c3, label='3')\n",
    "axs[1, 1].set_title('d) Tempo médio em espera')\n",
    "\n",
    "for ax in axs.ravel(): \n",
    "    ax.xaxis.set_major_formatter(fmt)\n",
    "    ax.legend(loc='upper center', ncol=4)"
   ]
  },
  {
   "cell_type": "code",
   "execution_count": 413,
   "id": "0c39602f",
   "metadata": {},
   "outputs": [],
   "source": [
    "L = 30\n",
    "m = 9\n",
    "C_escala = [\n",
    "    0 if dt.datetime(2023, 1, 10, 3) <= t0 + dt.timedelta(seconds=t * 86400) < dt.datetime(2023, 1, 10, 9) else\n",
    "    1 if dt.datetime(2023, 1, 10, 9) <= t0 + dt.timedelta(seconds=t * 86400) < dt.datetime(2023, 1, 10, 13) else \n",
    "    2 if dt.datetime(2023, 1, 10, 13) <= t0 + dt.timedelta(seconds=t * 86400) < dt.datetime(2023, 1, 10, 18) else\n",
    "    3 \n",
    "    for t in T_fila]\n",
    "_lamb = a_t_fila[1:]\n",
    "_theta = theta\n",
    "probs_estab_escala = processo_fila(T_fila, L, C_escala, m, _lamb, k, _theta)"
   ]
  },
  {
   "cell_type": "code",
   "execution_count": 426,
   "id": "13744581",
   "metadata": {},
   "outputs": [],
   "source": [
    "L_escala = [np.sum(np.sum(m, axis=1) * np.arange(L+1)) for _, m in probs_estab_escala]\n",
    "Lq_escala = [np.sum(np.sum(m[c+1:], axis=1) * (np.arange(c+1, L+1) - c)) for (_, m), c in zip(probs_estab_escala, C_escala)]\n",
    "Wq_escala = Lq_escala / _theta\n",
    "Ws_escala = L_escala / _theta"
   ]
  },
  {
   "cell_type": "code",
   "execution_count": 432,
   "id": "a012472d",
   "metadata": {},
   "outputs": [
    {
     "data": {
      "image/png": "[encoded data removed]",
      "text/plain": [
       "<Figure size 1440x720 with 4 Axes>"
      ]
     },
     "metadata": {
      "needs_background": "light"
     },
     "output_type": "display_data"
    }
   ],
   "source": [
    "fig, axs = plt.subplots(nrows=2, ncols=2, figsize=(20, 10))\n",
    "\n",
    "fmt = md.DateFormatter('%H:%M')\n",
    "\n",
    "axs[0, 0].plot(x, L_escala)\n",
    "axs[0, 0].set_title('a) Média de usuários no sistema')\n",
    "axs[0, 0].set_ylabel('Usuários')\n",
    "axs[0, 1].plot(x, Lq_escala)\n",
    "axs[0, 1].set_title('b) Média de usuários na fila')\n",
    "axs[1, 0].plot(x, Ws_escala)\n",
    "axs[1, 0].set_title('c) Tempo médio no sistema')\n",
    "axs[1, 0].set_ylabel('Minutos')\n",
    "axs[1, 1].plot(x, Wq_escala)\n",
    "axs[1, 1].set_title('d) Tempo médio em espera')\n",
    "\n",
    "for ax in axs.ravel(): \n",
    "    ax.xaxis.set_major_formatter(fmt)"
   ]
  },
  {
   "cell_type": "code",
   "execution_count": 428,
   "id": "bb7e41e8",
   "metadata": {},
   "outputs": [
    {
     "data": {
      "text/plain": [
       "0.3194444444444444"
      ]
     },
     "execution_count": 428,
     "metadata": {},
     "output_type": "execute_result"
    }
   ],
   "source": [
    "sum([1 for l, c in zip(L_c1, C1) if l > c]) / len(T_fila)"
   ]
  },
  {
   "cell_type": "code",
   "execution_count": 429,
   "id": "cb48077a",
   "metadata": {},
   "outputs": [
    {
     "data": {
      "text/plain": [
       "0.2222222222222222"
      ]
     },
     "execution_count": 429,
     "metadata": {},
     "output_type": "execute_result"
    }
   ],
   "source": [
    "sum([1 for l, c in zip(L_c2, C2) if l > c]) / len(T_fila)"
   ]
  },
  {
   "cell_type": "code",
   "execution_count": 430,
   "id": "ba8d7868",
   "metadata": {},
   "outputs": [
    {
     "data": {
      "text/plain": [
       "0.2638888888888889"
      ]
     },
     "execution_count": 430,
     "metadata": {},
     "output_type": "execute_result"
    }
   ],
   "source": [
    "sum([1 for l, c in zip(L_c3, C3) if l > c]) / len(T_fila)"
   ]
  },
  {
   "cell_type": "code",
   "execution_count": 431,
   "id": "83c1e7f3",
   "metadata": {},
   "outputs": [
    {
     "data": {
      "text/plain": [
       "0.2604166666666667"
      ]
     },
     "execution_count": 431,
     "metadata": {},
     "output_type": "execute_result"
    }
   ],
   "source": [
    "sum([1 for l, c in zip(L_escala, C_escala) if l > c]) / len(T_fila)"
   ]
  }
 ],
 "metadata": {
  "kernelspec": {
   "display_name": "Python 3 (ipykernel)",
   "language": "python",
   "name": "python3"
  },
  "language_info": {
   "codemirror_mode": {
    "name": "ipython",
    "version": 3
   },
   "file_extension": ".py",
   "mimetype": "text/x-python",
   "name": "python",
   "nbconvert_exporter": "python",
   "pygments_lexer": "ipython3",
   "version": "3.9.12"
  }
 },
 "nbformat": 4,
 "nbformat_minor": 5
}
